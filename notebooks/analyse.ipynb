{
 "cells": [
  {
   "cell_type": "markdown",
   "metadata": {},
   "source": [
    "# Performance Analysis\n",
    "\n",
    "Performance analysis of hill climing agents"
   ]
  },
  {
   "cell_type": "code",
   "execution_count": 2,
   "metadata": {},
   "outputs": [],
   "source": [
    "import os\n",
    "from glob import glob\n",
    "import pickle\n",
    "import numpy as np\n",
    "import pandas as pd\n",
    "import altair as alt\n",
    "import matplotlib.pyplot as plt\n",
    "%matplotlib inline"
   ]
  },
  {
   "cell_type": "markdown",
   "metadata": {},
   "source": [
    "Load pickled data"
   ]
  },
  {
   "cell_type": "code",
   "execution_count": 3,
   "metadata": {},
   "outputs": [],
   "source": [
    "data_dir = \"../src/runs/\""
   ]
  },
  {
   "cell_type": "code",
   "execution_count": 4,
   "metadata": {},
   "outputs": [],
   "source": [
    "def latest_run(data_dir, agent):\n",
    "    dirnames = glob('{}/{}/*'.format(data_dir, agent))\n",
    "    idx = np.argmax([dirname.split('/')[-1] for dirname in dirnames])\n",
    "    return dirnames[idx]"
   ]
  },
  {
   "cell_type": "code",
   "execution_count": 5,
   "metadata": {},
   "outputs": [
    {
     "name": "stdout",
     "output_type": "stream",
     "text": [
      "../src/runs//vanilla/20181015180710\n"
     ]
    }
   ],
   "source": [
    "latest_vanilla = latest_run(data_dir, 'vanilla')\n",
    "print(latest_vanilla)"
   ]
  },
  {
   "cell_type": "code",
   "execution_count": 6,
   "metadata": {},
   "outputs": [
    {
     "data": {
      "text/plain": [
       "True"
      ]
     },
     "execution_count": 6,
     "metadata": {},
     "output_type": "execute_result"
    }
   ],
   "source": [
    "pkl_filename = '{}/data.pkl'.format(latest_vanilla)\n",
    "os.path.exists(pkl_filename)"
   ]
  },
  {
   "cell_type": "code",
   "execution_count": 7,
   "metadata": {},
   "outputs": [],
   "source": [
    "data = pickle.load(open(pkl_filename, 'rb'))"
   ]
  },
  {
   "cell_type": "markdown",
   "metadata": {},
   "source": [
    "Review whats inside data"
   ]
  },
  {
   "cell_type": "code",
   "execution_count": 8,
   "metadata": {},
   "outputs": [
    {
     "data": {
      "text/plain": [
       "Namespace(env='CartPole-v0', episodes=1000, gamma=1.0, goal=200, policy='vanilla', runs=1000, steps=1000)"
      ]
     },
     "execution_count": 8,
     "metadata": {},
     "output_type": "execute_result"
    }
   ],
   "source": [
    "data['args']"
   ]
  },
  {
   "cell_type": "code",
   "execution_count": 9,
   "metadata": {},
   "outputs": [],
   "source": [
    "all_rewards = data['all_rewards']"
   ]
  },
  {
   "cell_type": "code",
   "execution_count": 10,
   "metadata": {},
   "outputs": [
    {
     "data": {
      "text/plain": [
       "1000"
      ]
     },
     "execution_count": 10,
     "metadata": {},
     "output_type": "execute_result"
    }
   ],
   "source": [
    "len(all_rewards)"
   ]
  },
  {
   "cell_type": "code",
   "execution_count": 11,
   "metadata": {},
   "outputs": [
    {
     "name": "stdout",
     "output_type": "stream",
     "text": [
      "216\n",
      "1\n",
      "230\n"
     ]
    }
   ],
   "source": [
    "print(len(all_rewards[0]))\n",
    "print(len(all_rewards[10]))\n",
    "print(len(all_rewards[100]))"
   ]
  },
  {
   "cell_type": "markdown",
   "metadata": {},
   "source": [
    "Lets us pandas to get stats and help with plotting"
   ]
  },
  {
   "cell_type": "code",
   "execution_count": 12,
   "metadata": {},
   "outputs": [],
   "source": [
    "solved_per_run = {run:len(episodes) for run, episodes in all_rewards.items()}"
   ]
  },
  {
   "cell_type": "code",
   "execution_count": 13,
   "metadata": {},
   "outputs": [
    {
     "data": {
      "text/html": [
       "<div>\n",
       "<style scoped>\n",
       "    .dataframe tbody tr th:only-of-type {\n",
       "        vertical-align: middle;\n",
       "    }\n",
       "\n",
       "    .dataframe tbody tr th {\n",
       "        vertical-align: top;\n",
       "    }\n",
       "\n",
       "    .dataframe thead th {\n",
       "        text-align: right;\n",
       "    }\n",
       "</style>\n",
       "<table border=\"1\" class=\"dataframe\">\n",
       "  <thead>\n",
       "    <tr style=\"text-align: right;\">\n",
       "      <th></th>\n",
       "      <th>runs</th>\n",
       "      <th>episodes</th>\n",
       "    </tr>\n",
       "  </thead>\n",
       "  <tbody>\n",
       "    <tr>\n",
       "      <th>0</th>\n",
       "      <td>0</td>\n",
       "      <td>216</td>\n",
       "    </tr>\n",
       "    <tr>\n",
       "      <th>1</th>\n",
       "      <td>1</td>\n",
       "      <td>217</td>\n",
       "    </tr>\n",
       "    <tr>\n",
       "      <th>2</th>\n",
       "      <td>2</td>\n",
       "      <td>216</td>\n",
       "    </tr>\n",
       "    <tr>\n",
       "      <th>3</th>\n",
       "      <td>3</td>\n",
       "      <td>1</td>\n",
       "    </tr>\n",
       "    <tr>\n",
       "      <th>4</th>\n",
       "      <td>4</td>\n",
       "      <td>1</td>\n",
       "    </tr>\n",
       "  </tbody>\n",
       "</table>\n",
       "</div>"
      ],
      "text/plain": [
       "   runs  episodes\n",
       "0     0       216\n",
       "1     1       217\n",
       "2     2       216\n",
       "3     3         1\n",
       "4     4         1"
      ]
     },
     "execution_count": 13,
     "metadata": {},
     "output_type": "execute_result"
    }
   ],
   "source": [
    "df = pd.DataFrame.from_dict({'runs': list(solved_per_run.keys()), 'episodes': list(solved_per_run.values())})\n",
    "df.head()"
   ]
  },
  {
   "cell_type": "code",
   "execution_count": 14,
   "metadata": {},
   "outputs": [
    {
     "data": {
      "text/html": [
       "<div>\n",
       "<style scoped>\n",
       "    .dataframe tbody tr th:only-of-type {\n",
       "        vertical-align: middle;\n",
       "    }\n",
       "\n",
       "    .dataframe tbody tr th {\n",
       "        vertical-align: top;\n",
       "    }\n",
       "\n",
       "    .dataframe thead th {\n",
       "        text-align: right;\n",
       "    }\n",
       "</style>\n",
       "<table border=\"1\" class=\"dataframe\">\n",
       "  <thead>\n",
       "    <tr style=\"text-align: right;\">\n",
       "      <th></th>\n",
       "      <th>runs</th>\n",
       "      <th>episodes</th>\n",
       "    </tr>\n",
       "  </thead>\n",
       "  <tbody>\n",
       "    <tr>\n",
       "      <th>count</th>\n",
       "      <td>1000.000000</td>\n",
       "      <td>1000.000</td>\n",
       "    </tr>\n",
       "    <tr>\n",
       "      <th>mean</th>\n",
       "      <td>499.500000</td>\n",
       "      <td>367.374</td>\n",
       "    </tr>\n",
       "    <tr>\n",
       "      <th>std</th>\n",
       "      <td>288.819436</td>\n",
       "      <td>399.116</td>\n",
       "    </tr>\n",
       "    <tr>\n",
       "      <th>min</th>\n",
       "      <td>0.000000</td>\n",
       "      <td>1.000</td>\n",
       "    </tr>\n",
       "    <tr>\n",
       "      <th>25%</th>\n",
       "      <td>249.750000</td>\n",
       "      <td>1.000</td>\n",
       "    </tr>\n",
       "    <tr>\n",
       "      <th>50%</th>\n",
       "      <td>499.500000</td>\n",
       "      <td>217.000</td>\n",
       "    </tr>\n",
       "    <tr>\n",
       "      <th>75%</th>\n",
       "      <td>749.250000</td>\n",
       "      <td>912.000</td>\n",
       "    </tr>\n",
       "    <tr>\n",
       "      <th>max</th>\n",
       "      <td>999.000000</td>\n",
       "      <td>1000.000</td>\n",
       "    </tr>\n",
       "  </tbody>\n",
       "</table>\n",
       "</div>"
      ],
      "text/plain": [
       "              runs  episodes\n",
       "count  1000.000000  1000.000\n",
       "mean    499.500000   367.374\n",
       "std     288.819436   399.116\n",
       "min       0.000000     1.000\n",
       "25%     249.750000     1.000\n",
       "50%     499.500000   217.000\n",
       "75%     749.250000   912.000\n",
       "max     999.000000  1000.000"
      ]
     },
     "execution_count": 14,
     "metadata": {},
     "output_type": "execute_result"
    }
   ],
   "source": [
    "df.describe()"
   ]
  },
  {
   "cell_type": "code",
   "execution_count": 15,
   "metadata": {},
   "outputs": [
    {
     "data": {
      "text/plain": [
       "<matplotlib.axes._subplots.AxesSubplot at 0x7f1d893780f0>"
      ]
     },
     "execution_count": 15,
     "metadata": {},
     "output_type": "execute_result"
    },
    {
     "data": {
      "image/png": "[encoded data removed]",
      "text/plain": [
       "<Figure size 432x288 with 1 Axes>"
      ]
     },
     "metadata": {
      "needs_background": "light"
     },
     "output_type": "display_data"
    }
   ],
   "source": [
    "df['episodes'].value_counts().plot(kind='hist')"
   ]
  },
  {
   "cell_type": "markdown",
   "metadata": {},
   "source": [
    "Very skewed histogram, perhaps we can do better by using log scale"
   ]
  },
  {
   "cell_type": "code",
   "execution_count": 16,
   "metadata": {},
   "outputs": [
    {
     "data": {
      "text/plain": [
       "<matplotlib.axes._subplots.AxesSubplot at 0x7f1d8903beb8>"
      ]
     },
     "execution_count": 16,
     "metadata": {},
     "output_type": "execute_result"
    },
    {
     "data": {
      "image/png": "[encoded data removed]",
      "text/plain": [
       "<Figure size 432x288 with 1 Axes>"
      ]
     },
     "metadata": {
      "needs_background": "light"
     },
     "output_type": "display_data"
    }
   ],
   "source": [
    "df['episodes'].value_counts().plot(kind='hist', logx=True)"
   ]
  },
  {
   "cell_type": "markdown",
   "metadata": {},
   "source": [
    "Well, it isn't really helpful because we need to see the episodes too.\n",
    "\n",
    "We are going to use altair to get interactive plots"
   ]
  },
  {
   "cell_type": "code",
   "execution_count": 168,
   "metadata": {},
   "outputs": [
    {
     "data": {
      "application/vnd.vegalite.v2+json": {
       "$schema": "https://vega.github.io/schema/vega-lite/v2.6.0.json",
       "config": {
        "view": {
         "height": 300,
         "width": 400
        }
       },
       "datasets": {
        "data-05862166270760960cb395e375ae4ae0": [
         {
          "episodes": 216,
          "runs": 0
         },
         {
          "episodes": 217,
          "runs": 1
         },
         {
          "episodes": 216,
          "runs": 2
         },
         {
          "episodes": 1,
          "runs": 3
         },
         {
          "episodes": 1,
          "runs": 4
         },
         {
          "episodes": 1,
          "runs": 5
         },
         {
          "episodes": 217,
          "runs": 6
         },
         {
          "episodes": 1,
          "runs": 7
         },
         {
          "episodes": 912,
          "runs": 8
         },
         {
          "episodes": 934,
          "runs": 9
         },
         {
          "episodes": 1,
          "runs": 10
         },
         {
          "episodes": 933,
          "runs": 11
         },
         {
          "episodes": 1,
          "runs": 12
         },
         {
          "episodes": 1,
          "runs": 13
         },
         {
          "episodes": 912,
          "runs": 14
         },
         {
          "episodes": 229,
          "runs": 15
         },
         {
          "episodes": 1000,
          "runs": 16
         },
         {
          "episodes": 1000,
          "runs": 17
         },
         {
          "episodes": 216,
          "runs": 18
         },
         {
          "episodes": 231,
          "runs": 19
         },
         {
          "episodes": 909,
          "runs": 20
         },
         {
          "episodes": 1,
          "runs": 21
         },
         {
          "episodes": 1,
          "runs": 22
         },
         {
          "episodes": 232,
          "runs": 23
         },
         {
          "episodes": 932,
          "runs": 24
         },
         {
          "episodes": 1,
          "runs": 25
         },
         {
          "episodes": 1,
          "runs": 26
         },
         {
          "episodes": 1,
          "runs": 27
         },
         {
          "episodes": 1000,
          "runs": 28
         },
         {
          "episodes": 225,
          "runs": 29
         },
         {
          "episodes": 217,
          "runs": 30
         },
         {
          "episodes": 1,
          "runs": 31
         },
         {
          "episodes": 1,
          "runs": 32
         },
         {
          "episodes": 1,
          "runs": 33
         },
         {
          "episodes": 1000,
          "runs": 34
         },
         {
          "episodes": 1,
          "runs": 35
         },
         {
          "episodes": 242,
          "runs": 36
         },
         {
          "episodes": 1,
          "runs": 37
         },
         {
          "episodes": 912,
          "runs": 38
         },
         {
          "episodes": 235,
          "runs": 39
         },
         {
          "episodes": 1,
          "runs": 40
         },
         {
          "episodes": 217,
          "runs": 41
         },
         {
          "episodes": 999,
          "runs": 42
         },
         {
          "episodes": 1,
          "runs": 43
         },
         {
          "episodes": 1000,
          "runs": 44
         },
         {
          "episodes": 216,
          "runs": 45
         },
         {
          "episodes": 229,
          "runs": 46
         },
         {
          "episodes": 226,
          "runs": 47
         },
         {
          "episodes": 1000,
          "runs": 48
         },
         {
          "episodes": 217,
          "runs": 49
         },
         {
          "episodes": 1,
          "runs": 50
         },
         {
          "episodes": 1,
          "runs": 51
         },
         {
          "episodes": 922,
          "runs": 52
         },
         {
          "episodes": 225,
          "runs": 53
         },
         {
          "episodes": 222,
          "runs": 54
         },
         {
          "episodes": 1,
          "runs": 55
         },
         {
          "episodes": 1,
          "runs": 56
         },
         {
          "episodes": 1000,
          "runs": 57
         },
         {
          "episodes": 217,
          "runs": 58
         },
         {
          "episodes": 1000,
          "runs": 59
         },
         {
          "episodes": 217,
          "runs": 60
         },
         {
          "episodes": 912,
          "runs": 61
         },
         {
          "episodes": 232,
          "runs": 62
         },
         {
          "episodes": 1,
          "runs": 63
         },
         {
          "episodes": 217,
          "runs": 64
         },
         {
          "episodes": 232,
          "runs": 65
         },
         {
          "episodes": 230,
          "runs": 66
         },
         {
          "episodes": 230,
          "runs": 67
         },
         {
          "episodes": 1,
          "runs": 68
         },
         {
          "episodes": 217,
          "runs": 69
         },
         {
          "episodes": 216,
          "runs": 70
         },
         {
          "episodes": 1,
          "runs": 71
         },
         {
          "episodes": 1,
          "runs": 72
         },
         {
          "episodes": 935,
          "runs": 73
         },
         {
          "episodes": 894,
          "runs": 74
         },
         {
          "episodes": 1000,
          "runs": 75
         },
         {
          "episodes": 1,
          "runs": 76
         },
         {
          "episodes": 216,
          "runs": 77
         },
         {
          "episodes": 219,
          "runs": 78
         },
         {
          "episodes": 1,
          "runs": 79
         },
         {
          "episodes": 217,
          "runs": 80
         },
         {
          "episodes": 230,
          "runs": 81
         },
         {
          "episodes": 1000,
          "runs": 82
         },
         {
          "episodes": 216,
          "runs": 83
         },
         {
          "episodes": 217,
          "runs": 84
         },
         {
          "episodes": 217,
          "runs": 85
         },
         {
          "episodes": 1,
          "runs": 86
         },
         {
          "episodes": 1,
          "runs": 87
         },
         {
          "episodes": 230,
          "runs": 88
         },
         {
          "episodes": 1,
          "runs": 89
         },
         {
          "episodes": 1000,
          "runs": 90
         },
         {
          "episodes": 1000,
          "runs": 91
         },
         {
          "episodes": 1000,
          "runs": 92
         },
         {
          "episodes": 764,
          "runs": 93
         },
         {
          "episodes": 764,
          "runs": 94
         },
         {
          "episodes": 1,
          "runs": 95
         },
         {
          "episodes": 1,
          "runs": 96
         },
         {
          "episodes": 217,
          "runs": 97
         },
         {
          "episodes": 217,
          "runs": 98
         },
         {
          "episodes": 1,
          "runs": 99
         },
         {
          "episodes": 230,
          "runs": 100
         },
         {
          "episodes": 909,
          "runs": 101
         },
         {
          "episodes": 1,
          "runs": 102
         },
         {
          "episodes": 1,
          "runs": 103
         },
         {
          "episodes": 217,
          "runs": 104
         },
         {
          "episodes": 217,
          "runs": 105
         },
         {
          "episodes": 944,
          "runs": 106
         },
         {
          "episodes": 217,
          "runs": 107
         },
         {
          "episodes": 230,
          "runs": 108
         },
         {
          "episodes": 1000,
          "runs": 109
         },
         {
          "episodes": 1,
          "runs": 110
         },
         {
          "episodes": 1,
          "runs": 111
         },
         {
          "episodes": 1,
          "runs": 112
         },
         {
          "episodes": 1000,
          "runs": 113
         },
         {
          "episodes": 1,
          "runs": 114
         },
         {
          "episodes": 216,
          "runs": 115
         },
         {
          "episodes": 216,
          "runs": 116
         },
         {
          "episodes": 1000,
          "runs": 117
         },
         {
          "episodes": 1,
          "runs": 118
         },
         {
          "episodes": 1,
          "runs": 119
         },
         {
          "episodes": 229,
          "runs": 120
         },
         {
          "episodes": 1,
          "runs": 121
         },
         {
          "episodes": 567,
          "runs": 122
         },
         {
          "episodes": 1000,
          "runs": 123
         },
         {
          "episodes": 1000,
          "runs": 124
         },
         {
          "episodes": 914,
          "runs": 125
         },
         {
          "episodes": 1000,
          "runs": 126
         },
         {
          "episodes": 217,
          "runs": 127
         },
         {
          "episodes": 1000,
          "runs": 128
         },
         {
          "episodes": 217,
          "runs": 129
         },
         {
          "episodes": 1,
          "runs": 130
         },
         {
          "episodes": 755,
          "runs": 131
         },
         {
          "episodes": 1,
          "runs": 132
         },
         {
          "episodes": 1,
          "runs": 133
         },
         {
          "episodes": 230,
          "runs": 134
         },
         {
          "episodes": 1,
          "runs": 135
         },
         {
          "episodes": 1,
          "runs": 136
         },
         {
          "episodes": 1,
          "runs": 137
         },
         {
          "episodes": 217,
          "runs": 138
         },
         {
          "episodes": 217,
          "runs": 139
         },
         {
          "episodes": 1000,
          "runs": 140
         },
         {
          "episodes": 1,
          "runs": 141
         },
         {
          "episodes": 1,
          "runs": 142
         },
         {
          "episodes": 230,
          "runs": 143
         },
         {
          "episodes": 230,
          "runs": 144
         },
         {
          "episodes": 1,
          "runs": 145
         },
         {
          "episodes": 1000,
          "runs": 146
         },
         {
          "episodes": 229,
          "runs": 147
         },
         {
          "episodes": 217,
          "runs": 148
         },
         {
          "episodes": 230,
          "runs": 149
         },
         {
          "episodes": 217,
          "runs": 150
         },
         {
          "episodes": 935,
          "runs": 151
         },
         {
          "episodes": 1,
          "runs": 152
         },
         {
          "episodes": 355,
          "runs": 153
         },
         {
          "episodes": 217,
          "runs": 154
         },
         {
          "episodes": 1,
          "runs": 155
         },
         {
          "episodes": 1,
          "runs": 156
         },
         {
          "episodes": 1,
          "runs": 157
         },
         {
          "episodes": 1000,
          "runs": 158
         },
         {
          "episodes": 235,
          "runs": 159
         },
         {
          "episodes": 1,
          "runs": 160
         },
         {
          "episodes": 753,
          "runs": 161
         },
         {
          "episodes": 223,
          "runs": 162
         },
         {
          "episodes": 1,
          "runs": 163
         },
         {
          "episodes": 912,
          "runs": 164
         },
         {
          "episodes": 1,
          "runs": 165
         },
         {
          "episodes": 1,
          "runs": 166
         },
         {
          "episodes": 1,
          "runs": 167
         },
         {
          "episodes": 1,
          "runs": 168
         },
         {
          "episodes": 759,
          "runs": 169
         },
         {
          "episodes": 1,
          "runs": 170
         },
         {
          "episodes": 909,
          "runs": 171
         },
         {
          "episodes": 1,
          "runs": 172
         },
         {
          "episodes": 927,
          "runs": 173
         },
         {
          "episodes": 216,
          "runs": 174
         },
         {
          "episodes": 216,
          "runs": 175
         },
         {
          "episodes": 1000,
          "runs": 176
         },
         {
          "episodes": 955,
          "runs": 177
         },
         {
          "episodes": 235,
          "runs": 178
         },
         {
          "episodes": 1,
          "runs": 179
         },
         {
          "episodes": 1,
          "runs": 180
         },
         {
          "episodes": 952,
          "runs": 181
         },
         {
          "episodes": 1,
          "runs": 182
         },
         {
          "episodes": 949,
          "runs": 183
         },
         {
          "episodes": 1,
          "runs": 184
         },
         {
          "episodes": 1,
          "runs": 185
         },
         {
          "episodes": 217,
          "runs": 186
         },
         {
          "episodes": 217,
          "runs": 187
         },
         {
          "episodes": 1,
          "runs": 188
         },
         {
          "episodes": 1,
          "runs": 189
         },
         {
          "episodes": 216,
          "runs": 190
         },
         {
          "episodes": 1000,
          "runs": 191
         },
         {
          "episodes": 217,
          "runs": 192
         },
         {
          "episodes": 1000,
          "runs": 193
         },
         {
          "episodes": 1,
          "runs": 194
         },
         {
          "episodes": 229,
          "runs": 195
         },
         {
          "episodes": 915,
          "runs": 196
         },
         {
          "episodes": 217,
          "runs": 197
         },
         {
          "episodes": 1,
          "runs": 198
         },
         {
          "episodes": 1,
          "runs": 199
         },
         {
          "episodes": 1,
          "runs": 200
         },
         {
          "episodes": 1,
          "runs": 201
         },
         {
          "episodes": 232,
          "runs": 202
         },
         {
          "episodes": 1,
          "runs": 203
         },
         {
          "episodes": 226,
          "runs": 204
         },
         {
          "episodes": 1,
          "runs": 205
         },
         {
          "episodes": 1,
          "runs": 206
         },
         {
          "episodes": 759,
          "runs": 207
         },
         {
          "episodes": 217,
          "runs": 208
         },
         {
          "episodes": 216,
          "runs": 209
         },
         {
          "episodes": 1,
          "runs": 210
         },
         {
          "episodes": 1,
          "runs": 211
         },
         {
          "episodes": 930,
          "runs": 212
         },
         {
          "episodes": 1,
          "runs": 213
         },
         {
          "episodes": 1,
          "runs": 214
         },
         {
          "episodes": 219,
          "runs": 215
         },
         {
          "episodes": 1000,
          "runs": 216
         },
         {
          "episodes": 1000,
          "runs": 217
         },
         {
          "episodes": 933,
          "runs": 218
         },
         {
          "episodes": 1,
          "runs": 219
         },
         {
          "episodes": 1,
          "runs": 220
         },
         {
          "episodes": 1000,
          "runs": 221
         },
         {
          "episodes": 1,
          "runs": 222
         },
         {
          "episodes": 1000,
          "runs": 223
         },
         {
          "episodes": 916,
          "runs": 224
         },
         {
          "episodes": 1,
          "runs": 225
         },
         {
          "episodes": 930,
          "runs": 226
         },
         {
          "episodes": 217,
          "runs": 227
         },
         {
          "episodes": 216,
          "runs": 228
         },
         {
          "episodes": 1,
          "runs": 229
         },
         {
          "episodes": 1,
          "runs": 230
         },
         {
          "episodes": 1,
          "runs": 231
         },
         {
          "episodes": 219,
          "runs": 232
         },
         {
          "episodes": 1000,
          "runs": 233
         },
         {
          "episodes": 927,
          "runs": 234
         },
         {
          "episodes": 759,
          "runs": 235
         },
         {
          "episodes": 912,
          "runs": 236
         },
         {
          "episodes": 217,
          "runs": 237
         },
         {
          "episodes": 753,
          "runs": 238
         },
         {
          "episodes": 230,
          "runs": 239
         },
         {
          "episodes": 1,
          "runs": 240
         },
         {
          "episodes": 1,
          "runs": 241
         },
         {
          "episodes": 1,
          "runs": 242
         },
         {
          "episodes": 235,
          "runs": 243
         },
         {
          "episodes": 1000,
          "runs": 244
         },
         {
          "episodes": 1,
          "runs": 245
         },
         {
          "episodes": 837,
          "runs": 246
         },
         {
          "episodes": 1,
          "runs": 247
         },
         {
          "episodes": 1000,
          "runs": 248
         },
         {
          "episodes": 1,
          "runs": 249
         },
         {
          "episodes": 764,
          "runs": 250
         },
         {
          "episodes": 1000,
          "runs": 251
         },
         {
          "episodes": 217,
          "runs": 252
         },
         {
          "episodes": 216,
          "runs": 253
         },
         {
          "episodes": 763,
          "runs": 254
         },
         {
          "episodes": 1,
          "runs": 255
         },
         {
          "episodes": 1,
          "runs": 256
         },
         {
          "episodes": 217,
          "runs": 257
         },
         {
          "episodes": 938,
          "runs": 258
         },
         {
          "episodes": 216,
          "runs": 259
         },
         {
          "episodes": 1000,
          "runs": 260
         },
         {
          "episodes": 219,
          "runs": 261
         },
         {
          "episodes": 912,
          "runs": 262
         },
         {
          "episodes": 1,
          "runs": 263
         },
         {
          "episodes": 1000,
          "runs": 264
         },
         {
          "episodes": 235,
          "runs": 265
         },
         {
          "episodes": 1,
          "runs": 266
         },
         {
          "episodes": 1,
          "runs": 267
         },
         {
          "episodes": 1,
          "runs": 268
         },
         {
          "episodes": 942,
          "runs": 269
         },
         {
          "episodes": 918,
          "runs": 270
         },
         {
          "episodes": 217,
          "runs": 271
         },
         {
          "episodes": 235,
          "runs": 272
         },
         {
          "episodes": 1,
          "runs": 273
         },
         {
          "episodes": 932,
          "runs": 274
         },
         {
          "episodes": 217,
          "runs": 275
         },
         {
          "episodes": 1,
          "runs": 276
         },
         {
          "episodes": 217,
          "runs": 277
         },
         {
          "episodes": 1,
          "runs": 278
         },
         {
          "episodes": 217,
          "runs": 279
         },
         {
          "episodes": 1,
          "runs": 280
         },
         {
          "episodes": 1,
          "runs": 281
         },
         {
          "episodes": 1,
          "runs": 282
         },
         {
          "episodes": 1000,
          "runs": 283
         },
         {
          "episodes": 1000,
          "runs": 284
         },
         {
          "episodes": 217,
          "runs": 285
         },
         {
          "episodes": 1,
          "runs": 286
         },
         {
          "episodes": 217,
          "runs": 287
         },
         {
          "episodes": 217,
          "runs": 288
         },
         {
          "episodes": 230,
          "runs": 289
         },
         {
          "episodes": 1000,
          "runs": 290
         },
         {
          "episodes": 1,
          "runs": 291
         },
         {
          "episodes": 1,
          "runs": 292
         },
         {
          "episodes": 1000,
          "runs": 293
         },
         {
          "episodes": 1,
          "runs": 294
         },
         {
          "episodes": 217,
          "runs": 295
         },
         {
          "episodes": 1000,
          "runs": 296
         },
         {
          "episodes": 1,
          "runs": 297
         },
         {
          "episodes": 1,
          "runs": 298
         },
         {
          "episodes": 230,
          "runs": 299
         },
         {
          "episodes": 1000,
          "runs": 300
         },
         {
          "episodes": 217,
          "runs": 301
         },
         {
          "episodes": 1,
          "runs": 302
         },
         {
          "episodes": 1,
          "runs": 303
         },
         {
          "episodes": 217,
          "runs": 304
         },
         {
          "episodes": 922,
          "runs": 305
         },
         {
          "episodes": 1,
          "runs": 306
         },
         {
          "episodes": 919,
          "runs": 307
         },
         {
          "episodes": 1000,
          "runs": 308
         },
         {
          "episodes": 1000,
          "runs": 309
         },
         {
          "episodes": 935,
          "runs": 310
         },
         {
          "episodes": 1,
          "runs": 311
         },
         {
          "episodes": 1,
          "runs": 312
         },
         {
          "episodes": 217,
          "runs": 313
         },
         {
          "episodes": 1,
          "runs": 314
         },
         {
          "episodes": 1,
          "runs": 315
         },
         {
          "episodes": 230,
          "runs": 316
         },
         {
          "episodes": 1000,
          "runs": 317
         },
         {
          "episodes": 912,
          "runs": 318
         },
         {
          "episodes": 1000,
          "runs": 319
         },
         {
          "episodes": 1000,
          "runs": 320
         },
         {
          "episodes": 1,
          "runs": 321
         },
         {
          "episodes": 945,
          "runs": 322
         },
         {
          "episodes": 915,
          "runs": 323
         },
         {
          "episodes": 1000,
          "runs": 324
         },
         {
          "episodes": 230,
          "runs": 325
         },
         {
          "episodes": 1,
          "runs": 326
         },
         {
          "episodes": 217,
          "runs": 327
         },
         {
          "episodes": 1,
          "runs": 328
         },
         {
          "episodes": 932,
          "runs": 329
         },
         {
          "episodes": 1,
          "runs": 330
         },
         {
          "episodes": 229,
          "runs": 331
         },
         {
          "episodes": 217,
          "runs": 332
         },
         {
          "episodes": 232,
          "runs": 333
         },
         {
          "episodes": 1,
          "runs": 334
         },
         {
          "episodes": 235,
          "runs": 335
         },
         {
          "episodes": 217,
          "runs": 336
         },
         {
          "episodes": 1000,
          "runs": 337
         },
         {
          "episodes": 1,
          "runs": 338
         },
         {
          "episodes": 223,
          "runs": 339
         },
         {
          "episodes": 217,
          "runs": 340
         },
         {
          "episodes": 1,
          "runs": 341
         },
         {
          "episodes": 1,
          "runs": 342
         },
         {
          "episodes": 752,
          "runs": 343
         },
         {
          "episodes": 1,
          "runs": 344
         },
         {
          "episodes": 934,
          "runs": 345
         },
         {
          "episodes": 925,
          "runs": 346
         },
         {
          "episodes": 219,
          "runs": 347
         },
         {
          "episodes": 230,
          "runs": 348
         },
         {
          "episodes": 217,
          "runs": 349
         },
         {
          "episodes": 1,
          "runs": 350
         },
         {
          "episodes": 1000,
          "runs": 351
         },
         {
          "episodes": 217,
          "runs": 352
         },
         {
          "episodes": 1,
          "runs": 353
         },
         {
          "episodes": 1,
          "runs": 354
         },
         {
          "episodes": 1,
          "runs": 355
         },
         {
          "episodes": 908,
          "runs": 356
         },
         {
          "episodes": 1,
          "runs": 357
         },
         {
          "episodes": 1,
          "runs": 358
         },
         {
          "episodes": 230,
          "runs": 359
         },
         {
          "episodes": 217,
          "runs": 360
         },
         {
          "episodes": 1000,
          "runs": 361
         },
         {
          "episodes": 1,
          "runs": 362
         },
         {
          "episodes": 1,
          "runs": 363
         },
         {
          "episodes": 1,
          "runs": 364
         },
         {
          "episodes": 899,
          "runs": 365
         },
         {
          "episodes": 1,
          "runs": 366
         },
         {
          "episodes": 217,
          "runs": 367
         },
         {
          "episodes": 1000,
          "runs": 368
         },
         {
          "episodes": 222,
          "runs": 369
         },
         {
          "episodes": 216,
          "runs": 370
         },
         {
          "episodes": 231,
          "runs": 371
         },
         {
          "episodes": 217,
          "runs": 372
         },
         {
          "episodes": 230,
          "runs": 373
         },
         {
          "episodes": 230,
          "runs": 374
         },
         {
          "episodes": 217,
          "runs": 375
         },
         {
          "episodes": 933,
          "runs": 376
         },
         {
          "episodes": 1,
          "runs": 377
         },
         {
          "episodes": 1,
          "runs": 378
         },
         {
          "episodes": 216,
          "runs": 379
         },
         {
          "episodes": 230,
          "runs": 380
         },
         {
          "episodes": 216,
          "runs": 381
         },
         {
          "episodes": 230,
          "runs": 382
         },
         {
          "episodes": 1,
          "runs": 383
         },
         {
          "episodes": 217,
          "runs": 384
         },
         {
          "episodes": 1,
          "runs": 385
         },
         {
          "episodes": 1,
          "runs": 386
         },
         {
          "episodes": 912,
          "runs": 387
         },
         {
          "episodes": 1,
          "runs": 388
         },
         {
          "episodes": 1,
          "runs": 389
         },
         {
          "episodes": 1,
          "runs": 390
         },
         {
          "episodes": 1,
          "runs": 391
         },
         {
          "episodes": 217,
          "runs": 392
         },
         {
          "episodes": 1000,
          "runs": 393
         },
         {
          "episodes": 226,
          "runs": 394
         },
         {
          "episodes": 912,
          "runs": 395
         },
         {
          "episodes": 944,
          "runs": 396
         },
         {
          "episodes": 1,
          "runs": 397
         },
         {
          "episodes": 217,
          "runs": 398
         },
         {
          "episodes": 933,
          "runs": 399
         },
         {
          "episodes": 216,
          "runs": 400
         },
         {
          "episodes": 1,
          "runs": 401
         },
         {
          "episodes": 1,
          "runs": 402
         },
         {
          "episodes": 1000,
          "runs": 403
         },
         {
          "episodes": 753,
          "runs": 404
         },
         {
          "episodes": 912,
          "runs": 405
         },
         {
          "episodes": 1000,
          "runs": 406
         },
         {
          "episodes": 217,
          "runs": 407
         },
         {
          "episodes": 1000,
          "runs": 408
         },
         {
          "episodes": 217,
          "runs": 409
         },
         {
          "episodes": 1000,
          "runs": 410
         },
         {
          "episodes": 226,
          "runs": 411
         },
         {
          "episodes": 223,
          "runs": 412
         },
         {
          "episodes": 1,
          "runs": 413
         },
         {
          "episodes": 235,
          "runs": 414
         },
         {
          "episodes": 216,
          "runs": 415
         },
         {
          "episodes": 230,
          "runs": 416
         },
         {
          "episodes": 1000,
          "runs": 417
         },
         {
          "episodes": 217,
          "runs": 418
         },
         {
          "episodes": 1,
          "runs": 419
         },
         {
          "episodes": 223,
          "runs": 420
         },
         {
          "episodes": 933,
          "runs": 421
         },
         {
          "episodes": 230,
          "runs": 422
         },
         {
          "episodes": 217,
          "runs": 423
         },
         {
          "episodes": 1000,
          "runs": 424
         },
         {
          "episodes": 933,
          "runs": 425
         },
         {
          "episodes": 1,
          "runs": 426
         },
         {
          "episodes": 1,
          "runs": 427
         },
         {
          "episodes": 1000,
          "runs": 428
         },
         {
          "episodes": 1,
          "runs": 429
         },
         {
          "episodes": 957,
          "runs": 430
         },
         {
          "episodes": 216,
          "runs": 431
         },
         {
          "episodes": 217,
          "runs": 432
         },
         {
          "episodes": 1,
          "runs": 433
         },
         {
          "episodes": 223,
          "runs": 434
         },
         {
          "episodes": 1000,
          "runs": 435
         },
         {
          "episodes": 1,
          "runs": 436
         },
         {
          "episodes": 763,
          "runs": 437
         },
         {
          "episodes": 1,
          "runs": 438
         },
         {
          "episodes": 927,
          "runs": 439
         },
         {
          "episodes": 912,
          "runs": 440
         },
         {
          "episodes": 1,
          "runs": 441
         },
         {
          "episodes": 1,
          "runs": 442
         },
         {
          "episodes": 1,
          "runs": 443
         },
         {
          "episodes": 217,
          "runs": 444
         },
         {
          "episodes": 1,
          "runs": 445
         },
         {
          "episodes": 1000,
          "runs": 446
         },
         {
          "episodes": 1,
          "runs": 447
         },
         {
          "episodes": 1,
          "runs": 448
         },
         {
          "episodes": 217,
          "runs": 449
         },
         {
          "episodes": 759,
          "runs": 450
         },
         {
          "episodes": 925,
          "runs": 451
         },
         {
          "episodes": 217,
          "runs": 452
         },
         {
          "episodes": 226,
          "runs": 453
         },
         {
          "episodes": 1,
          "runs": 454
         },
         {
          "episodes": 1,
          "runs": 455
         },
         {
          "episodes": 260,
          "runs": 456
         },
         {
          "episodes": 222,
          "runs": 457
         },
         {
          "episodes": 229,
          "runs": 458
         },
         {
          "episodes": 1000,
          "runs": 459
         },
         {
          "episodes": 590,
          "runs": 460
         },
         {
          "episodes": 229,
          "runs": 461
         },
         {
          "episodes": 1,
          "runs": 462
         },
         {
          "episodes": 217,
          "runs": 463
         },
         {
          "episodes": 1,
          "runs": 464
         },
         {
          "episodes": 217,
          "runs": 465
         },
         {
          "episodes": 229,
          "runs": 466
         },
         {
          "episodes": 951,
          "runs": 467
         },
         {
          "episodes": 1,
          "runs": 468
         },
         {
          "episodes": 569,
          "runs": 469
         },
         {
          "episodes": 930,
          "runs": 470
         },
         {
          "episodes": 229,
          "runs": 471
         },
         {
          "episodes": 1,
          "runs": 472
         },
         {
          "episodes": 217,
          "runs": 473
         },
         {
          "episodes": 925,
          "runs": 474
         },
         {
          "episodes": 216,
          "runs": 475
         },
         {
          "episodes": 1,
          "runs": 476
         },
         {
          "episodes": 1000,
          "runs": 477
         },
         {
          "episodes": 223,
          "runs": 478
         },
         {
          "episodes": 1,
          "runs": 479
         },
         {
          "episodes": 1,
          "runs": 480
         },
         {
          "episodes": 216,
          "runs": 481
         },
         {
          "episodes": 1,
          "runs": 482
         },
         {
          "episodes": 232,
          "runs": 483
         },
         {
          "episodes": 1,
          "runs": 484
         },
         {
          "episodes": 953,
          "runs": 485
         },
         {
          "episodes": 1,
          "runs": 486
         },
         {
          "episodes": 1,
          "runs": 487
         },
         {
          "episodes": 217,
          "runs": 488
         },
         {
          "episodes": 1000,
          "runs": 489
         },
         {
          "episodes": 1,
          "runs": 490
         },
         {
          "episodes": 1,
          "runs": 491
         },
         {
          "episodes": 1,
          "runs": 492
         },
         {
          "episodes": 1,
          "runs": 493
         },
         {
          "episodes": 230,
          "runs": 494
         },
         {
          "episodes": 1,
          "runs": 495
         },
         {
          "episodes": 1,
          "runs": 496
         },
         {
          "episodes": 217,
          "runs": 497
         },
         {
          "episodes": 1,
          "runs": 498
         },
         {
          "episodes": 1000,
          "runs": 499
         },
         {
          "episodes": 1,
          "runs": 500
         },
         {
          "episodes": 217,
          "runs": 501
         },
         {
          "episodes": 1,
          "runs": 502
         },
         {
          "episodes": 217,
          "runs": 503
         },
         {
          "episodes": 1000,
          "runs": 504
         },
         {
          "episodes": 1,
          "runs": 505
         },
         {
          "episodes": 1,
          "runs": 506
         },
         {
          "episodes": 1000,
          "runs": 507
         },
         {
          "episodes": 1000,
          "runs": 508
         },
         {
          "episodes": 230,
          "runs": 509
         },
         {
          "episodes": 1,
          "runs": 510
         },
         {
          "episodes": 912,
          "runs": 511
         },
         {
          "episodes": 1000,
          "runs": 512
         },
         {
          "episodes": 1,
          "runs": 513
         },
         {
          "episodes": 1000,
          "runs": 514
         },
         {
          "episodes": 942,
          "runs": 515
         },
         {
          "episodes": 226,
          "runs": 516
         },
         {
          "episodes": 912,
          "runs": 517
         },
         {
          "episodes": 1000,
          "runs": 518
         },
         {
          "episodes": 918,
          "runs": 519
         },
         {
          "episodes": 1000,
          "runs": 520
         },
         {
          "episodes": 216,
          "runs": 521
         },
         {
          "episodes": 1,
          "runs": 522
         },
         {
          "episodes": 226,
          "runs": 523
         },
         {
          "episodes": 912,
          "runs": 524
         },
         {
          "episodes": 216,
          "runs": 525
         },
         {
          "episodes": 217,
          "runs": 526
         },
         {
          "episodes": 1,
          "runs": 527
         },
         {
          "episodes": 1000,
          "runs": 528
         },
         {
          "episodes": 230,
          "runs": 529
         },
         {
          "episodes": 1,
          "runs": 530
         },
         {
          "episodes": 226,
          "runs": 531
         },
         {
          "episodes": 266,
          "runs": 532
         },
         {
          "episodes": 935,
          "runs": 533
         },
         {
          "episodes": 1000,
          "runs": 534
         },
         {
          "episodes": 1,
          "runs": 535
         },
         {
          "episodes": 1,
          "runs": 536
         },
         {
          "episodes": 1,
          "runs": 537
         },
         {
          "episodes": 217,
          "runs": 538
         },
         {
          "episodes": 764,
          "runs": 539
         },
         {
          "episodes": 1,
          "runs": 540
         },
         {
          "episodes": 230,
          "runs": 541
         },
         {
          "episodes": 1,
          "runs": 542
         },
         {
          "episodes": 1,
          "runs": 543
         },
         {
          "episodes": 932,
          "runs": 544
         },
         {
          "episodes": 229,
          "runs": 545
         },
         {
          "episodes": 1,
          "runs": 546
         },
         {
          "episodes": 217,
          "runs": 547
         },
         {
          "episodes": 949,
          "runs": 548
         },
         {
          "episodes": 912,
          "runs": 549
         },
         {
          "episodes": 230,
          "runs": 550
         },
         {
          "episodes": 1,
          "runs": 551
         },
         {
          "episodes": 894,
          "runs": 552
         },
         {
          "episodes": 1,
          "runs": 553
         },
         {
          "episodes": 217,
          "runs": 554
         },
         {
          "episodes": 935,
          "runs": 555
         },
         {
          "episodes": 223,
          "runs": 556
         },
         {
          "episodes": 229,
          "runs": 557
         },
         {
          "episodes": 230,
          "runs": 558
         },
         {
          "episodes": 216,
          "runs": 559
         },
         {
          "episodes": 216,
          "runs": 560
         },
         {
          "episodes": 1,
          "runs": 561
         },
         {
          "episodes": 216,
          "runs": 562
         },
         {
          "episodes": 217,
          "runs": 563
         },
         {
          "episodes": 933,
          "runs": 564
         },
         {
          "episodes": 927,
          "runs": 565
         },
         {
          "episodes": 924,
          "runs": 566
         },
         {
          "episodes": 1000,
          "runs": 567
         },
         {
          "episodes": 912,
          "runs": 568
         },
         {
          "episodes": 217,
          "runs": 569
         },
         {
          "episodes": 1000,
          "runs": 570
         },
         {
          "episodes": 219,
          "runs": 571
         },
         {
          "episodes": 219,
          "runs": 572
         },
         {
          "episodes": 217,
          "runs": 573
         },
         {
          "episodes": 250,
          "runs": 574
         },
         {
          "episodes": 1,
          "runs": 575
         },
         {
          "episodes": 1,
          "runs": 576
         },
         {
          "episodes": 1000,
          "runs": 577
         },
         {
          "episodes": 955,
          "runs": 578
         },
         {
          "episodes": 1,
          "runs": 579
         },
         {
          "episodes": 229,
          "runs": 580
         },
         {
          "episodes": 217,
          "runs": 581
         },
         {
          "episodes": 1,
          "runs": 582
         },
         {
          "episodes": 217,
          "runs": 583
         },
         {
          "episodes": 759,
          "runs": 584
         },
         {
          "episodes": 216,
          "runs": 585
         },
         {
          "episodes": 1,
          "runs": 586
         },
         {
          "episodes": 217,
          "runs": 587
         },
         {
          "episodes": 1,
          "runs": 588
         },
         {
          "episodes": 217,
          "runs": 589
         },
         {
          "episodes": 903,
          "runs": 590
         },
         {
          "episodes": 217,
          "runs": 591
         },
         {
          "episodes": 1000,
          "runs": 592
         },
         {
          "episodes": 1,
          "runs": 593
         },
         {
          "episodes": 1000,
          "runs": 594
         },
         {
          "episodes": 217,
          "runs": 595
         },
         {
          "episodes": 1,
          "runs": 596
         },
         {
          "episodes": 223,
          "runs": 597
         },
         {
          "episodes": 217,
          "runs": 598
         },
         {
          "episodes": 1000,
          "runs": 599
         },
         {
          "episodes": 917,
          "runs": 600
         },
         {
          "episodes": 217,
          "runs": 601
         },
         {
          "episodes": 1,
          "runs": 602
         },
         {
          "episodes": 226,
          "runs": 603
         },
         {
          "episodes": 217,
          "runs": 604
         },
         {
          "episodes": 1,
          "runs": 605
         },
         {
          "episodes": 1,
          "runs": 606
         },
         {
          "episodes": 1,
          "runs": 607
         },
         {
          "episodes": 840,
          "runs": 608
         },
         {
          "episodes": 1,
          "runs": 609
         },
         {
          "episodes": 1,
          "runs": 610
         },
         {
          "episodes": 229,
          "runs": 611
         },
         {
          "episodes": 933,
          "runs": 612
         },
         {
          "episodes": 933,
          "runs": 613
         },
         {
          "episodes": 1000,
          "runs": 614
         },
         {
          "episodes": 359,
          "runs": 615
         },
         {
          "episodes": 1,
          "runs": 616
         },
         {
          "episodes": 230,
          "runs": 617
         },
         {
          "episodes": 918,
          "runs": 618
         },
         {
          "episodes": 230,
          "runs": 619
         },
         {
          "episodes": 241,
          "runs": 620
         },
         {
          "episodes": 217,
          "runs": 621
         },
         {
          "episodes": 1000,
          "runs": 622
         },
         {
          "episodes": 1,
          "runs": 623
         },
         {
          "episodes": 1,
          "runs": 624
         },
         {
          "episodes": 1,
          "runs": 625
         },
         {
          "episodes": 217,
          "runs": 626
         },
         {
          "episodes": 1,
          "runs": 627
         },
         {
          "episodes": 1,
          "runs": 628
         },
         {
          "episodes": 1,
          "runs": 629
         },
         {
          "episodes": 1,
          "runs": 630
         },
         {
          "episodes": 1,
          "runs": 631
         },
         {
          "episodes": 216,
          "runs": 632
         },
         {
          "episodes": 1,
          "runs": 633
         },
         {
          "episodes": 1000,
          "runs": 634
         },
         {
          "episodes": 217,
          "runs": 635
         },
         {
          "episodes": 1,
          "runs": 636
         },
         {
          "episodes": 217,
          "runs": 637
         },
         {
          "episodes": 1,
          "runs": 638
         },
         {
          "episodes": 1000,
          "runs": 639
         },
         {
          "episodes": 1,
          "runs": 640
         },
         {
          "episodes": 229,
          "runs": 641
         },
         {
          "episodes": 1,
          "runs": 642
         },
         {
          "episodes": 868,
          "runs": 643
         },
         {
          "episodes": 235,
          "runs": 644
         },
         {
          "episodes": 912,
          "runs": 645
         },
         {
          "episodes": 933,
          "runs": 646
         },
         {
          "episodes": 217,
          "runs": 647
         },
         {
          "episodes": 942,
          "runs": 648
         },
         {
          "episodes": 1,
          "runs": 649
         },
         {
          "episodes": 230,
          "runs": 650
         },
         {
          "episodes": 912,
          "runs": 651
         },
         {
          "episodes": 217,
          "runs": 652
         },
         {
          "episodes": 935,
          "runs": 653
         },
         {
          "episodes": 230,
          "runs": 654
         },
         {
          "episodes": 1000,
          "runs": 655
         },
         {
          "episodes": 217,
          "runs": 656
         },
         {
          "episodes": 1,
          "runs": 657
         },
         {
          "episodes": 226,
          "runs": 658
         },
         {
          "episodes": 1,
          "runs": 659
         },
         {
          "episodes": 217,
          "runs": 660
         },
         {
          "episodes": 217,
          "runs": 661
         },
         {
          "episodes": 765,
          "runs": 662
         },
         {
          "episodes": 1,
          "runs": 663
         },
         {
          "episodes": 216,
          "runs": 664
         },
         {
          "episodes": 1,
          "runs": 665
         },
         {
          "episodes": 1000,
          "runs": 666
         },
         {
          "episodes": 1,
          "runs": 667
         },
         {
          "episodes": 1000,
          "runs": 668
         },
         {
          "episodes": 1000,
          "runs": 669
         },
         {
          "episodes": 233,
          "runs": 670
         },
         {
          "episodes": 1,
          "runs": 671
         },
         {
          "episodes": 1,
          "runs": 672
         },
         {
          "episodes": 1,
          "runs": 673
         },
         {
          "episodes": 927,
          "runs": 674
         },
         {
          "episodes": 1000,
          "runs": 675
         },
         {
          "episodes": 923,
          "runs": 676
         },
         {
          "episodes": 217,
          "runs": 677
         },
         {
          "episodes": 1,
          "runs": 678
         },
         {
          "episodes": 1,
          "runs": 679
         },
         {
          "episodes": 915,
          "runs": 680
         },
         {
          "episodes": 1,
          "runs": 681
         },
         {
          "episodes": 226,
          "runs": 682
         },
         {
          "episodes": 217,
          "runs": 683
         },
         {
          "episodes": 933,
          "runs": 684
         },
         {
          "episodes": 226,
          "runs": 685
         },
         {
          "episodes": 1000,
          "runs": 686
         },
         {
          "episodes": 1000,
          "runs": 687
         },
         {
          "episodes": 217,
          "runs": 688
         },
         {
          "episodes": 1,
          "runs": 689
         },
         {
          "episodes": 932,
          "runs": 690
         },
         {
          "episodes": 225,
          "runs": 691
         },
         {
          "episodes": 1,
          "runs": 692
         },
         {
          "episodes": 763,
          "runs": 693
         },
         {
          "episodes": 1,
          "runs": 694
         },
         {
          "episodes": 1,
          "runs": 695
         },
         {
          "episodes": 216,
          "runs": 696
         },
         {
          "episodes": 1000,
          "runs": 697
         },
         {
          "episodes": 223,
          "runs": 698
         },
         {
          "episodes": 1000,
          "runs": 699
         },
         {
          "episodes": 219,
          "runs": 700
         },
         {
          "episodes": 1,
          "runs": 701
         },
         {
          "episodes": 930,
          "runs": 702
         },
         {
          "episodes": 1,
          "runs": 703
         },
         {
          "episodes": 1000,
          "runs": 704
         },
         {
          "episodes": 217,
          "runs": 705
         },
         {
          "episodes": 917,
          "runs": 706
         },
         {
          "episodes": 1,
          "runs": 707
         },
         {
          "episodes": 217,
          "runs": 708
         },
         {
          "episodes": 1000,
          "runs": 709
         },
         {
          "episodes": 1,
          "runs": 710
         },
         {
          "episodes": 1000,
          "runs": 711
         },
         {
          "episodes": 914,
          "runs": 712
         },
         {
          "episodes": 933,
          "runs": 713
         },
         {
          "episodes": 1000,
          "runs": 714
         },
         {
          "episodes": 1,
          "runs": 715
         },
         {
          "episodes": 217,
          "runs": 716
         },
         {
          "episodes": 1,
          "runs": 717
         },
         {
          "episodes": 1000,
          "runs": 718
         },
         {
          "episodes": 1,
          "runs": 719
         },
         {
          "episodes": 241,
          "runs": 720
         },
         {
          "episodes": 912,
          "runs": 721
         },
         {
          "episodes": 217,
          "runs": 722
         },
         {
          "episodes": 1000,
          "runs": 723
         },
         {
          "episodes": 229,
          "runs": 724
         },
         {
          "episodes": 941,
          "runs": 725
         },
         {
          "episodes": 912,
          "runs": 726
         },
         {
          "episodes": 217,
          "runs": 727
         },
         {
          "episodes": 217,
          "runs": 728
         },
         {
          "episodes": 217,
          "runs": 729
         },
         {
          "episodes": 229,
          "runs": 730
         },
         {
          "episodes": 1,
          "runs": 731
         },
         {
          "episodes": 1,
          "runs": 732
         },
         {
          "episodes": 216,
          "runs": 733
         },
         {
          "episodes": 1,
          "runs": 734
         },
         {
          "episodes": 1,
          "runs": 735
         },
         {
          "episodes": 217,
          "runs": 736
         },
         {
          "episodes": 1,
          "runs": 737
         },
         {
          "episodes": 930,
          "runs": 738
         },
         {
          "episodes": 1,
          "runs": 739
         },
         {
          "episodes": 1,
          "runs": 740
         },
         {
          "episodes": 217,
          "runs": 741
         },
         {
          "episodes": 1,
          "runs": 742
         },
         {
          "episodes": 230,
          "runs": 743
         },
         {
          "episodes": 1000,
          "runs": 744
         },
         {
          "episodes": 232,
          "runs": 745
         },
         {
          "episodes": 1,
          "runs": 746
         },
         {
          "episodes": 1,
          "runs": 747
         },
         {
          "episodes": 924,
          "runs": 748
         },
         {
          "episodes": 217,
          "runs": 749
         },
         {
          "episodes": 1,
          "runs": 750
         },
         {
          "episodes": 223,
          "runs": 751
         },
         {
          "episodes": 1,
          "runs": 752
         },
         {
          "episodes": 216,
          "runs": 753
         },
         {
          "episodes": 1,
          "runs": 754
         },
         {
          "episodes": 232,
          "runs": 755
         },
         {
          "episodes": 757,
          "runs": 756
         },
         {
          "episodes": 1000,
          "runs": 757
         },
         {
          "episodes": 1000,
          "runs": 758
         },
         {
          "episodes": 1,
          "runs": 759
         },
         {
          "episodes": 1,
          "runs": 760
         },
         {
          "episodes": 1,
          "runs": 761
         },
         {
          "episodes": 229,
          "runs": 762
         },
         {
          "episodes": 1,
          "runs": 763
         },
         {
          "episodes": 1000,
          "runs": 764
         },
         {
          "episodes": 1,
          "runs": 765
         },
         {
          "episodes": 217,
          "runs": 766
         },
         {
          "episodes": 225,
          "runs": 767
         },
         {
          "episodes": 217,
          "runs": 768
         },
         {
          "episodes": 1,
          "runs": 769
         },
         {
          "episodes": 1000,
          "runs": 770
         },
         {
          "episodes": 1,
          "runs": 771
         },
         {
          "episodes": 1000,
          "runs": 772
         },
         {
          "episodes": 1000,
          "runs": 773
         },
         {
          "episodes": 1,
          "runs": 774
         },
         {
          "episodes": 930,
          "runs": 775
         },
         {
          "episodes": 927,
          "runs": 776
         },
         {
          "episodes": 229,
          "runs": 777
         },
         {
          "episodes": 756,
          "runs": 778
         },
         {
          "episodes": 1000,
          "runs": 779
         },
         {
          "episodes": 1000,
          "runs": 780
         },
         {
          "episodes": 1,
          "runs": 781
         },
         {
          "episodes": 1,
          "runs": 782
         },
         {
          "episodes": 217,
          "runs": 783
         },
         {
          "episodes": 1000,
          "runs": 784
         },
         {
          "episodes": 217,
          "runs": 785
         },
         {
          "episodes": 1000,
          "runs": 786
         },
         {
          "episodes": 1,
          "runs": 787
         },
         {
          "episodes": 927,
          "runs": 788
         },
         {
          "episodes": 217,
          "runs": 789
         },
         {
          "episodes": 930,
          "runs": 790
         },
         {
          "episodes": 1,
          "runs": 791
         },
         {
          "episodes": 912,
          "runs": 792
         },
         {
          "episodes": 1,
          "runs": 793
         },
         {
          "episodes": 1000,
          "runs": 794
         },
         {
          "episodes": 928,
          "runs": 795
         },
         {
          "episodes": 229,
          "runs": 796
         },
         {
          "episodes": 216,
          "runs": 797
         },
         {
          "episodes": 1,
          "runs": 798
         },
         {
          "episodes": 219,
          "runs": 799
         },
         {
          "episodes": 217,
          "runs": 800
         },
         {
          "episodes": 1,
          "runs": 801
         },
         {
          "episodes": 955,
          "runs": 802
         },
         {
          "episodes": 1000,
          "runs": 803
         },
         {
          "episodes": 1000,
          "runs": 804
         },
         {
          "episodes": 1,
          "runs": 805
         },
         {
          "episodes": 1,
          "runs": 806
         },
         {
          "episodes": 764,
          "runs": 807
         },
         {
          "episodes": 764,
          "runs": 808
         },
         {
          "episodes": 1,
          "runs": 809
         },
         {
          "episodes": 1,
          "runs": 810
         },
         {
          "episodes": 231,
          "runs": 811
         },
         {
          "episodes": 217,
          "runs": 812
         },
         {
          "episodes": 1,
          "runs": 813
         },
         {
          "episodes": 230,
          "runs": 814
         },
         {
          "episodes": 1,
          "runs": 815
         },
         {
          "episodes": 217,
          "runs": 816
         },
         {
          "episodes": 915,
          "runs": 817
         },
         {
          "episodes": 1000,
          "runs": 818
         },
         {
          "episodes": 229,
          "runs": 819
         },
         {
          "episodes": 230,
          "runs": 820
         },
         {
          "episodes": 1,
          "runs": 821
         },
         {
          "episodes": 1000,
          "runs": 822
         },
         {
          "episodes": 1,
          "runs": 823
         },
         {
          "episodes": 1,
          "runs": 824
         },
         {
          "episodes": 1000,
          "runs": 825
         },
         {
          "episodes": 219,
          "runs": 826
         },
         {
          "episodes": 216,
          "runs": 827
         },
         {
          "episodes": 223,
          "runs": 828
         },
         {
          "episodes": 217,
          "runs": 829
         },
         {
          "episodes": 1,
          "runs": 830
         },
         {
          "episodes": 1,
          "runs": 831
         },
         {
          "episodes": 1,
          "runs": 832
         },
         {
          "episodes": 217,
          "runs": 833
         },
         {
          "episodes": 217,
          "runs": 834
         },
         {
          "episodes": 230,
          "runs": 835
         },
         {
          "episodes": 1,
          "runs": 836
         },
         {
          "episodes": 1,
          "runs": 837
         },
         {
          "episodes": 217,
          "runs": 838
         },
         {
          "episodes": 230,
          "runs": 839
         },
         {
          "episodes": 222,
          "runs": 840
         },
         {
          "episodes": 1,
          "runs": 841
         },
         {
          "episodes": 1,
          "runs": 842
         },
         {
          "episodes": 223,
          "runs": 843
         },
         {
          "episodes": 217,
          "runs": 844
         },
         {
          "episodes": 235,
          "runs": 845
         },
         {
          "episodes": 230,
          "runs": 846
         },
         {
          "episodes": 1,
          "runs": 847
         },
         {
          "episodes": 1,
          "runs": 848
         },
         {
          "episodes": 223,
          "runs": 849
         },
         {
          "episodes": 912,
          "runs": 850
         },
         {
          "episodes": 1,
          "runs": 851
         },
         {
          "episodes": 1,
          "runs": 852
         },
         {
          "episodes": 933,
          "runs": 853
         },
         {
          "episodes": 1,
          "runs": 854
         },
         {
          "episodes": 1,
          "runs": 855
         },
         {
          "episodes": 217,
          "runs": 856
         },
         {
          "episodes": 1000,
          "runs": 857
         },
         {
          "episodes": 1000,
          "runs": 858
         },
         {
          "episodes": 1,
          "runs": 859
         },
         {
          "episodes": 216,
          "runs": 860
         },
         {
          "episodes": 358,
          "runs": 861
         },
         {
          "episodes": 1000,
          "runs": 862
         },
         {
          "episodes": 1000,
          "runs": 863
         },
         {
          "episodes": 1000,
          "runs": 864
         },
         {
          "episodes": 912,
          "runs": 865
         },
         {
          "episodes": 1,
          "runs": 866
         },
         {
          "episodes": 935,
          "runs": 867
         },
         {
          "episodes": 230,
          "runs": 868
         },
         {
          "episodes": 1000,
          "runs": 869
         },
         {
          "episodes": 1000,
          "runs": 870
         },
         {
          "episodes": 1000,
          "runs": 871
         },
         {
          "episodes": 1000,
          "runs": 872
         },
         {
          "episodes": 1,
          "runs": 873
         },
         {
          "episodes": 1,
          "runs": 874
         },
         {
          "episodes": 1000,
          "runs": 875
         },
         {
          "episodes": 899,
          "runs": 876
         },
         {
          "episodes": 1000,
          "runs": 877
         },
         {
          "episodes": 219,
          "runs": 878
         },
         {
          "episodes": 1,
          "runs": 879
         },
         {
          "episodes": 1,
          "runs": 880
         },
         {
          "episodes": 1,
          "runs": 881
         },
         {
          "episodes": 942,
          "runs": 882
         },
         {
          "episodes": 1000,
          "runs": 883
         },
         {
          "episodes": 951,
          "runs": 884
         },
         {
          "episodes": 932,
          "runs": 885
         },
         {
          "episodes": 1,
          "runs": 886
         },
         {
          "episodes": 219,
          "runs": 887
         },
         {
          "episodes": 1,
          "runs": 888
         },
         {
          "episodes": 1,
          "runs": 889
         },
         {
          "episodes": 1000,
          "runs": 890
         },
         {
          "episodes": 1,
          "runs": 891
         },
         {
          "episodes": 1000,
          "runs": 892
         },
         {
          "episodes": 230,
          "runs": 893
         },
         {
          "episodes": 912,
          "runs": 894
         },
         {
          "episodes": 1,
          "runs": 895
         },
         {
          "episodes": 230,
          "runs": 896
         },
         {
          "episodes": 230,
          "runs": 897
         },
         {
          "episodes": 230,
          "runs": 898
         },
         {
          "episodes": 1,
          "runs": 899
         },
         {
          "episodes": 1,
          "runs": 900
         },
         {
          "episodes": 1,
          "runs": 901
         },
         {
          "episodes": 217,
          "runs": 902
         },
         {
          "episodes": 1,
          "runs": 903
         },
         {
          "episodes": 1,
          "runs": 904
         },
         {
          "episodes": 230,
          "runs": 905
         },
         {
          "episodes": 1,
          "runs": 906
         },
         {
          "episodes": 1000,
          "runs": 907
         },
         {
          "episodes": 922,
          "runs": 908
         },
         {
          "episodes": 1,
          "runs": 909
         },
         {
          "episodes": 1,
          "runs": 910
         },
         {
          "episodes": 216,
          "runs": 911
         },
         {
          "episodes": 1000,
          "runs": 912
         },
         {
          "episodes": 242,
          "runs": 913
         },
         {
          "episodes": 1,
          "runs": 914
         },
         {
          "episodes": 918,
          "runs": 915
         },
         {
          "episodes": 217,
          "runs": 916
         },
         {
          "episodes": 1,
          "runs": 917
         },
         {
          "episodes": 1,
          "runs": 918
         },
         {
          "episodes": 928,
          "runs": 919
         },
         {
          "episodes": 1,
          "runs": 920
         },
         {
          "episodes": 229,
          "runs": 921
         },
         {
          "episodes": 229,
          "runs": 922
         },
         {
          "episodes": 1000,
          "runs": 923
         },
         {
          "episodes": 912,
          "runs": 924
         },
         {
          "episodes": 1,
          "runs": 925
         },
         {
          "episodes": 763,
          "runs": 926
         },
         {
          "episodes": 232,
          "runs": 927
         },
         {
          "episodes": 1,
          "runs": 928
         },
         {
          "episodes": 1,
          "runs": 929
         },
         {
          "episodes": 1000,
          "runs": 930
         },
         {
          "episodes": 1000,
          "runs": 931
         },
         {
          "episodes": 1,
          "runs": 932
         },
         {
          "episodes": 216,
          "runs": 933
         },
         {
          "episodes": 230,
          "runs": 934
         },
         {
          "episodes": 1000,
          "runs": 935
         },
         {
          "episodes": 216,
          "runs": 936
         },
         {
          "episodes": 229,
          "runs": 937
         },
         {
          "episodes": 230,
          "runs": 938
         },
         {
          "episodes": 1000,
          "runs": 939
         },
         {
          "episodes": 1,
          "runs": 940
         },
         {
          "episodes": 1000,
          "runs": 941
         },
         {
          "episodes": 217,
          "runs": 942
         },
         {
          "episodes": 1,
          "runs": 943
         },
         {
          "episodes": 216,
          "runs": 944
         },
         {
          "episodes": 217,
          "runs": 945
         },
         {
          "episodes": 217,
          "runs": 946
         },
         {
          "episodes": 217,
          "runs": 947
         },
         {
          "episodes": 925,
          "runs": 948
         },
         {
          "episodes": 757,
          "runs": 949
         },
         {
          "episodes": 955,
          "runs": 950
         },
         {
          "episodes": 933,
          "runs": 951
         },
         {
          "episodes": 230,
          "runs": 952
         },
         {
          "episodes": 1,
          "runs": 953
         },
         {
          "episodes": 924,
          "runs": 954
         },
         {
          "episodes": 1,
          "runs": 955
         },
         {
          "episodes": 217,
          "runs": 956
         },
         {
          "episodes": 1,
          "runs": 957
         },
         {
          "episodes": 916,
          "runs": 958
         },
         {
          "episodes": 1000,
          "runs": 959
         },
         {
          "episodes": 1000,
          "runs": 960
         },
         {
          "episodes": 935,
          "runs": 961
         },
         {
          "episodes": 217,
          "runs": 962
         },
         {
          "episodes": 1000,
          "runs": 963
         },
         {
          "episodes": 217,
          "runs": 964
         },
         {
          "episodes": 217,
          "runs": 965
         },
         {
          "episodes": 217,
          "runs": 966
         },
         {
          "episodes": 216,
          "runs": 967
         },
         {
          "episodes": 1000,
          "runs": 968
         },
         {
          "episodes": 230,
          "runs": 969
         },
         {
          "episodes": 1000,
          "runs": 970
         },
         {
          "episodes": 217,
          "runs": 971
         },
         {
          "episodes": 1,
          "runs": 972
         },
         {
          "episodes": 216,
          "runs": 973
         },
         {
          "episodes": 1,
          "runs": 974
         },
         {
          "episodes": 912,
          "runs": 975
         },
         {
          "episodes": 927,
          "runs": 976
         },
         {
          "episodes": 1,
          "runs": 977
         },
         {
          "episodes": 1000,
          "runs": 978
         },
         {
          "episodes": 217,
          "runs": 979
         },
         {
          "episodes": 912,
          "runs": 980
         },
         {
          "episodes": 1,
          "runs": 981
         },
         {
          "episodes": 217,
          "runs": 982
         },
         {
          "episodes": 223,
          "runs": 983
         },
         {
          "episodes": 217,
          "runs": 984
         },
         {
          "episodes": 217,
          "runs": 985
         },
         {
          "episodes": 1,
          "runs": 986
         },
         {
          "episodes": 1,
          "runs": 987
         },
         {
          "episodes": 1,
          "runs": 988
         },
         {
          "episodes": 1,
          "runs": 989
         },
         {
          "episodes": 1,
          "runs": 990
         },
         {
          "episodes": 1000,
          "runs": 991
         },
         {
          "episodes": 911,
          "runs": 992
         },
         {
          "episodes": 1,
          "runs": 993
         },
         {
          "episodes": 1000,
          "runs": 994
         },
         {
          "episodes": 1,
          "runs": 995
         },
         {
          "episodes": 1,
          "runs": 996
         },
         {
          "episodes": 1,
          "runs": 997
         },
         {
          "episodes": 217,
          "runs": 998
         },
         {
          "episodes": 1,
          "runs": 999
         }
        ]
       },
       "layer": [
        {
         "data": {
          "name": "data-05862166270760960cb395e375ae4ae0"
         },
         "encoding": {
          "x": {
           "bin": true,
           "field": "episodes",
           "title": "Binned Episodes",
           "type": "quantitative"
          },
          "y": {
           "aggregate": "count",
           "field": "episodes",
           "type": "quantitative"
          }
         },
         "mark": "bar"
        },
        {
         "data": {
          "name": "data-05862166270760960cb395e375ae4ae0"
         },
         "encoding": {
          "size": {
           "value": 3
          },
          "x": {
           "aggregate": "mean",
           "field": "episodes",
           "type": "quantitative"
          }
         },
         "mark": {
          "color": "red",
          "type": "rule"
         }
        }
       ]
      },
      "image/png": "[encoded data removed]",
      "text/plain": [
       "<VegaLite 2 object>\n",
       "\n",
       "If you see this message, it means the renderer has not been properly enabled\n",
       "for the frontend that you are using. For more information, see\n",
       "https://altair-viz.github.io/user_guide/troubleshooting.html\n"
      ]
     },
     "execution_count": 168,
     "metadata": {},
     "output_type": "execute_result"
    }
   ],
   "source": [
    "bar = alt.Chart(df).mark_bar().encode(\n",
    "    alt.X(\"episodes\", bin=True, title=\"Binned Episodes\"),\n",
    "    alt.Y(\"count(episodes)\"),\n",
    "#     alt.Color(\"count(episodes)\", scale=alt.Scale(scheme=\"oranges\"))\n",
    ")\n",
    "\n",
    "rule = alt.Chart(df).mark_rule(color='red').encode(\n",
    "    x='mean(episodes)',\n",
    "    size=alt.value(3)\n",
    ")\n",
    "#bar\n",
    "bar + rule"
   ]
  },
  {
   "cell_type": "markdown",
   "metadata": {},
   "source": [
    "Okay, thats better. Next, we can create helper functions to read data for each policy and generate plots"
   ]
  },
  {
   "cell_type": "code",
   "execution_count": 24,
   "metadata": {},
   "outputs": [],
   "source": [
    "def plot_altair(df, title=\"\"):\n",
    "    bar = alt.Chart(df).mark_bar().encode(\n",
    "        alt.X(\"episodes\", bin=True, title=\"Binned Episodes\"),\n",
    "        alt.Y(\"count(episodes)\"),\n",
    "    #     alt.Color(\"count(episodes)\", scale=alt.Scale(scheme=\"oranges\"))\n",
    "    ).properties(\n",
    "        title=title\n",
    "    )\n",
    "\n",
    "    rule = alt.Chart(df).mark_rule(color='red').encode(\n",
    "        x='mean(episodes)',\n",
    "        size=alt.value(3)\n",
    "    )\n",
    "    #bar\n",
    "    return bar + rule    "
   ]
  },
  {
   "cell_type": "code",
   "execution_count": 30,
   "metadata": {},
   "outputs": [],
   "source": [
    "def plot(data_dir, agent, altair=False, title=\"\"):\n",
    "    latest_dirname = latest_run(data_dir, agent)\n",
    "    pkl_filename = '{}/data.pkl'.format(latest_dirname)\n",
    "    print('using pickle path: {}'.format(pkl_filename))\n",
    "    data = pickle.load(open(pkl_filename, 'rb'))\n",
    "    solved_per_run = {run:len(episodes) for run, episodes in data['all_rewards'].items()}\n",
    "    df = pd.DataFrame.from_dict({'runs': list(solved_per_run.keys()), 'episodes': list(solved_per_run.values())})\n",
    "    print(df.describe())\n",
    "#     return df.plot(x='runs', y='episodes', kind='hist')\n",
    "    if altair:\n",
    "        chart = plot_altair(df, title)\n",
    "    else:\n",
    "        chart = df['episodes'].value_counts().plot(kind='hist', bins=20)\n",
    "        chart.set_xlabel('Episodes required to solve the environment')\n",
    "        \n",
    "    return chart, df"
   ]
  },
  {
   "cell_type": "markdown",
   "metadata": {},
   "source": [
    "# Random Policy"
   ]
  },
  {
   "cell_type": "code",
   "execution_count": 20,
   "metadata": {},
   "outputs": [
    {
     "name": "stdout",
     "output_type": "stream",
     "text": [
      "using pickle path: ../src/runs//random/20181018190608/data.pkl\n",
      "              runs     episodes\n",
      "count  1000.000000  1000.000000\n",
      "mean    499.500000   660.340000\n",
      "std     288.819436   473.471858\n",
      "min       0.000000     1.000000\n",
      "25%     249.750000     1.000000\n",
      "50%     499.500000  1000.000000\n",
      "75%     749.250000  1000.000000\n",
      "max     999.000000  1000.000000\n"
     ]
    },
    {
     "data": {
      "text/plain": [
       "<matplotlib.axes._subplots.AxesSubplot at 0x7f1d87ee9278>"
      ]
     },
     "execution_count": 20,
     "metadata": {},
     "output_type": "execute_result"
    },
    {
     "data": {
      "image/png": "[encoded data removed]",
      "text/plain": [
       "<Figure size 432x288 with 1 Axes>"
      ]
     },
     "metadata": {
      "needs_background": "light"
     },
     "output_type": "display_data"
    }
   ],
   "source": [
    "chart, random_df = plot(data_dir, \"random\")\n",
    "chart"
   ]
  },
  {
   "cell_type": "code",
   "execution_count": 33,
   "metadata": {},
   "outputs": [
    {
     "name": "stdout",
     "output_type": "stream",
     "text": [
      "using pickle path: ../src/runs//random/20181018190608/data.pkl\n",
      "              runs     episodes\n",
      "count  1000.000000  1000.000000\n",
      "mean    499.500000   660.340000\n",
      "std     288.819436   473.471858\n",
      "min       0.000000     1.000000\n",
      "25%     249.750000     1.000000\n",
      "50%     499.500000  1000.000000\n",
      "75%     749.250000  1000.000000\n",
      "max     999.000000  1000.000000\n"
     ]
    },
    {
     "data": {
      "application/vnd.vegalite.v2+json": {
       "$schema": "https://vega.github.io/schema/vega-lite/v2.6.0.json",
       "config": {
        "view": {
         "height": 300,
         "width": 400
        }
       },
       "datasets": {
        "data-35fa975e8ab8b089b9837f1626c407bf": [
         {
          "episodes": 1000,
          "runs": 0
         },
         {
          "episodes": 1000,
          "runs": 1
         },
         {
          "episodes": 1,
          "runs": 2
         },
         {
          "episodes": 1000,
          "runs": 3
         },
         {
          "episodes": 1,
          "runs": 4
         },
         {
          "episodes": 1,
          "runs": 5
         },
         {
          "episodes": 1000,
          "runs": 6
         },
         {
          "episodes": 1000,
          "runs": 7
         },
         {
          "episodes": 1000,
          "runs": 8
         },
         {
          "episodes": 1000,
          "runs": 9
         },
         {
          "episodes": 1000,
          "runs": 10
         },
         {
          "episodes": 1000,
          "runs": 11
         },
         {
          "episodes": 1,
          "runs": 12
         },
         {
          "episodes": 1000,
          "runs": 13
         },
         {
          "episodes": 1000,
          "runs": 14
         },
         {
          "episodes": 1,
          "runs": 15
         },
         {
          "episodes": 1,
          "runs": 16
         },
         {
          "episodes": 1,
          "runs": 17
         },
         {
          "episodes": 1,
          "runs": 18
         },
         {
          "episodes": 1,
          "runs": 19
         },
         {
          "episodes": 1000,
          "runs": 20
         },
         {
          "episodes": 1000,
          "runs": 21
         },
         {
          "episodes": 1000,
          "runs": 22
         },
         {
          "episodes": 1000,
          "runs": 23
         },
         {
          "episodes": 1000,
          "runs": 24
         },
         {
          "episodes": 1000,
          "runs": 25
         },
         {
          "episodes": 1,
          "runs": 26
         },
         {
          "episodes": 1000,
          "runs": 27
         },
         {
          "episodes": 1,
          "runs": 28
         },
         {
          "episodes": 1000,
          "runs": 29
         },
         {
          "episodes": 1000,
          "runs": 30
         },
         {
          "episodes": 1000,
          "runs": 31
         },
         {
          "episodes": 1000,
          "runs": 32
         },
         {
          "episodes": 1,
          "runs": 33
         },
         {
          "episodes": 1,
          "runs": 34
         },
         {
          "episodes": 1000,
          "runs": 35
         },
         {
          "episodes": 1000,
          "runs": 36
         },
         {
          "episodes": 1,
          "runs": 37
         },
         {
          "episodes": 1,
          "runs": 38
         },
         {
          "episodes": 1000,
          "runs": 39
         },
         {
          "episodes": 1000,
          "runs": 40
         },
         {
          "episodes": 1000,
          "runs": 41
         },
         {
          "episodes": 1000,
          "runs": 42
         },
         {
          "episodes": 1,
          "runs": 43
         },
         {
          "episodes": 1000,
          "runs": 44
         },
         {
          "episodes": 1000,
          "runs": 45
         },
         {
          "episodes": 1,
          "runs": 46
         },
         {
          "episodes": 1,
          "runs": 47
         },
         {
          "episodes": 1000,
          "runs": 48
         },
         {
          "episodes": 1,
          "runs": 49
         },
         {
          "episodes": 1000,
          "runs": 50
         },
         {
          "episodes": 1000,
          "runs": 51
         },
         {
          "episodes": 1000,
          "runs": 52
         },
         {
          "episodes": 1,
          "runs": 53
         },
         {
          "episodes": 1000,
          "runs": 54
         },
         {
          "episodes": 1000,
          "runs": 55
         },
         {
          "episodes": 1000,
          "runs": 56
         },
         {
          "episodes": 1000,
          "runs": 57
         },
         {
          "episodes": 1000,
          "runs": 58
         },
         {
          "episodes": 1000,
          "runs": 59
         },
         {
          "episodes": 1000,
          "runs": 60
         },
         {
          "episodes": 1000,
          "runs": 61
         },
         {
          "episodes": 1000,
          "runs": 62
         },
         {
          "episodes": 1000,
          "runs": 63
         },
         {
          "episodes": 1000,
          "runs": 64
         },
         {
          "episodes": 1,
          "runs": 65
         },
         {
          "episodes": 1000,
          "runs": 66
         },
         {
          "episodes": 1000,
          "runs": 67
         },
         {
          "episodes": 1,
          "runs": 68
         },
         {
          "episodes": 1000,
          "runs": 69
         },
         {
          "episodes": 1000,
          "runs": 70
         },
         {
          "episodes": 1000,
          "runs": 71
         },
         {
          "episodes": 1,
          "runs": 72
         },
         {
          "episodes": 1000,
          "runs": 73
         },
         {
          "episodes": 1000,
          "runs": 74
         },
         {
          "episodes": 1,
          "runs": 75
         },
         {
          "episodes": 1000,
          "runs": 76
         },
         {
          "episodes": 1,
          "runs": 77
         },
         {
          "episodes": 1000,
          "runs": 78
         },
         {
          "episodes": 1,
          "runs": 79
         },
         {
          "episodes": 1000,
          "runs": 80
         },
         {
          "episodes": 1000,
          "runs": 81
         },
         {
          "episodes": 1000,
          "runs": 82
         },
         {
          "episodes": 1000,
          "runs": 83
         },
         {
          "episodes": 1,
          "runs": 84
         },
         {
          "episodes": 1,
          "runs": 85
         },
         {
          "episodes": 1000,
          "runs": 86
         },
         {
          "episodes": 1000,
          "runs": 87
         },
         {
          "episodes": 1000,
          "runs": 88
         },
         {
          "episodes": 1,
          "runs": 89
         },
         {
          "episodes": 1,
          "runs": 90
         },
         {
          "episodes": 1000,
          "runs": 91
         },
         {
          "episodes": 1,
          "runs": 92
         },
         {
          "episodes": 1000,
          "runs": 93
         },
         {
          "episodes": 1,
          "runs": 94
         },
         {
          "episodes": 1000,
          "runs": 95
         },
         {
          "episodes": 1000,
          "runs": 96
         },
         {
          "episodes": 1,
          "runs": 97
         },
         {
          "episodes": 1000,
          "runs": 98
         },
         {
          "episodes": 1000,
          "runs": 99
         },
         {
          "episodes": 1000,
          "runs": 100
         },
         {
          "episodes": 1000,
          "runs": 101
         },
         {
          "episodes": 1000,
          "runs": 102
         },
         {
          "episodes": 1000,
          "runs": 103
         },
         {
          "episodes": 1000,
          "runs": 104
         },
         {
          "episodes": 1000,
          "runs": 105
         },
         {
          "episodes": 1000,
          "runs": 106
         },
         {
          "episodes": 1000,
          "runs": 107
         },
         {
          "episodes": 1,
          "runs": 108
         },
         {
          "episodes": 1000,
          "runs": 109
         },
         {
          "episodes": 1000,
          "runs": 110
         },
         {
          "episodes": 1000,
          "runs": 111
         },
         {
          "episodes": 1,
          "runs": 112
         },
         {
          "episodes": 1000,
          "runs": 113
         },
         {
          "episodes": 1,
          "runs": 114
         },
         {
          "episodes": 1000,
          "runs": 115
         },
         {
          "episodes": 1000,
          "runs": 116
         },
         {
          "episodes": 1,
          "runs": 117
         },
         {
          "episodes": 1000,
          "runs": 118
         },
         {
          "episodes": 1,
          "runs": 119
         },
         {
          "episodes": 1000,
          "runs": 120
         },
         {
          "episodes": 1,
          "runs": 121
         },
         {
          "episodes": 1000,
          "runs": 122
         },
         {
          "episodes": 1,
          "runs": 123
         },
         {
          "episodes": 1000,
          "runs": 124
         },
         {
          "episodes": 1000,
          "runs": 125
         },
         {
          "episodes": 1000,
          "runs": 126
         },
         {
          "episodes": 1000,
          "runs": 127
         },
         {
          "episodes": 1,
          "runs": 128
         },
         {
          "episodes": 1000,
          "runs": 129
         },
         {
          "episodes": 1,
          "runs": 130
         },
         {
          "episodes": 1000,
          "runs": 131
         },
         {
          "episodes": 1,
          "runs": 132
         },
         {
          "episodes": 1000,
          "runs": 133
         },
         {
          "episodes": 1,
          "runs": 134
         },
         {
          "episodes": 1000,
          "runs": 135
         },
         {
          "episodes": 1,
          "runs": 136
         },
         {
          "episodes": 1000,
          "runs": 137
         },
         {
          "episodes": 1,
          "runs": 138
         },
         {
          "episodes": 1000,
          "runs": 139
         },
         {
          "episodes": 1,
          "runs": 140
         },
         {
          "episodes": 1,
          "runs": 141
         },
         {
          "episodes": 1,
          "runs": 142
         },
         {
          "episodes": 1000,
          "runs": 143
         },
         {
          "episodes": 1000,
          "runs": 144
         },
         {
          "episodes": 1000,
          "runs": 145
         },
         {
          "episodes": 1000,
          "runs": 146
         },
         {
          "episodes": 1000,
          "runs": 147
         },
         {
          "episodes": 1000,
          "runs": 148
         },
         {
          "episodes": 1000,
          "runs": 149
         },
         {
          "episodes": 1000,
          "runs": 150
         },
         {
          "episodes": 1000,
          "runs": 151
         },
         {
          "episodes": 1,
          "runs": 152
         },
         {
          "episodes": 1,
          "runs": 153
         },
         {
          "episodes": 1000,
          "runs": 154
         },
         {
          "episodes": 1,
          "runs": 155
         },
         {
          "episodes": 1000,
          "runs": 156
         },
         {
          "episodes": 1000,
          "runs": 157
         },
         {
          "episodes": 1,
          "runs": 158
         },
         {
          "episodes": 1000,
          "runs": 159
         },
         {
          "episodes": 1,
          "runs": 160
         },
         {
          "episodes": 1,
          "runs": 161
         },
         {
          "episodes": 1,
          "runs": 162
         },
         {
          "episodes": 1000,
          "runs": 163
         },
         {
          "episodes": 1,
          "runs": 164
         },
         {
          "episodes": 1,
          "runs": 165
         },
         {
          "episodes": 1000,
          "runs": 166
         },
         {
          "episodes": 1000,
          "runs": 167
         },
         {
          "episodes": 1000,
          "runs": 168
         },
         {
          "episodes": 1000,
          "runs": 169
         },
         {
          "episodes": 1000,
          "runs": 170
         },
         {
          "episodes": 1,
          "runs": 171
         },
         {
          "episodes": 1000,
          "runs": 172
         },
         {
          "episodes": 1000,
          "runs": 173
         },
         {
          "episodes": 1000,
          "runs": 174
         },
         {
          "episodes": 1000,
          "runs": 175
         },
         {
          "episodes": 1000,
          "runs": 176
         },
         {
          "episodes": 1000,
          "runs": 177
         },
         {
          "episodes": 1,
          "runs": 178
         },
         {
          "episodes": 1,
          "runs": 179
         },
         {
          "episodes": 1000,
          "runs": 180
         },
         {
          "episodes": 1,
          "runs": 181
         },
         {
          "episodes": 1,
          "runs": 182
         },
         {
          "episodes": 1,
          "runs": 183
         },
         {
          "episodes": 1000,
          "runs": 184
         },
         {
          "episodes": 1,
          "runs": 185
         },
         {
          "episodes": 1,
          "runs": 186
         },
         {
          "episodes": 1000,
          "runs": 187
         },
         {
          "episodes": 1000,
          "runs": 188
         },
         {
          "episodes": 1000,
          "runs": 189
         },
         {
          "episodes": 1,
          "runs": 190
         },
         {
          "episodes": 1000,
          "runs": 191
         },
         {
          "episodes": 1,
          "runs": 192
         },
         {
          "episodes": 1000,
          "runs": 193
         },
         {
          "episodes": 1000,
          "runs": 194
         },
         {
          "episodes": 1000,
          "runs": 195
         },
         {
          "episodes": 1000,
          "runs": 196
         },
         {
          "episodes": 1000,
          "runs": 197
         },
         {
          "episodes": 1,
          "runs": 198
         },
         {
          "episodes": 1000,
          "runs": 199
         },
         {
          "episodes": 1000,
          "runs": 200
         },
         {
          "episodes": 1,
          "runs": 201
         },
         {
          "episodes": 1000,
          "runs": 202
         },
         {
          "episodes": 1,
          "runs": 203
         },
         {
          "episodes": 1000,
          "runs": 204
         },
         {
          "episodes": 1,
          "runs": 205
         },
         {
          "episodes": 1000,
          "runs": 206
         },
         {
          "episodes": 1,
          "runs": 207
         },
         {
          "episodes": 1000,
          "runs": 208
         },
         {
          "episodes": 1000,
          "runs": 209
         },
         {
          "episodes": 1000,
          "runs": 210
         },
         {
          "episodes": 1000,
          "runs": 211
         },
         {
          "episodes": 1000,
          "runs": 212
         },
         {
          "episodes": 1,
          "runs": 213
         },
         {
          "episodes": 1000,
          "runs": 214
         },
         {
          "episodes": 1000,
          "runs": 215
         },
         {
          "episodes": 1000,
          "runs": 216
         },
         {
          "episodes": 1000,
          "runs": 217
         },
         {
          "episodes": 1000,
          "runs": 218
         },
         {
          "episodes": 1,
          "runs": 219
         },
         {
          "episodes": 1000,
          "runs": 220
         },
         {
          "episodes": 1000,
          "runs": 221
         },
         {
          "episodes": 1000,
          "runs": 222
         },
         {
          "episodes": 1000,
          "runs": 223
         },
         {
          "episodes": 1000,
          "runs": 224
         },
         {
          "episodes": 1000,
          "runs": 225
         },
         {
          "episodes": 1000,
          "runs": 226
         },
         {
          "episodes": 1,
          "runs": 227
         },
         {
          "episodes": 1000,
          "runs": 228
         },
         {
          "episodes": 1000,
          "runs": 229
         },
         {
          "episodes": 1,
          "runs": 230
         },
         {
          "episodes": 1000,
          "runs": 231
         },
         {
          "episodes": 1,
          "runs": 232
         },
         {
          "episodes": 1,
          "runs": 233
         },
         {
          "episodes": 1000,
          "runs": 234
         },
         {
          "episodes": 1000,
          "runs": 235
         },
         {
          "episodes": 1000,
          "runs": 236
         },
         {
          "episodes": 1000,
          "runs": 237
         },
         {
          "episodes": 1000,
          "runs": 238
         },
         {
          "episodes": 1,
          "runs": 239
         },
         {
          "episodes": 1000,
          "runs": 240
         },
         {
          "episodes": 1000,
          "runs": 241
         },
         {
          "episodes": 1000,
          "runs": 242
         },
         {
          "episodes": 1000,
          "runs": 243
         },
         {
          "episodes": 1,
          "runs": 244
         },
         {
          "episodes": 1000,
          "runs": 245
         },
         {
          "episodes": 1000,
          "runs": 246
         },
         {
          "episodes": 1000,
          "runs": 247
         },
         {
          "episodes": 1,
          "runs": 248
         },
         {
          "episodes": 1000,
          "runs": 249
         },
         {
          "episodes": 1,
          "runs": 250
         },
         {
          "episodes": 1000,
          "runs": 251
         },
         {
          "episodes": 1000,
          "runs": 252
         },
         {
          "episodes": 1000,
          "runs": 253
         },
         {
          "episodes": 1000,
          "runs": 254
         },
         {
          "episodes": 1,
          "runs": 255
         },
         {
          "episodes": 1,
          "runs": 256
         },
         {
          "episodes": 1000,
          "runs": 257
         },
         {
          "episodes": 1000,
          "runs": 258
         },
         {
          "episodes": 1,
          "runs": 259
         },
         {
          "episodes": 1000,
          "runs": 260
         },
         {
          "episodes": 1,
          "runs": 261
         },
         {
          "episodes": 1,
          "runs": 262
         },
         {
          "episodes": 1,
          "runs": 263
         },
         {
          "episodes": 1000,
          "runs": 264
         },
         {
          "episodes": 1,
          "runs": 265
         },
         {
          "episodes": 1000,
          "runs": 266
         },
         {
          "episodes": 1,
          "runs": 267
         },
         {
          "episodes": 1000,
          "runs": 268
         },
         {
          "episodes": 1,
          "runs": 269
         },
         {
          "episodes": 1,
          "runs": 270
         },
         {
          "episodes": 1000,
          "runs": 271
         },
         {
          "episodes": 1,
          "runs": 272
         },
         {
          "episodes": 1000,
          "runs": 273
         },
         {
          "episodes": 1000,
          "runs": 274
         },
         {
          "episodes": 1000,
          "runs": 275
         },
         {
          "episodes": 1000,
          "runs": 276
         },
         {
          "episodes": 1000,
          "runs": 277
         },
         {
          "episodes": 1000,
          "runs": 278
         },
         {
          "episodes": 1,
          "runs": 279
         },
         {
          "episodes": 1,
          "runs": 280
         },
         {
          "episodes": 1,
          "runs": 281
         },
         {
          "episodes": 1,
          "runs": 282
         },
         {
          "episodes": 1000,
          "runs": 283
         },
         {
          "episodes": 1000,
          "runs": 284
         },
         {
          "episodes": 1000,
          "runs": 285
         },
         {
          "episodes": 1000,
          "runs": 286
         },
         {
          "episodes": 1000,
          "runs": 287
         },
         {
          "episodes": 1000,
          "runs": 288
         },
         {
          "episodes": 1,
          "runs": 289
         },
         {
          "episodes": 1,
          "runs": 290
         },
         {
          "episodes": 1000,
          "runs": 291
         },
         {
          "episodes": 1,
          "runs": 292
         },
         {
          "episodes": 1000,
          "runs": 293
         },
         {
          "episodes": 1000,
          "runs": 294
         },
         {
          "episodes": 1000,
          "runs": 295
         },
         {
          "episodes": 1,
          "runs": 296
         },
         {
          "episodes": 1000,
          "runs": 297
         },
         {
          "episodes": 1,
          "runs": 298
         },
         {
          "episodes": 1000,
          "runs": 299
         },
         {
          "episodes": 1000,
          "runs": 300
         },
         {
          "episodes": 1000,
          "runs": 301
         },
         {
          "episodes": 1000,
          "runs": 302
         },
         {
          "episodes": 1000,
          "runs": 303
         },
         {
          "episodes": 1000,
          "runs": 304
         },
         {
          "episodes": 1,
          "runs": 305
         },
         {
          "episodes": 1000,
          "runs": 306
         },
         {
          "episodes": 1000,
          "runs": 307
         },
         {
          "episodes": 1000,
          "runs": 308
         },
         {
          "episodes": 1000,
          "runs": 309
         },
         {
          "episodes": 1000,
          "runs": 310
         },
         {
          "episodes": 1000,
          "runs": 311
         },
         {
          "episodes": 1000,
          "runs": 312
         },
         {
          "episodes": 1,
          "runs": 313
         },
         {
          "episodes": 1,
          "runs": 314
         },
         {
          "episodes": 1,
          "runs": 315
         },
         {
          "episodes": 1000,
          "runs": 316
         },
         {
          "episodes": 1000,
          "runs": 317
         },
         {
          "episodes": 1000,
          "runs": 318
         },
         {
          "episodes": 1000,
          "runs": 319
         },
         {
          "episodes": 1000,
          "runs": 320
         },
         {
          "episodes": 1000,
          "runs": 321
         },
         {
          "episodes": 1,
          "runs": 322
         },
         {
          "episodes": 1000,
          "runs": 323
         },
         {
          "episodes": 1,
          "runs": 324
         },
         {
          "episodes": 1000,
          "runs": 325
         },
         {
          "episodes": 1,
          "runs": 326
         },
         {
          "episodes": 1000,
          "runs": 327
         },
         {
          "episodes": 1000,
          "runs": 328
         },
         {
          "episodes": 1,
          "runs": 329
         },
         {
          "episodes": 1000,
          "runs": 330
         },
         {
          "episodes": 1000,
          "runs": 331
         },
         {
          "episodes": 1000,
          "runs": 332
         },
         {
          "episodes": 1000,
          "runs": 333
         },
         {
          "episodes": 1,
          "runs": 334
         },
         {
          "episodes": 1,
          "runs": 335
         },
         {
          "episodes": 1000,
          "runs": 336
         },
         {
          "episodes": 1000,
          "runs": 337
         },
         {
          "episodes": 1000,
          "runs": 338
         },
         {
          "episodes": 1000,
          "runs": 339
         },
         {
          "episodes": 1000,
          "runs": 340
         },
         {
          "episodes": 1000,
          "runs": 341
         },
         {
          "episodes": 1000,
          "runs": 342
         },
         {
          "episodes": 1000,
          "runs": 343
         },
         {
          "episodes": 1000,
          "runs": 344
         },
         {
          "episodes": 1,
          "runs": 345
         },
         {
          "episodes": 1000,
          "runs": 346
         },
         {
          "episodes": 1000,
          "runs": 347
         },
         {
          "episodes": 1,
          "runs": 348
         },
         {
          "episodes": 1000,
          "runs": 349
         },
         {
          "episodes": 1000,
          "runs": 350
         },
         {
          "episodes": 1000,
          "runs": 351
         },
         {
          "episodes": 1,
          "runs": 352
         },
         {
          "episodes": 1000,
          "runs": 353
         },
         {
          "episodes": 1000,
          "runs": 354
         },
         {
          "episodes": 1,
          "runs": 355
         },
         {
          "episodes": 1,
          "runs": 356
         },
         {
          "episodes": 1000,
          "runs": 357
         },
         {
          "episodes": 1,
          "runs": 358
         },
         {
          "episodes": 1000,
          "runs": 359
         },
         {
          "episodes": 1000,
          "runs": 360
         },
         {
          "episodes": 1000,
          "runs": 361
         },
         {
          "episodes": 1,
          "runs": 362
         },
         {
          "episodes": 1000,
          "runs": 363
         },
         {
          "episodes": 1,
          "runs": 364
         },
         {
          "episodes": 1,
          "runs": 365
         },
         {
          "episodes": 1000,
          "runs": 366
         },
         {
          "episodes": 1,
          "runs": 367
         },
         {
          "episodes": 1000,
          "runs": 368
         },
         {
          "episodes": 1000,
          "runs": 369
         },
         {
          "episodes": 1,
          "runs": 370
         },
         {
          "episodes": 1000,
          "runs": 371
         },
         {
          "episodes": 1,
          "runs": 372
         },
         {
          "episodes": 1,
          "runs": 373
         },
         {
          "episodes": 1,
          "runs": 374
         },
         {
          "episodes": 1000,
          "runs": 375
         },
         {
          "episodes": 1,
          "runs": 376
         },
         {
          "episodes": 1,
          "runs": 377
         },
         {
          "episodes": 1000,
          "runs": 378
         },
         {
          "episodes": 1,
          "runs": 379
         },
         {
          "episodes": 1000,
          "runs": 380
         },
         {
          "episodes": 1000,
          "runs": 381
         },
         {
          "episodes": 1000,
          "runs": 382
         },
         {
          "episodes": 1,
          "runs": 383
         },
         {
          "episodes": 1,
          "runs": 384
         },
         {
          "episodes": 1000,
          "runs": 385
         },
         {
          "episodes": 1000,
          "runs": 386
         },
         {
          "episodes": 1,
          "runs": 387
         },
         {
          "episodes": 1000,
          "runs": 388
         },
         {
          "episodes": 1000,
          "runs": 389
         },
         {
          "episodes": 1,
          "runs": 390
         },
         {
          "episodes": 1000,
          "runs": 391
         },
         {
          "episodes": 1000,
          "runs": 392
         },
         {
          "episodes": 1000,
          "runs": 393
         },
         {
          "episodes": 1000,
          "runs": 394
         },
         {
          "episodes": 1000,
          "runs": 395
         },
         {
          "episodes": 1000,
          "runs": 396
         },
         {
          "episodes": 1000,
          "runs": 397
         },
         {
          "episodes": 1,
          "runs": 398
         },
         {
          "episodes": 1000,
          "runs": 399
         },
         {
          "episodes": 1000,
          "runs": 400
         },
         {
          "episodes": 1000,
          "runs": 401
         },
         {
          "episodes": 1000,
          "runs": 402
         },
         {
          "episodes": 1000,
          "runs": 403
         },
         {
          "episodes": 1000,
          "runs": 404
         },
         {
          "episodes": 1000,
          "runs": 405
         },
         {
          "episodes": 1000,
          "runs": 406
         },
         {
          "episodes": 1000,
          "runs": 407
         },
         {
          "episodes": 1000,
          "runs": 408
         },
         {
          "episodes": 1000,
          "runs": 409
         },
         {
          "episodes": 1000,
          "runs": 410
         },
         {
          "episodes": 1,
          "runs": 411
         },
         {
          "episodes": 1000,
          "runs": 412
         },
         {
          "episodes": 1000,
          "runs": 413
         },
         {
          "episodes": 1,
          "runs": 414
         },
         {
          "episodes": 1000,
          "runs": 415
         },
         {
          "episodes": 1000,
          "runs": 416
         },
         {
          "episodes": 1000,
          "runs": 417
         },
         {
          "episodes": 1000,
          "runs": 418
         },
         {
          "episodes": 1,
          "runs": 419
         },
         {
          "episodes": 1000,
          "runs": 420
         },
         {
          "episodes": 1,
          "runs": 421
         },
         {
          "episodes": 1000,
          "runs": 422
         },
         {
          "episodes": 1000,
          "runs": 423
         },
         {
          "episodes": 1000,
          "runs": 424
         },
         {
          "episodes": 1,
          "runs": 425
         },
         {
          "episodes": 1,
          "runs": 426
         },
         {
          "episodes": 1,
          "runs": 427
         },
         {
          "episodes": 1000,
          "runs": 428
         },
         {
          "episodes": 1,
          "runs": 429
         },
         {
          "episodes": 1,
          "runs": 430
         },
         {
          "episodes": 1000,
          "runs": 431
         },
         {
          "episodes": 1000,
          "runs": 432
         },
         {
          "episodes": 1,
          "runs": 433
         },
         {
          "episodes": 1000,
          "runs": 434
         },
         {
          "episodes": 1000,
          "runs": 435
         },
         {
          "episodes": 1000,
          "runs": 436
         },
         {
          "episodes": 1000,
          "runs": 437
         },
         {
          "episodes": 1000,
          "runs": 438
         },
         {
          "episodes": 1000,
          "runs": 439
         },
         {
          "episodes": 1,
          "runs": 440
         },
         {
          "episodes": 1000,
          "runs": 441
         },
         {
          "episodes": 1,
          "runs": 442
         },
         {
          "episodes": 1000,
          "runs": 443
         },
         {
          "episodes": 1000,
          "runs": 444
         },
         {
          "episodes": 1000,
          "runs": 445
         },
         {
          "episodes": 1000,
          "runs": 446
         },
         {
          "episodes": 1000,
          "runs": 447
         },
         {
          "episodes": 1,
          "runs": 448
         },
         {
          "episodes": 1000,
          "runs": 449
         },
         {
          "episodes": 1,
          "runs": 450
         },
         {
          "episodes": 1000,
          "runs": 451
         },
         {
          "episodes": 1000,
          "runs": 452
         },
         {
          "episodes": 1,
          "runs": 453
         },
         {
          "episodes": 1,
          "runs": 454
         },
         {
          "episodes": 1000,
          "runs": 455
         },
         {
          "episodes": 1,
          "runs": 456
         },
         {
          "episodes": 1,
          "runs": 457
         },
         {
          "episodes": 1,
          "runs": 458
         },
         {
          "episodes": 1000,
          "runs": 459
         },
         {
          "episodes": 1000,
          "runs": 460
         },
         {
          "episodes": 1000,
          "runs": 461
         },
         {
          "episodes": 1000,
          "runs": 462
         },
         {
          "episodes": 1000,
          "runs": 463
         },
         {
          "episodes": 1000,
          "runs": 464
         },
         {
          "episodes": 1,
          "runs": 465
         },
         {
          "episodes": 1000,
          "runs": 466
         },
         {
          "episodes": 1000,
          "runs": 467
         },
         {
          "episodes": 1000,
          "runs": 468
         },
         {
          "episodes": 1000,
          "runs": 469
         },
         {
          "episodes": 1,
          "runs": 470
         },
         {
          "episodes": 1000,
          "runs": 471
         },
         {
          "episodes": 1000,
          "runs": 472
         },
         {
          "episodes": 1000,
          "runs": 473
         },
         {
          "episodes": 1,
          "runs": 474
         },
         {
          "episodes": 1000,
          "runs": 475
         },
         {
          "episodes": 1000,
          "runs": 476
         },
         {
          "episodes": 1000,
          "runs": 477
         },
         {
          "episodes": 1,
          "runs": 478
         },
         {
          "episodes": 1,
          "runs": 479
         },
         {
          "episodes": 1000,
          "runs": 480
         },
         {
          "episodes": 1000,
          "runs": 481
         },
         {
          "episodes": 1,
          "runs": 482
         },
         {
          "episodes": 1000,
          "runs": 483
         },
         {
          "episodes": 1000,
          "runs": 484
         },
         {
          "episodes": 1000,
          "runs": 485
         },
         {
          "episodes": 1000,
          "runs": 486
         },
         {
          "episodes": 1,
          "runs": 487
         },
         {
          "episodes": 1000,
          "runs": 488
         },
         {
          "episodes": 1,
          "runs": 489
         },
         {
          "episodes": 1000,
          "runs": 490
         },
         {
          "episodes": 1000,
          "runs": 491
         },
         {
          "episodes": 1,
          "runs": 492
         },
         {
          "episodes": 1,
          "runs": 493
         },
         {
          "episodes": 1000,
          "runs": 494
         },
         {
          "episodes": 1000,
          "runs": 495
         },
         {
          "episodes": 1000,
          "runs": 496
         },
         {
          "episodes": 1,
          "runs": 497
         },
         {
          "episodes": 1,
          "runs": 498
         },
         {
          "episodes": 1000,
          "runs": 499
         },
         {
          "episodes": 1000,
          "runs": 500
         },
         {
          "episodes": 1,
          "runs": 501
         },
         {
          "episodes": 1,
          "runs": 502
         },
         {
          "episodes": 1000,
          "runs": 503
         },
         {
          "episodes": 1000,
          "runs": 504
         },
         {
          "episodes": 1,
          "runs": 505
         },
         {
          "episodes": 1000,
          "runs": 506
         },
         {
          "episodes": 1000,
          "runs": 507
         },
         {
          "episodes": 1,
          "runs": 508
         },
         {
          "episodes": 1000,
          "runs": 509
         },
         {
          "episodes": 1000,
          "runs": 510
         },
         {
          "episodes": 1000,
          "runs": 511
         },
         {
          "episodes": 1,
          "runs": 512
         },
         {
          "episodes": 1,
          "runs": 513
         },
         {
          "episodes": 1000,
          "runs": 514
         },
         {
          "episodes": 1000,
          "runs": 515
         },
         {
          "episodes": 1000,
          "runs": 516
         },
         {
          "episodes": 1000,
          "runs": 517
         },
         {
          "episodes": 1000,
          "runs": 518
         },
         {
          "episodes": 1000,
          "runs": 519
         },
         {
          "episodes": 1000,
          "runs": 520
         },
         {
          "episodes": 1000,
          "runs": 521
         },
         {
          "episodes": 1,
          "runs": 522
         },
         {
          "episodes": 1000,
          "runs": 523
         },
         {
          "episodes": 1000,
          "runs": 524
         },
         {
          "episodes": 1,
          "runs": 525
         },
         {
          "episodes": 1,
          "runs": 526
         },
         {
          "episodes": 1000,
          "runs": 527
         },
         {
          "episodes": 1,
          "runs": 528
         },
         {
          "episodes": 1,
          "runs": 529
         },
         {
          "episodes": 1000,
          "runs": 530
         },
         {
          "episodes": 1000,
          "runs": 531
         },
         {
          "episodes": 1000,
          "runs": 532
         },
         {
          "episodes": 1000,
          "runs": 533
         },
         {
          "episodes": 1000,
          "runs": 534
         },
         {
          "episodes": 1000,
          "runs": 535
         },
         {
          "episodes": 1000,
          "runs": 536
         },
         {
          "episodes": 1,
          "runs": 537
         },
         {
          "episodes": 1,
          "runs": 538
         },
         {
          "episodes": 1,
          "runs": 539
         },
         {
          "episodes": 1,
          "runs": 540
         },
         {
          "episodes": 1000,
          "runs": 541
         },
         {
          "episodes": 1,
          "runs": 542
         },
         {
          "episodes": 1,
          "runs": 543
         },
         {
          "episodes": 1,
          "runs": 544
         },
         {
          "episodes": 1000,
          "runs": 545
         },
         {
          "episodes": 1,
          "runs": 546
         },
         {
          "episodes": 1000,
          "runs": 547
         },
         {
          "episodes": 1000,
          "runs": 548
         },
         {
          "episodes": 1000,
          "runs": 549
         },
         {
          "episodes": 1000,
          "runs": 550
         },
         {
          "episodes": 1000,
          "runs": 551
         },
         {
          "episodes": 1000,
          "runs": 552
         },
         {
          "episodes": 1000,
          "runs": 553
         },
         {
          "episodes": 1000,
          "runs": 554
         },
         {
          "episodes": 1000,
          "runs": 555
         },
         {
          "episodes": 1,
          "runs": 556
         },
         {
          "episodes": 1,
          "runs": 557
         },
         {
          "episodes": 1000,
          "runs": 558
         },
         {
          "episodes": 1000,
          "runs": 559
         },
         {
          "episodes": 1000,
          "runs": 560
         },
         {
          "episodes": 1000,
          "runs": 561
         },
         {
          "episodes": 1000,
          "runs": 562
         },
         {
          "episodes": 1,
          "runs": 563
         },
         {
          "episodes": 1,
          "runs": 564
         },
         {
          "episodes": 1000,
          "runs": 565
         },
         {
          "episodes": 1000,
          "runs": 566
         },
         {
          "episodes": 1000,
          "runs": 567
         },
         {
          "episodes": 1,
          "runs": 568
         },
         {
          "episodes": 1000,
          "runs": 569
         },
         {
          "episodes": 1,
          "runs": 570
         },
         {
          "episodes": 1000,
          "runs": 571
         },
         {
          "episodes": 1000,
          "runs": 572
         },
         {
          "episodes": 1,
          "runs": 573
         },
         {
          "episodes": 1000,
          "runs": 574
         },
         {
          "episodes": 1000,
          "runs": 575
         },
         {
          "episodes": 1,
          "runs": 576
         },
         {
          "episodes": 1000,
          "runs": 577
         },
         {
          "episodes": 1000,
          "runs": 578
         },
         {
          "episodes": 1,
          "runs": 579
         },
         {
          "episodes": 1000,
          "runs": 580
         },
         {
          "episodes": 1000,
          "runs": 581
         },
         {
          "episodes": 1,
          "runs": 582
         },
         {
          "episodes": 1000,
          "runs": 583
         },
         {
          "episodes": 1000,
          "runs": 584
         },
         {
          "episodes": 1000,
          "runs": 585
         },
         {
          "episodes": 1,
          "runs": 586
         },
         {
          "episodes": 1000,
          "runs": 587
         },
         {
          "episodes": 1000,
          "runs": 588
         },
         {
          "episodes": 1000,
          "runs": 589
         },
         {
          "episodes": 1000,
          "runs": 590
         },
         {
          "episodes": 1,
          "runs": 591
         },
         {
          "episodes": 1000,
          "runs": 592
         },
         {
          "episodes": 1000,
          "runs": 593
         },
         {
          "episodes": 1,
          "runs": 594
         },
         {
          "episodes": 1000,
          "runs": 595
         },
         {
          "episodes": 1000,
          "runs": 596
         },
         {
          "episodes": 1,
          "runs": 597
         },
         {
          "episodes": 1000,
          "runs": 598
         },
         {
          "episodes": 1,
          "runs": 599
         },
         {
          "episodes": 1000,
          "runs": 600
         },
         {
          "episodes": 1000,
          "runs": 601
         },
         {
          "episodes": 1,
          "runs": 602
         },
         {
          "episodes": 1,
          "runs": 603
         },
         {
          "episodes": 1,
          "runs": 604
         },
         {
          "episodes": 1,
          "runs": 605
         },
         {
          "episodes": 1000,
          "runs": 606
         },
         {
          "episodes": 1000,
          "runs": 607
         },
         {
          "episodes": 1,
          "runs": 608
         },
         {
          "episodes": 1000,
          "runs": 609
         },
         {
          "episodes": 1000,
          "runs": 610
         },
         {
          "episodes": 1000,
          "runs": 611
         },
         {
          "episodes": 1000,
          "runs": 612
         },
         {
          "episodes": 1,
          "runs": 613
         },
         {
          "episodes": 1,
          "runs": 614
         },
         {
          "episodes": 1,
          "runs": 615
         },
         {
          "episodes": 1,
          "runs": 616
         },
         {
          "episodes": 1000,
          "runs": 617
         },
         {
          "episodes": 1000,
          "runs": 618
         },
         {
          "episodes": 1000,
          "runs": 619
         },
         {
          "episodes": 1000,
          "runs": 620
         },
         {
          "episodes": 1000,
          "runs": 621
         },
         {
          "episodes": 1000,
          "runs": 622
         },
         {
          "episodes": 1000,
          "runs": 623
         },
         {
          "episodes": 1000,
          "runs": 624
         },
         {
          "episodes": 1000,
          "runs": 625
         },
         {
          "episodes": 1,
          "runs": 626
         },
         {
          "episodes": 1000,
          "runs": 627
         },
         {
          "episodes": 1000,
          "runs": 628
         },
         {
          "episodes": 1000,
          "runs": 629
         },
         {
          "episodes": 1000,
          "runs": 630
         },
         {
          "episodes": 1,
          "runs": 631
         },
         {
          "episodes": 1000,
          "runs": 632
         },
         {
          "episodes": 1000,
          "runs": 633
         },
         {
          "episodes": 1000,
          "runs": 634
         },
         {
          "episodes": 1,
          "runs": 635
         },
         {
          "episodes": 1000,
          "runs": 636
         },
         {
          "episodes": 1000,
          "runs": 637
         },
         {
          "episodes": 1000,
          "runs": 638
         },
         {
          "episodes": 1000,
          "runs": 639
         },
         {
          "episodes": 1000,
          "runs": 640
         },
         {
          "episodes": 1000,
          "runs": 641
         },
         {
          "episodes": 1000,
          "runs": 642
         },
         {
          "episodes": 1,
          "runs": 643
         },
         {
          "episodes": 1000,
          "runs": 644
         },
         {
          "episodes": 1000,
          "runs": 645
         },
         {
          "episodes": 1,
          "runs": 646
         },
         {
          "episodes": 1000,
          "runs": 647
         },
         {
          "episodes": 1000,
          "runs": 648
         },
         {
          "episodes": 1000,
          "runs": 649
         },
         {
          "episodes": 1,
          "runs": 650
         },
         {
          "episodes": 1000,
          "runs": 651
         },
         {
          "episodes": 1000,
          "runs": 652
         },
         {
          "episodes": 1000,
          "runs": 653
         },
         {
          "episodes": 1,
          "runs": 654
         },
         {
          "episodes": 1000,
          "runs": 655
         },
         {
          "episodes": 1000,
          "runs": 656
         },
         {
          "episodes": 1000,
          "runs": 657
         },
         {
          "episodes": 1000,
          "runs": 658
         },
         {
          "episodes": 1,
          "runs": 659
         },
         {
          "episodes": 1,
          "runs": 660
         },
         {
          "episodes": 1000,
          "runs": 661
         },
         {
          "episodes": 1,
          "runs": 662
         },
         {
          "episodes": 1,
          "runs": 663
         },
         {
          "episodes": 1000,
          "runs": 664
         },
         {
          "episodes": 1000,
          "runs": 665
         },
         {
          "episodes": 1000,
          "runs": 666
         },
         {
          "episodes": 1,
          "runs": 667
         },
         {
          "episodes": 1000,
          "runs": 668
         },
         {
          "episodes": 1000,
          "runs": 669
         },
         {
          "episodes": 1000,
          "runs": 670
         },
         {
          "episodes": 1000,
          "runs": 671
         },
         {
          "episodes": 1,
          "runs": 672
         },
         {
          "episodes": 1000,
          "runs": 673
         },
         {
          "episodes": 1000,
          "runs": 674
         },
         {
          "episodes": 1000,
          "runs": 675
         },
         {
          "episodes": 1000,
          "runs": 676
         },
         {
          "episodes": 1,
          "runs": 677
         },
         {
          "episodes": 1,
          "runs": 678
         },
         {
          "episodes": 1000,
          "runs": 679
         },
         {
          "episodes": 1000,
          "runs": 680
         },
         {
          "episodes": 1000,
          "runs": 681
         },
         {
          "episodes": 1000,
          "runs": 682
         },
         {
          "episodes": 1000,
          "runs": 683
         },
         {
          "episodes": 1,
          "runs": 684
         },
         {
          "episodes": 1000,
          "runs": 685
         },
         {
          "episodes": 1000,
          "runs": 686
         },
         {
          "episodes": 1000,
          "runs": 687
         },
         {
          "episodes": 1000,
          "runs": 688
         },
         {
          "episodes": 1000,
          "runs": 689
         },
         {
          "episodes": 1000,
          "runs": 690
         },
         {
          "episodes": 1,
          "runs": 691
         },
         {
          "episodes": 1,
          "runs": 692
         },
         {
          "episodes": 1000,
          "runs": 693
         },
         {
          "episodes": 1000,
          "runs": 694
         },
         {
          "episodes": 1000,
          "runs": 695
         },
         {
          "episodes": 1000,
          "runs": 696
         },
         {
          "episodes": 1000,
          "runs": 697
         },
         {
          "episodes": 1000,
          "runs": 698
         },
         {
          "episodes": 1000,
          "runs": 699
         },
         {
          "episodes": 1000,
          "runs": 700
         },
         {
          "episodes": 1,
          "runs": 701
         },
         {
          "episodes": 1000,
          "runs": 702
         },
         {
          "episodes": 1,
          "runs": 703
         },
         {
          "episodes": 1000,
          "runs": 704
         },
         {
          "episodes": 1000,
          "runs": 705
         },
         {
          "episodes": 1,
          "runs": 706
         },
         {
          "episodes": 1,
          "runs": 707
         },
         {
          "episodes": 1000,
          "runs": 708
         },
         {
          "episodes": 1000,
          "runs": 709
         },
         {
          "episodes": 1,
          "runs": 710
         },
         {
          "episodes": 1000,
          "runs": 711
         },
         {
          "episodes": 1000,
          "runs": 712
         },
         {
          "episodes": 1,
          "runs": 713
         },
         {
          "episodes": 1,
          "runs": 714
         },
         {
          "episodes": 1,
          "runs": 715
         },
         {
          "episodes": 1,
          "runs": 716
         },
         {
          "episodes": 1000,
          "runs": 717
         },
         {
          "episodes": 1000,
          "runs": 718
         },
         {
          "episodes": 1000,
          "runs": 719
         },
         {
          "episodes": 1,
          "runs": 720
         },
         {
          "episodes": 1,
          "runs": 721
         },
         {
          "episodes": 1,
          "runs": 722
         },
         {
          "episodes": 1,
          "runs": 723
         },
         {
          "episodes": 1000,
          "runs": 724
         },
         {
          "episodes": 1000,
          "runs": 725
         },
         {
          "episodes": 1,
          "runs": 726
         },
         {
          "episodes": 1000,
          "runs": 727
         },
         {
          "episodes": 1000,
          "runs": 728
         },
         {
          "episodes": 1000,
          "runs": 729
         },
         {
          "episodes": 1,
          "runs": 730
         },
         {
          "episodes": 1,
          "runs": 731
         },
         {
          "episodes": 1,
          "runs": 732
         },
         {
          "episodes": 1,
          "runs": 733
         },
         {
          "episodes": 1000,
          "runs": 734
         },
         {
          "episodes": 1000,
          "runs": 735
         },
         {
          "episodes": 1,
          "runs": 736
         },
         {
          "episodes": 1000,
          "runs": 737
         },
         {
          "episodes": 1000,
          "runs": 738
         },
         {
          "episodes": 1000,
          "runs": 739
         },
         {
          "episodes": 1000,
          "runs": 740
         },
         {
          "episodes": 1,
          "runs": 741
         },
         {
          "episodes": 1000,
          "runs": 742
         },
         {
          "episodes": 1,
          "runs": 743
         },
         {
          "episodes": 1,
          "runs": 744
         },
         {
          "episodes": 1000,
          "runs": 745
         },
         {
          "episodes": 1,
          "runs": 746
         },
         {
          "episodes": 1000,
          "runs": 747
         },
         {
          "episodes": 1000,
          "runs": 748
         },
         {
          "episodes": 1000,
          "runs": 749
         },
         {
          "episodes": 1000,
          "runs": 750
         },
         {
          "episodes": 1000,
          "runs": 751
         },
         {
          "episodes": 1,
          "runs": 752
         },
         {
          "episodes": 1000,
          "runs": 753
         },
         {
          "episodes": 1000,
          "runs": 754
         },
         {
          "episodes": 1,
          "runs": 755
         },
         {
          "episodes": 1000,
          "runs": 756
         },
         {
          "episodes": 1,
          "runs": 757
         },
         {
          "episodes": 1000,
          "runs": 758
         },
         {
          "episodes": 1000,
          "runs": 759
         },
         {
          "episodes": 1,
          "runs": 760
         },
         {
          "episodes": 1000,
          "runs": 761
         },
         {
          "episodes": 1000,
          "runs": 762
         },
         {
          "episodes": 1000,
          "runs": 763
         },
         {
          "episodes": 1000,
          "runs": 764
         },
         {
          "episodes": 1000,
          "runs": 765
         },
         {
          "episodes": 1,
          "runs": 766
         },
         {
          "episodes": 1,
          "runs": 767
         },
         {
          "episodes": 1000,
          "runs": 768
         },
         {
          "episodes": 1,
          "runs": 769
         },
         {
          "episodes": 1000,
          "runs": 770
         },
         {
          "episodes": 1,
          "runs": 771
         },
         {
          "episodes": 1000,
          "runs": 772
         },
         {
          "episodes": 1000,
          "runs": 773
         },
         {
          "episodes": 1000,
          "runs": 774
         },
         {
          "episodes": 1000,
          "runs": 775
         },
         {
          "episodes": 1000,
          "runs": 776
         },
         {
          "episodes": 1000,
          "runs": 777
         },
         {
          "episodes": 1,
          "runs": 778
         },
         {
          "episodes": 1,
          "runs": 779
         },
         {
          "episodes": 1,
          "runs": 780
         },
         {
          "episodes": 1,
          "runs": 781
         },
         {
          "episodes": 1,
          "runs": 782
         },
         {
          "episodes": 1,
          "runs": 783
         },
         {
          "episodes": 1000,
          "runs": 784
         },
         {
          "episodes": 1000,
          "runs": 785
         },
         {
          "episodes": 1000,
          "runs": 786
         },
         {
          "episodes": 1000,
          "runs": 787
         },
         {
          "episodes": 1,
          "runs": 788
         },
         {
          "episodes": 1000,
          "runs": 789
         },
         {
          "episodes": 1000,
          "runs": 790
         },
         {
          "episodes": 1000,
          "runs": 791
         },
         {
          "episodes": 1000,
          "runs": 792
         },
         {
          "episodes": 1000,
          "runs": 793
         },
         {
          "episodes": 1000,
          "runs": 794
         },
         {
          "episodes": 1,
          "runs": 795
         },
         {
          "episodes": 1000,
          "runs": 796
         },
         {
          "episodes": 1,
          "runs": 797
         },
         {
          "episodes": 1000,
          "runs": 798
         },
         {
          "episodes": 1000,
          "runs": 799
         },
         {
          "episodes": 1,
          "runs": 800
         },
         {
          "episodes": 1000,
          "runs": 801
         },
         {
          "episodes": 1,
          "runs": 802
         },
         {
          "episodes": 1,
          "runs": 803
         },
         {
          "episodes": 1,
          "runs": 804
         },
         {
          "episodes": 1000,
          "runs": 805
         },
         {
          "episodes": 1,
          "runs": 806
         },
         {
          "episodes": 1000,
          "runs": 807
         },
         {
          "episodes": 1000,
          "runs": 808
         },
         {
          "episodes": 1,
          "runs": 809
         },
         {
          "episodes": 1000,
          "runs": 810
         },
         {
          "episodes": 1,
          "runs": 811
         },
         {
          "episodes": 1000,
          "runs": 812
         },
         {
          "episodes": 1000,
          "runs": 813
         },
         {
          "episodes": 1000,
          "runs": 814
         },
         {
          "episodes": 1,
          "runs": 815
         },
         {
          "episodes": 1000,
          "runs": 816
         },
         {
          "episodes": 1000,
          "runs": 817
         },
         {
          "episodes": 1000,
          "runs": 818
         },
         {
          "episodes": 1000,
          "runs": 819
         },
         {
          "episodes": 1000,
          "runs": 820
         },
         {
          "episodes": 1000,
          "runs": 821
         },
         {
          "episodes": 1,
          "runs": 822
         },
         {
          "episodes": 1,
          "runs": 823
         },
         {
          "episodes": 1000,
          "runs": 824
         },
         {
          "episodes": 1000,
          "runs": 825
         },
         {
          "episodes": 1000,
          "runs": 826
         },
         {
          "episodes": 1000,
          "runs": 827
         },
         {
          "episodes": 1,
          "runs": 828
         },
         {
          "episodes": 1000,
          "runs": 829
         },
         {
          "episodes": 1,
          "runs": 830
         },
         {
          "episodes": 1,
          "runs": 831
         },
         {
          "episodes": 1,
          "runs": 832
         },
         {
          "episodes": 1000,
          "runs": 833
         },
         {
          "episodes": 1000,
          "runs": 834
         },
         {
          "episodes": 1,
          "runs": 835
         },
         {
          "episodes": 1000,
          "runs": 836
         },
         {
          "episodes": 1000,
          "runs": 837
         },
         {
          "episodes": 1,
          "runs": 838
         },
         {
          "episodes": 1,
          "runs": 839
         },
         {
          "episodes": 1000,
          "runs": 840
         },
         {
          "episodes": 1000,
          "runs": 841
         },
         {
          "episodes": 1000,
          "runs": 842
         },
         {
          "episodes": 1,
          "runs": 843
         },
         {
          "episodes": 1000,
          "runs": 844
         },
         {
          "episodes": 1000,
          "runs": 845
         },
         {
          "episodes": 1000,
          "runs": 846
         },
         {
          "episodes": 1000,
          "runs": 847
         },
         {
          "episodes": 1000,
          "runs": 848
         },
         {
          "episodes": 1,
          "runs": 849
         },
         {
          "episodes": 1000,
          "runs": 850
         },
         {
          "episodes": 1000,
          "runs": 851
         },
         {
          "episodes": 1,
          "runs": 852
         },
         {
          "episodes": 1,
          "runs": 853
         },
         {
          "episodes": 1000,
          "runs": 854
         },
         {
          "episodes": 1000,
          "runs": 855
         },
         {
          "episodes": 1000,
          "runs": 856
         },
         {
          "episodes": 1,
          "runs": 857
         },
         {
          "episodes": 1000,
          "runs": 858
         },
         {
          "episodes": 1,
          "runs": 859
         },
         {
          "episodes": 1000,
          "runs": 860
         },
         {
          "episodes": 1,
          "runs": 861
         },
         {
          "episodes": 1000,
          "runs": 862
         },
         {
          "episodes": 1000,
          "runs": 863
         },
         {
          "episodes": 1,
          "runs": 864
         },
         {
          "episodes": 1000,
          "runs": 865
         },
         {
          "episodes": 1000,
          "runs": 866
         },
         {
          "episodes": 1000,
          "runs": 867
         },
         {
          "episodes": 1,
          "runs": 868
         },
         {
          "episodes": 1000,
          "runs": 869
         },
         {
          "episodes": 1000,
          "runs": 870
         },
         {
          "episodes": 1,
          "runs": 871
         },
         {
          "episodes": 1000,
          "runs": 872
         },
         {
          "episodes": 1000,
          "runs": 873
         },
         {
          "episodes": 1000,
          "runs": 874
         },
         {
          "episodes": 1000,
          "runs": 875
         },
         {
          "episodes": 1,
          "runs": 876
         },
         {
          "episodes": 1,
          "runs": 877
         },
         {
          "episodes": 1,
          "runs": 878
         },
         {
          "episodes": 1000,
          "runs": 879
         },
         {
          "episodes": 1,
          "runs": 880
         },
         {
          "episodes": 1000,
          "runs": 881
         },
         {
          "episodes": 1,
          "runs": 882
         },
         {
          "episodes": 1000,
          "runs": 883
         },
         {
          "episodes": 1000,
          "runs": 884
         },
         {
          "episodes": 1000,
          "runs": 885
         },
         {
          "episodes": 1,
          "runs": 886
         },
         {
          "episodes": 1000,
          "runs": 887
         },
         {
          "episodes": 1,
          "runs": 888
         },
         {
          "episodes": 1,
          "runs": 889
         },
         {
          "episodes": 1000,
          "runs": 890
         },
         {
          "episodes": 1000,
          "runs": 891
         },
         {
          "episodes": 1000,
          "runs": 892
         },
         {
          "episodes": 1000,
          "runs": 893
         },
         {
          "episodes": 1000,
          "runs": 894
         },
         {
          "episodes": 1,
          "runs": 895
         },
         {
          "episodes": 1000,
          "runs": 896
         },
         {
          "episodes": 1,
          "runs": 897
         },
         {
          "episodes": 1000,
          "runs": 898
         },
         {
          "episodes": 1000,
          "runs": 899
         },
         {
          "episodes": 1,
          "runs": 900
         },
         {
          "episodes": 1,
          "runs": 901
         },
         {
          "episodes": 1,
          "runs": 902
         },
         {
          "episodes": 1000,
          "runs": 903
         },
         {
          "episodes": 1000,
          "runs": 904
         },
         {
          "episodes": 1000,
          "runs": 905
         },
         {
          "episodes": 1000,
          "runs": 906
         },
         {
          "episodes": 1,
          "runs": 907
         },
         {
          "episodes": 1000,
          "runs": 908
         },
         {
          "episodes": 1,
          "runs": 909
         },
         {
          "episodes": 1000,
          "runs": 910
         },
         {
          "episodes": 1000,
          "runs": 911
         },
         {
          "episodes": 1,
          "runs": 912
         },
         {
          "episodes": 1,
          "runs": 913
         },
         {
          "episodes": 1000,
          "runs": 914
         },
         {
          "episodes": 1000,
          "runs": 915
         },
         {
          "episodes": 1000,
          "runs": 916
         },
         {
          "episodes": 1000,
          "runs": 917
         },
         {
          "episodes": 1000,
          "runs": 918
         },
         {
          "episodes": 1,
          "runs": 919
         },
         {
          "episodes": 1000,
          "runs": 920
         },
         {
          "episodes": 1,
          "runs": 921
         },
         {
          "episodes": 1000,
          "runs": 922
         },
         {
          "episodes": 1000,
          "runs": 923
         },
         {
          "episodes": 1,
          "runs": 924
         },
         {
          "episodes": 1,
          "runs": 925
         },
         {
          "episodes": 1000,
          "runs": 926
         },
         {
          "episodes": 1000,
          "runs": 927
         },
         {
          "episodes": 1,
          "runs": 928
         },
         {
          "episodes": 1000,
          "runs": 929
         },
         {
          "episodes": 1,
          "runs": 930
         },
         {
          "episodes": 1,
          "runs": 931
         },
         {
          "episodes": 1000,
          "runs": 932
         },
         {
          "episodes": 1000,
          "runs": 933
         },
         {
          "episodes": 1,
          "runs": 934
         },
         {
          "episodes": 1000,
          "runs": 935
         },
         {
          "episodes": 1000,
          "runs": 936
         },
         {
          "episodes": 1000,
          "runs": 937
         },
         {
          "episodes": 1000,
          "runs": 938
         },
         {
          "episodes": 1000,
          "runs": 939
         },
         {
          "episodes": 1,
          "runs": 940
         },
         {
          "episodes": 1000,
          "runs": 941
         },
         {
          "episodes": 1000,
          "runs": 942
         },
         {
          "episodes": 1000,
          "runs": 943
         },
         {
          "episodes": 1,
          "runs": 944
         },
         {
          "episodes": 1000,
          "runs": 945
         },
         {
          "episodes": 1000,
          "runs": 946
         },
         {
          "episodes": 1000,
          "runs": 947
         },
         {
          "episodes": 1,
          "runs": 948
         },
         {
          "episodes": 1000,
          "runs": 949
         },
         {
          "episodes": 1,
          "runs": 950
         },
         {
          "episodes": 1000,
          "runs": 951
         },
         {
          "episodes": 1000,
          "runs": 952
         },
         {
          "episodes": 1000,
          "runs": 953
         },
         {
          "episodes": 1000,
          "runs": 954
         },
         {
          "episodes": 1000,
          "runs": 955
         },
         {
          "episodes": 1000,
          "runs": 956
         },
         {
          "episodes": 1,
          "runs": 957
         },
         {
          "episodes": 1,
          "runs": 958
         },
         {
          "episodes": 1,
          "runs": 959
         },
         {
          "episodes": 1000,
          "runs": 960
         },
         {
          "episodes": 1000,
          "runs": 961
         },
         {
          "episodes": 1000,
          "runs": 962
         },
         {
          "episodes": 1,
          "runs": 963
         },
         {
          "episodes": 1,
          "runs": 964
         },
         {
          "episodes": 1,
          "runs": 965
         },
         {
          "episodes": 1000,
          "runs": 966
         },
         {
          "episodes": 1,
          "runs": 967
         },
         {
          "episodes": 1000,
          "runs": 968
         },
         {
          "episodes": 1,
          "runs": 969
         },
         {
          "episodes": 1,
          "runs": 970
         },
         {
          "episodes": 1,
          "runs": 971
         },
         {
          "episodes": 1000,
          "runs": 972
         },
         {
          "episodes": 1,
          "runs": 973
         },
         {
          "episodes": 1000,
          "runs": 974
         },
         {
          "episodes": 1000,
          "runs": 975
         },
         {
          "episodes": 1000,
          "runs": 976
         },
         {
          "episodes": 1000,
          "runs": 977
         },
         {
          "episodes": 1000,
          "runs": 978
         },
         {
          "episodes": 1,
          "runs": 979
         },
         {
          "episodes": 1000,
          "runs": 980
         },
         {
          "episodes": 1000,
          "runs": 981
         },
         {
          "episodes": 1000,
          "runs": 982
         },
         {
          "episodes": 1000,
          "runs": 983
         },
         {
          "episodes": 1000,
          "runs": 984
         },
         {
          "episodes": 1000,
          "runs": 985
         },
         {
          "episodes": 1,
          "runs": 986
         },
         {
          "episodes": 1000,
          "runs": 987
         },
         {
          "episodes": 1,
          "runs": 988
         },
         {
          "episodes": 1000,
          "runs": 989
         },
         {
          "episodes": 1,
          "runs": 990
         },
         {
          "episodes": 1,
          "runs": 991
         },
         {
          "episodes": 1000,
          "runs": 992
         },
         {
          "episodes": 1000,
          "runs": 993
         },
         {
          "episodes": 1000,
          "runs": 994
         },
         {
          "episodes": 1000,
          "runs": 995
         },
         {
          "episodes": 1,
          "runs": 996
         },
         {
          "episodes": 1000,
          "runs": 997
         },
         {
          "episodes": 1000,
          "runs": 998
         },
         {
          "episodes": 1000,
          "runs": 999
         }
        ]
       },
       "layer": [
        {
         "data": {
          "name": "data-35fa975e8ab8b089b9837f1626c407bf"
         },
         "encoding": {
          "x": {
           "bin": true,
           "field": "episodes",
           "title": "Binned Episodes",
           "type": "quantitative"
          },
          "y": {
           "aggregate": "count",
           "field": "episodes",
           "type": "quantitative"
          }
         },
         "mark": "bar",
         "title": "Random policy (1000 runs)"
        },
        {
         "data": {
          "name": "data-35fa975e8ab8b089b9837f1626c407bf"
         },
         "encoding": {
          "size": {
           "value": 3
          },
          "x": {
           "aggregate": "mean",
           "field": "episodes",
           "type": "quantitative"
          }
         },
         "mark": {
          "color": "red",
          "type": "rule"
         }
        }
       ]
      },
      "image/png": "[encoded data removed]",
      "text/plain": [
       "<VegaLite 2 object>\n",
       "\n",
       "If you see this message, it means the renderer has not been properly enabled\n",
       "for the frontend that you are using. For more information, see\n",
       "https://altair-viz.github.io/user_guide/troubleshooting.html\n"
      ]
     },
     "execution_count": 33,
     "metadata": {},
     "output_type": "execute_result"
    }
   ],
   "source": [
    "chart, random_df = plot(data_dir, \"random\", altair=True, title= \"Random policy (1000 runs)\")\n",
    "chart"
   ]
  },
  {
   "cell_type": "markdown",
   "metadata": {},
   "source": [
    "# Vanilla Hill Climbing"
   ]
  },
  {
   "cell_type": "code",
   "execution_count": 22,
   "metadata": {},
   "outputs": [
    {
     "name": "stdout",
     "output_type": "stream",
     "text": [
      "using pickle path: ../src/runs//vanilla/20181015180710/data.pkl\n",
      "              runs  episodes\n",
      "count  1000.000000  1000.000\n",
      "mean    499.500000   367.374\n",
      "std     288.819436   399.116\n",
      "min       0.000000     1.000\n",
      "25%     249.750000     1.000\n",
      "50%     499.500000   217.000\n",
      "75%     749.250000   912.000\n",
      "max     999.000000  1000.000\n"
     ]
    },
    {
     "data": {
      "text/plain": [
       "<matplotlib.axes._subplots.AxesSubplot at 0x7f1d88624160>"
      ]
     },
     "execution_count": 22,
     "metadata": {},
     "output_type": "execute_result"
    },
    {
     "data": {
      "image/png": "[encoded data removed]",
      "text/plain": [
       "<Figure size 432x288 with 1 Axes>"
      ]
     },
     "metadata": {
      "needs_background": "light"
     },
     "output_type": "display_data"
    }
   ],
   "source": [
    "chart, vanilla_df = plot(data_dir, 'vanilla')\n",
    "chart"
   ]
  },
  {
   "cell_type": "code",
   "execution_count": 43,
   "metadata": {},
   "outputs": [
    {
     "name": "stdout",
     "output_type": "stream",
     "text": [
      "using pickle path: ../src/runs//vanilla/20181015180710/data.pkl\n",
      "              runs  episodes\n",
      "count  1000.000000  1000.000\n",
      "mean    499.500000   367.374\n",
      "std     288.819436   399.116\n",
      "min       0.000000     1.000\n",
      "25%     249.750000     1.000\n",
      "50%     499.500000   217.000\n",
      "75%     749.250000   912.000\n",
      "max     999.000000  1000.000\n"
     ]
    },
    {
     "data": {
      "application/vnd.vegalite.v2+json": {
       "$schema": "https://vega.github.io/schema/vega-lite/v2.6.0.json",
       "config": {
        "view": {
         "height": 300,
         "width": 400
        }
       },
       "datasets": {
        "data-05862166270760960cb395e375ae4ae0": [
         {
          "episodes": 216,
          "runs": 0
         },
         {
          "episodes": 217,
          "runs": 1
         },
         {
          "episodes": 216,
          "runs": 2
         },
         {
          "episodes": 1,
          "runs": 3
         },
         {
          "episodes": 1,
          "runs": 4
         },
         {
          "episodes": 1,
          "runs": 5
         },
         {
          "episodes": 217,
          "runs": 6
         },
         {
          "episodes": 1,
          "runs": 7
         },
         {
          "episodes": 912,
          "runs": 8
         },
         {
          "episodes": 934,
          "runs": 9
         },
         {
          "episodes": 1,
          "runs": 10
         },
         {
          "episodes": 933,
          "runs": 11
         },
         {
          "episodes": 1,
          "runs": 12
         },
         {
          "episodes": 1,
          "runs": 13
         },
         {
          "episodes": 912,
          "runs": 14
         },
         {
          "episodes": 229,
          "runs": 15
         },
         {
          "episodes": 1000,
          "runs": 16
         },
         {
          "episodes": 1000,
          "runs": 17
         },
         {
          "episodes": 216,
          "runs": 18
         },
         {
          "episodes": 231,
          "runs": 19
         },
         {
          "episodes": 909,
          "runs": 20
         },
         {
          "episodes": 1,
          "runs": 21
         },
         {
          "episodes": 1,
          "runs": 22
         },
         {
          "episodes": 232,
          "runs": 23
         },
         {
          "episodes": 932,
          "runs": 24
         },
         {
          "episodes": 1,
          "runs": 25
         },
         {
          "episodes": 1,
          "runs": 26
         },
         {
          "episodes": 1,
          "runs": 27
         },
         {
          "episodes": 1000,
          "runs": 28
         },
         {
          "episodes": 225,
          "runs": 29
         },
         {
          "episodes": 217,
          "runs": 30
         },
         {
          "episodes": 1,
          "runs": 31
         },
         {
          "episodes": 1,
          "runs": 32
         },
         {
          "episodes": 1,
          "runs": 33
         },
         {
          "episodes": 1000,
          "runs": 34
         },
         {
          "episodes": 1,
          "runs": 35
         },
         {
          "episodes": 242,
          "runs": 36
         },
         {
          "episodes": 1,
          "runs": 37
         },
         {
          "episodes": 912,
          "runs": 38
         },
         {
          "episodes": 235,
          "runs": 39
         },
         {
          "episodes": 1,
          "runs": 40
         },
         {
          "episodes": 217,
          "runs": 41
         },
         {
          "episodes": 999,
          "runs": 42
         },
         {
          "episodes": 1,
          "runs": 43
         },
         {
          "episodes": 1000,
          "runs": 44
         },
         {
          "episodes": 216,
          "runs": 45
         },
         {
          "episodes": 229,
          "runs": 46
         },
         {
          "episodes": 226,
          "runs": 47
         },
         {
          "episodes": 1000,
          "runs": 48
         },
         {
          "episodes": 217,
          "runs": 49
         },
         {
          "episodes": 1,
          "runs": 50
         },
         {
          "episodes": 1,
          "runs": 51
         },
         {
          "episodes": 922,
          "runs": 52
         },
         {
          "episodes": 225,
          "runs": 53
         },
         {
          "episodes": 222,
          "runs": 54
         },
         {
          "episodes": 1,
          "runs": 55
         },
         {
          "episodes": 1,
          "runs": 56
         },
         {
          "episodes": 1000,
          "runs": 57
         },
         {
          "episodes": 217,
          "runs": 58
         },
         {
          "episodes": 1000,
          "runs": 59
         },
         {
          "episodes": 217,
          "runs": 60
         },
         {
          "episodes": 912,
          "runs": 61
         },
         {
          "episodes": 232,
          "runs": 62
         },
         {
          "episodes": 1,
          "runs": 63
         },
         {
          "episodes": 217,
          "runs": 64
         },
         {
          "episodes": 232,
          "runs": 65
         },
         {
          "episodes": 230,
          "runs": 66
         },
         {
          "episodes": 230,
          "runs": 67
         },
         {
          "episodes": 1,
          "runs": 68
         },
         {
          "episodes": 217,
          "runs": 69
         },
         {
          "episodes": 216,
          "runs": 70
         },
         {
          "episodes": 1,
          "runs": 71
         },
         {
          "episodes": 1,
          "runs": 72
         },
         {
          "episodes": 935,
          "runs": 73
         },
         {
          "episodes": 894,
          "runs": 74
         },
         {
          "episodes": 1000,
          "runs": 75
         },
         {
          "episodes": 1,
          "runs": 76
         },
         {
          "episodes": 216,
          "runs": 77
         },
         {
          "episodes": 219,
          "runs": 78
         },
         {
          "episodes": 1,
          "runs": 79
         },
         {
          "episodes": 217,
          "runs": 80
         },
         {
          "episodes": 230,
          "runs": 81
         },
         {
          "episodes": 1000,
          "runs": 82
         },
         {
          "episodes": 216,
          "runs": 83
         },
         {
          "episodes": 217,
          "runs": 84
         },
         {
          "episodes": 217,
          "runs": 85
         },
         {
          "episodes": 1,
          "runs": 86
         },
         {
          "episodes": 1,
          "runs": 87
         },
         {
          "episodes": 230,
          "runs": 88
         },
         {
          "episodes": 1,
          "runs": 89
         },
         {
          "episodes": 1000,
          "runs": 90
         },
         {
          "episodes": 1000,
          "runs": 91
         },
         {
          "episodes": 1000,
          "runs": 92
         },
         {
          "episodes": 764,
          "runs": 93
         },
         {
          "episodes": 764,
          "runs": 94
         },
         {
          "episodes": 1,
          "runs": 95
         },
         {
          "episodes": 1,
          "runs": 96
         },
         {
          "episodes": 217,
          "runs": 97
         },
         {
          "episodes": 217,
          "runs": 98
         },
         {
          "episodes": 1,
          "runs": 99
         },
         {
          "episodes": 230,
          "runs": 100
         },
         {
          "episodes": 909,
          "runs": 101
         },
         {
          "episodes": 1,
          "runs": 102
         },
         {
          "episodes": 1,
          "runs": 103
         },
         {
          "episodes": 217,
          "runs": 104
         },
         {
          "episodes": 217,
          "runs": 105
         },
         {
          "episodes": 944,
          "runs": 106
         },
         {
          "episodes": 217,
          "runs": 107
         },
         {
          "episodes": 230,
          "runs": 108
         },
         {
          "episodes": 1000,
          "runs": 109
         },
         {
          "episodes": 1,
          "runs": 110
         },
         {
          "episodes": 1,
          "runs": 111
         },
         {
          "episodes": 1,
          "runs": 112
         },
         {
          "episodes": 1000,
          "runs": 113
         },
         {
          "episodes": 1,
          "runs": 114
         },
         {
          "episodes": 216,
          "runs": 115
         },
         {
          "episodes": 216,
          "runs": 116
         },
         {
          "episodes": 1000,
          "runs": 117
         },
         {
          "episodes": 1,
          "runs": 118
         },
         {
          "episodes": 1,
          "runs": 119
         },
         {
          "episodes": 229,
          "runs": 120
         },
         {
          "episodes": 1,
          "runs": 121
         },
         {
          "episodes": 567,
          "runs": 122
         },
         {
          "episodes": 1000,
          "runs": 123
         },
         {
          "episodes": 1000,
          "runs": 124
         },
         {
          "episodes": 914,
          "runs": 125
         },
         {
          "episodes": 1000,
          "runs": 126
         },
         {
          "episodes": 217,
          "runs": 127
         },
         {
          "episodes": 1000,
          "runs": 128
         },
         {
          "episodes": 217,
          "runs": 129
         },
         {
          "episodes": 1,
          "runs": 130
         },
         {
          "episodes": 755,
          "runs": 131
         },
         {
          "episodes": 1,
          "runs": 132
         },
         {
          "episodes": 1,
          "runs": 133
         },
         {
          "episodes": 230,
          "runs": 134
         },
         {
          "episodes": 1,
          "runs": 135
         },
         {
          "episodes": 1,
          "runs": 136
         },
         {
          "episodes": 1,
          "runs": 137
         },
         {
          "episodes": 217,
          "runs": 138
         },
         {
          "episodes": 217,
          "runs": 139
         },
         {
          "episodes": 1000,
          "runs": 140
         },
         {
          "episodes": 1,
          "runs": 141
         },
         {
          "episodes": 1,
          "runs": 142
         },
         {
          "episodes": 230,
          "runs": 143
         },
         {
          "episodes": 230,
          "runs": 144
         },
         {
          "episodes": 1,
          "runs": 145
         },
         {
          "episodes": 1000,
          "runs": 146
         },
         {
          "episodes": 229,
          "runs": 147
         },
         {
          "episodes": 217,
          "runs": 148
         },
         {
          "episodes": 230,
          "runs": 149
         },
         {
          "episodes": 217,
          "runs": 150
         },
         {
          "episodes": 935,
          "runs": 151
         },
         {
          "episodes": 1,
          "runs": 152
         },
         {
          "episodes": 355,
          "runs": 153
         },
         {
          "episodes": 217,
          "runs": 154
         },
         {
          "episodes": 1,
          "runs": 155
         },
         {
          "episodes": 1,
          "runs": 156
         },
         {
          "episodes": 1,
          "runs": 157
         },
         {
          "episodes": 1000,
          "runs": 158
         },
         {
          "episodes": 235,
          "runs": 159
         },
         {
          "episodes": 1,
          "runs": 160
         },
         {
          "episodes": 753,
          "runs": 161
         },
         {
          "episodes": 223,
          "runs": 162
         },
         {
          "episodes": 1,
          "runs": 163
         },
         {
          "episodes": 912,
          "runs": 164
         },
         {
          "episodes": 1,
          "runs": 165
         },
         {
          "episodes": 1,
          "runs": 166
         },
         {
          "episodes": 1,
          "runs": 167
         },
         {
          "episodes": 1,
          "runs": 168
         },
         {
          "episodes": 759,
          "runs": 169
         },
         {
          "episodes": 1,
          "runs": 170
         },
         {
          "episodes": 909,
          "runs": 171
         },
         {
          "episodes": 1,
          "runs": 172
         },
         {
          "episodes": 927,
          "runs": 173
         },
         {
          "episodes": 216,
          "runs": 174
         },
         {
          "episodes": 216,
          "runs": 175
         },
         {
          "episodes": 1000,
          "runs": 176
         },
         {
          "episodes": 955,
          "runs": 177
         },
         {
          "episodes": 235,
          "runs": 178
         },
         {
          "episodes": 1,
          "runs": 179
         },
         {
          "episodes": 1,
          "runs": 180
         },
         {
          "episodes": 952,
          "runs": 181
         },
         {
          "episodes": 1,
          "runs": 182
         },
         {
          "episodes": 949,
          "runs": 183
         },
         {
          "episodes": 1,
          "runs": 184
         },
         {
          "episodes": 1,
          "runs": 185
         },
         {
          "episodes": 217,
          "runs": 186
         },
         {
          "episodes": 217,
          "runs": 187
         },
         {
          "episodes": 1,
          "runs": 188
         },
         {
          "episodes": 1,
          "runs": 189
         },
         {
          "episodes": 216,
          "runs": 190
         },
         {
          "episodes": 1000,
          "runs": 191
         },
         {
          "episodes": 217,
          "runs": 192
         },
         {
          "episodes": 1000,
          "runs": 193
         },
         {
          "episodes": 1,
          "runs": 194
         },
         {
          "episodes": 229,
          "runs": 195
         },
         {
          "episodes": 915,
          "runs": 196
         },
         {
          "episodes": 217,
          "runs": 197
         },
         {
          "episodes": 1,
          "runs": 198
         },
         {
          "episodes": 1,
          "runs": 199
         },
         {
          "episodes": 1,
          "runs": 200
         },
         {
          "episodes": 1,
          "runs": 201
         },
         {
          "episodes": 232,
          "runs": 202
         },
         {
          "episodes": 1,
          "runs": 203
         },
         {
          "episodes": 226,
          "runs": 204
         },
         {
          "episodes": 1,
          "runs": 205
         },
         {
          "episodes": 1,
          "runs": 206
         },
         {
          "episodes": 759,
          "runs": 207
         },
         {
          "episodes": 217,
          "runs": 208
         },
         {
          "episodes": 216,
          "runs": 209
         },
         {
          "episodes": 1,
          "runs": 210
         },
         {
          "episodes": 1,
          "runs": 211
         },
         {
          "episodes": 930,
          "runs": 212
         },
         {
          "episodes": 1,
          "runs": 213
         },
         {
          "episodes": 1,
          "runs": 214
         },
         {
          "episodes": 219,
          "runs": 215
         },
         {
          "episodes": 1000,
          "runs": 216
         },
         {
          "episodes": 1000,
          "runs": 217
         },
         {
          "episodes": 933,
          "runs": 218
         },
         {
          "episodes": 1,
          "runs": 219
         },
         {
          "episodes": 1,
          "runs": 220
         },
         {
          "episodes": 1000,
          "runs": 221
         },
         {
          "episodes": 1,
          "runs": 222
         },
         {
          "episodes": 1000,
          "runs": 223
         },
         {
          "episodes": 916,
          "runs": 224
         },
         {
          "episodes": 1,
          "runs": 225
         },
         {
          "episodes": 930,
          "runs": 226
         },
         {
          "episodes": 217,
          "runs": 227
         },
         {
          "episodes": 216,
          "runs": 228
         },
         {
          "episodes": 1,
          "runs": 229
         },
         {
          "episodes": 1,
          "runs": 230
         },
         {
          "episodes": 1,
          "runs": 231
         },
         {
          "episodes": 219,
          "runs": 232
         },
         {
          "episodes": 1000,
          "runs": 233
         },
         {
          "episodes": 927,
          "runs": 234
         },
         {
          "episodes": 759,
          "runs": 235
         },
         {
          "episodes": 912,
          "runs": 236
         },
         {
          "episodes": 217,
          "runs": 237
         },
         {
          "episodes": 753,
          "runs": 238
         },
         {
          "episodes": 230,
          "runs": 239
         },
         {
          "episodes": 1,
          "runs": 240
         },
         {
          "episodes": 1,
          "runs": 241
         },
         {
          "episodes": 1,
          "runs": 242
         },
         {
          "episodes": 235,
          "runs": 243
         },
         {
          "episodes": 1000,
          "runs": 244
         },
         {
          "episodes": 1,
          "runs": 245
         },
         {
          "episodes": 837,
          "runs": 246
         },
         {
          "episodes": 1,
          "runs": 247
         },
         {
          "episodes": 1000,
          "runs": 248
         },
         {
          "episodes": 1,
          "runs": 249
         },
         {
          "episodes": 764,
          "runs": 250
         },
         {
          "episodes": 1000,
          "runs": 251
         },
         {
          "episodes": 217,
          "runs": 252
         },
         {
          "episodes": 216,
          "runs": 253
         },
         {
          "episodes": 763,
          "runs": 254
         },
         {
          "episodes": 1,
          "runs": 255
         },
         {
          "episodes": 1,
          "runs": 256
         },
         {
          "episodes": 217,
          "runs": 257
         },
         {
          "episodes": 938,
          "runs": 258
         },
         {
          "episodes": 216,
          "runs": 259
         },
         {
          "episodes": 1000,
          "runs": 260
         },
         {
          "episodes": 219,
          "runs": 261
         },
         {
          "episodes": 912,
          "runs": 262
         },
         {
          "episodes": 1,
          "runs": 263
         },
         {
          "episodes": 1000,
          "runs": 264
         },
         {
          "episodes": 235,
          "runs": 265
         },
         {
          "episodes": 1,
          "runs": 266
         },
         {
          "episodes": 1,
          "runs": 267
         },
         {
          "episodes": 1,
          "runs": 268
         },
         {
          "episodes": 942,
          "runs": 269
         },
         {
          "episodes": 918,
          "runs": 270
         },
         {
          "episodes": 217,
          "runs": 271
         },
         {
          "episodes": 235,
          "runs": 272
         },
         {
          "episodes": 1,
          "runs": 273
         },
         {
          "episodes": 932,
          "runs": 274
         },
         {
          "episodes": 217,
          "runs": 275
         },
         {
          "episodes": 1,
          "runs": 276
         },
         {
          "episodes": 217,
          "runs": 277
         },
         {
          "episodes": 1,
          "runs": 278
         },
         {
          "episodes": 217,
          "runs": 279
         },
         {
          "episodes": 1,
          "runs": 280
         },
         {
          "episodes": 1,
          "runs": 281
         },
         {
          "episodes": 1,
          "runs": 282
         },
         {
          "episodes": 1000,
          "runs": 283
         },
         {
          "episodes": 1000,
          "runs": 284
         },
         {
          "episodes": 217,
          "runs": 285
         },
         {
          "episodes": 1,
          "runs": 286
         },
         {
          "episodes": 217,
          "runs": 287
         },
         {
          "episodes": 217,
          "runs": 288
         },
         {
          "episodes": 230,
          "runs": 289
         },
         {
          "episodes": 1000,
          "runs": 290
         },
         {
          "episodes": 1,
          "runs": 291
         },
         {
          "episodes": 1,
          "runs": 292
         },
         {
          "episodes": 1000,
          "runs": 293
         },
         {
          "episodes": 1,
          "runs": 294
         },
         {
          "episodes": 217,
          "runs": 295
         },
         {
          "episodes": 1000,
          "runs": 296
         },
         {
          "episodes": 1,
          "runs": 297
         },
         {
          "episodes": 1,
          "runs": 298
         },
         {
          "episodes": 230,
          "runs": 299
         },
         {
          "episodes": 1000,
          "runs": 300
         },
         {
          "episodes": 217,
          "runs": 301
         },
         {
          "episodes": 1,
          "runs": 302
         },
         {
          "episodes": 1,
          "runs": 303
         },
         {
          "episodes": 217,
          "runs": 304
         },
         {
          "episodes": 922,
          "runs": 305
         },
         {
          "episodes": 1,
          "runs": 306
         },
         {
          "episodes": 919,
          "runs": 307
         },
         {
          "episodes": 1000,
          "runs": 308
         },
         {
          "episodes": 1000,
          "runs": 309
         },
         {
          "episodes": 935,
          "runs": 310
         },
         {
          "episodes": 1,
          "runs": 311
         },
         {
          "episodes": 1,
          "runs": 312
         },
         {
          "episodes": 217,
          "runs": 313
         },
         {
          "episodes": 1,
          "runs": 314
         },
         {
          "episodes": 1,
          "runs": 315
         },
         {
          "episodes": 230,
          "runs": 316
         },
         {
          "episodes": 1000,
          "runs": 317
         },
         {
          "episodes": 912,
          "runs": 318
         },
         {
          "episodes": 1000,
          "runs": 319
         },
         {
          "episodes": 1000,
          "runs": 320
         },
         {
          "episodes": 1,
          "runs": 321
         },
         {
          "episodes": 945,
          "runs": 322
         },
         {
          "episodes": 915,
          "runs": 323
         },
         {
          "episodes": 1000,
          "runs": 324
         },
         {
          "episodes": 230,
          "runs": 325
         },
         {
          "episodes": 1,
          "runs": 326
         },
         {
          "episodes": 217,
          "runs": 327
         },
         {
          "episodes": 1,
          "runs": 328
         },
         {
          "episodes": 932,
          "runs": 329
         },
         {
          "episodes": 1,
          "runs": 330
         },
         {
          "episodes": 229,
          "runs": 331
         },
         {
          "episodes": 217,
          "runs": 332
         },
         {
          "episodes": 232,
          "runs": 333
         },
         {
          "episodes": 1,
          "runs": 334
         },
         {
          "episodes": 235,
          "runs": 335
         },
         {
          "episodes": 217,
          "runs": 336
         },
         {
          "episodes": 1000,
          "runs": 337
         },
         {
          "episodes": 1,
          "runs": 338
         },
         {
          "episodes": 223,
          "runs": 339
         },
         {
          "episodes": 217,
          "runs": 340
         },
         {
          "episodes": 1,
          "runs": 341
         },
         {
          "episodes": 1,
          "runs": 342
         },
         {
          "episodes": 752,
          "runs": 343
         },
         {
          "episodes": 1,
          "runs": 344
         },
         {
          "episodes": 934,
          "runs": 345
         },
         {
          "episodes": 925,
          "runs": 346
         },
         {
          "episodes": 219,
          "runs": 347
         },
         {
          "episodes": 230,
          "runs": 348
         },
         {
          "episodes": 217,
          "runs": 349
         },
         {
          "episodes": 1,
          "runs": 350
         },
         {
          "episodes": 1000,
          "runs": 351
         },
         {
          "episodes": 217,
          "runs": 352
         },
         {
          "episodes": 1,
          "runs": 353
         },
         {
          "episodes": 1,
          "runs": 354
         },
         {
          "episodes": 1,
          "runs": 355
         },
         {
          "episodes": 908,
          "runs": 356
         },
         {
          "episodes": 1,
          "runs": 357
         },
         {
          "episodes": 1,
          "runs": 358
         },
         {
          "episodes": 230,
          "runs": 359
         },
         {
          "episodes": 217,
          "runs": 360
         },
         {
          "episodes": 1000,
          "runs": 361
         },
         {
          "episodes": 1,
          "runs": 362
         },
         {
          "episodes": 1,
          "runs": 363
         },
         {
          "episodes": 1,
          "runs": 364
         },
         {
          "episodes": 899,
          "runs": 365
         },
         {
          "episodes": 1,
          "runs": 366
         },
         {
          "episodes": 217,
          "runs": 367
         },
         {
          "episodes": 1000,
          "runs": 368
         },
         {
          "episodes": 222,
          "runs": 369
         },
         {
          "episodes": 216,
          "runs": 370
         },
         {
          "episodes": 231,
          "runs": 371
         },
         {
          "episodes": 217,
          "runs": 372
         },
         {
          "episodes": 230,
          "runs": 373
         },
         {
          "episodes": 230,
          "runs": 374
         },
         {
          "episodes": 217,
          "runs": 375
         },
         {
          "episodes": 933,
          "runs": 376
         },
         {
          "episodes": 1,
          "runs": 377
         },
         {
          "episodes": 1,
          "runs": 378
         },
         {
          "episodes": 216,
          "runs": 379
         },
         {
          "episodes": 230,
          "runs": 380
         },
         {
          "episodes": 216,
          "runs": 381
         },
         {
          "episodes": 230,
          "runs": 382
         },
         {
          "episodes": 1,
          "runs": 383
         },
         {
          "episodes": 217,
          "runs": 384
         },
         {
          "episodes": 1,
          "runs": 385
         },
         {
          "episodes": 1,
          "runs": 386
         },
         {
          "episodes": 912,
          "runs": 387
         },
         {
          "episodes": 1,
          "runs": 388
         },
         {
          "episodes": 1,
          "runs": 389
         },
         {
          "episodes": 1,
          "runs": 390
         },
         {
          "episodes": 1,
          "runs": 391
         },
         {
          "episodes": 217,
          "runs": 392
         },
         {
          "episodes": 1000,
          "runs": 393
         },
         {
          "episodes": 226,
          "runs": 394
         },
         {
          "episodes": 912,
          "runs": 395
         },
         {
          "episodes": 944,
          "runs": 396
         },
         {
          "episodes": 1,
          "runs": 397
         },
         {
          "episodes": 217,
          "runs": 398
         },
         {
          "episodes": 933,
          "runs": 399
         },
         {
          "episodes": 216,
          "runs": 400
         },
         {
          "episodes": 1,
          "runs": 401
         },
         {
          "episodes": 1,
          "runs": 402
         },
         {
          "episodes": 1000,
          "runs": 403
         },
         {
          "episodes": 753,
          "runs": 404
         },
         {
          "episodes": 912,
          "runs": 405
         },
         {
          "episodes": 1000,
          "runs": 406
         },
         {
          "episodes": 217,
          "runs": 407
         },
         {
          "episodes": 1000,
          "runs": 408
         },
         {
          "episodes": 217,
          "runs": 409
         },
         {
          "episodes": 1000,
          "runs": 410
         },
         {
          "episodes": 226,
          "runs": 411
         },
         {
          "episodes": 223,
          "runs": 412
         },
         {
          "episodes": 1,
          "runs": 413
         },
         {
          "episodes": 235,
          "runs": 414
         },
         {
          "episodes": 216,
          "runs": 415
         },
         {
          "episodes": 230,
          "runs": 416
         },
         {
          "episodes": 1000,
          "runs": 417
         },
         {
          "episodes": 217,
          "runs": 418
         },
         {
          "episodes": 1,
          "runs": 419
         },
         {
          "episodes": 223,
          "runs": 420
         },
         {
          "episodes": 933,
          "runs": 421
         },
         {
          "episodes": 230,
          "runs": 422
         },
         {
          "episodes": 217,
          "runs": 423
         },
         {
          "episodes": 1000,
          "runs": 424
         },
         {
          "episodes": 933,
          "runs": 425
         },
         {
          "episodes": 1,
          "runs": 426
         },
         {
          "episodes": 1,
          "runs": 427
         },
         {
          "episodes": 1000,
          "runs": 428
         },
         {
          "episodes": 1,
          "runs": 429
         },
         {
          "episodes": 957,
          "runs": 430
         },
         {
          "episodes": 216,
          "runs": 431
         },
         {
          "episodes": 217,
          "runs": 432
         },
         {
          "episodes": 1,
          "runs": 433
         },
         {
          "episodes": 223,
          "runs": 434
         },
         {
          "episodes": 1000,
          "runs": 435
         },
         {
          "episodes": 1,
          "runs": 436
         },
         {
          "episodes": 763,
          "runs": 437
         },
         {
          "episodes": 1,
          "runs": 438
         },
         {
          "episodes": 927,
          "runs": 439
         },
         {
          "episodes": 912,
          "runs": 440
         },
         {
          "episodes": 1,
          "runs": 441
         },
         {
          "episodes": 1,
          "runs": 442
         },
         {
          "episodes": 1,
          "runs": 443
         },
         {
          "episodes": 217,
          "runs": 444
         },
         {
          "episodes": 1,
          "runs": 445
         },
         {
          "episodes": 1000,
          "runs": 446
         },
         {
          "episodes": 1,
          "runs": 447
         },
         {
          "episodes": 1,
          "runs": 448
         },
         {
          "episodes": 217,
          "runs": 449
         },
         {
          "episodes": 759,
          "runs": 450
         },
         {
          "episodes": 925,
          "runs": 451
         },
         {
          "episodes": 217,
          "runs": 452
         },
         {
          "episodes": 226,
          "runs": 453
         },
         {
          "episodes": 1,
          "runs": 454
         },
         {
          "episodes": 1,
          "runs": 455
         },
         {
          "episodes": 260,
          "runs": 456
         },
         {
          "episodes": 222,
          "runs": 457
         },
         {
          "episodes": 229,
          "runs": 458
         },
         {
          "episodes": 1000,
          "runs": 459
         },
         {
          "episodes": 590,
          "runs": 460
         },
         {
          "episodes": 229,
          "runs": 461
         },
         {
          "episodes": 1,
          "runs": 462
         },
         {
          "episodes": 217,
          "runs": 463
         },
         {
          "episodes": 1,
          "runs": 464
         },
         {
          "episodes": 217,
          "runs": 465
         },
         {
          "episodes": 229,
          "runs": 466
         },
         {
          "episodes": 951,
          "runs": 467
         },
         {
          "episodes": 1,
          "runs": 468
         },
         {
          "episodes": 569,
          "runs": 469
         },
         {
          "episodes": 930,
          "runs": 470
         },
         {
          "episodes": 229,
          "runs": 471
         },
         {
          "episodes": 1,
          "runs": 472
         },
         {
          "episodes": 217,
          "runs": 473
         },
         {
          "episodes": 925,
          "runs": 474
         },
         {
          "episodes": 216,
          "runs": 475
         },
         {
          "episodes": 1,
          "runs": 476
         },
         {
          "episodes": 1000,
          "runs": 477
         },
         {
          "episodes": 223,
          "runs": 478
         },
         {
          "episodes": 1,
          "runs": 479
         },
         {
          "episodes": 1,
          "runs": 480
         },
         {
          "episodes": 216,
          "runs": 481
         },
         {
          "episodes": 1,
          "runs": 482
         },
         {
          "episodes": 232,
          "runs": 483
         },
         {
          "episodes": 1,
          "runs": 484
         },
         {
          "episodes": 953,
          "runs": 485
         },
         {
          "episodes": 1,
          "runs": 486
         },
         {
          "episodes": 1,
          "runs": 487
         },
         {
          "episodes": 217,
          "runs": 488
         },
         {
          "episodes": 1000,
          "runs": 489
         },
         {
          "episodes": 1,
          "runs": 490
         },
         {
          "episodes": 1,
          "runs": 491
         },
         {
          "episodes": 1,
          "runs": 492
         },
         {
          "episodes": 1,
          "runs": 493
         },
         {
          "episodes": 230,
          "runs": 494
         },
         {
          "episodes": 1,
          "runs": 495
         },
         {
          "episodes": 1,
          "runs": 496
         },
         {
          "episodes": 217,
          "runs": 497
         },
         {
          "episodes": 1,
          "runs": 498
         },
         {
          "episodes": 1000,
          "runs": 499
         },
         {
          "episodes": 1,
          "runs": 500
         },
         {
          "episodes": 217,
          "runs": 501
         },
         {
          "episodes": 1,
          "runs": 502
         },
         {
          "episodes": 217,
          "runs": 503
         },
         {
          "episodes": 1000,
          "runs": 504
         },
         {
          "episodes": 1,
          "runs": 505
         },
         {
          "episodes": 1,
          "runs": 506
         },
         {
          "episodes": 1000,
          "runs": 507
         },
         {
          "episodes": 1000,
          "runs": 508
         },
         {
          "episodes": 230,
          "runs": 509
         },
         {
          "episodes": 1,
          "runs": 510
         },
         {
          "episodes": 912,
          "runs": 511
         },
         {
          "episodes": 1000,
          "runs": 512
         },
         {
          "episodes": 1,
          "runs": 513
         },
         {
          "episodes": 1000,
          "runs": 514
         },
         {
          "episodes": 942,
          "runs": 515
         },
         {
          "episodes": 226,
          "runs": 516
         },
         {
          "episodes": 912,
          "runs": 517
         },
         {
          "episodes": 1000,
          "runs": 518
         },
         {
          "episodes": 918,
          "runs": 519
         },
         {
          "episodes": 1000,
          "runs": 520
         },
         {
          "episodes": 216,
          "runs": 521
         },
         {
          "episodes": 1,
          "runs": 522
         },
         {
          "episodes": 226,
          "runs": 523
         },
         {
          "episodes": 912,
          "runs": 524
         },
         {
          "episodes": 216,
          "runs": 525
         },
         {
          "episodes": 217,
          "runs": 526
         },
         {
          "episodes": 1,
          "runs": 527
         },
         {
          "episodes": 1000,
          "runs": 528
         },
         {
          "episodes": 230,
          "runs": 529
         },
         {
          "episodes": 1,
          "runs": 530
         },
         {
          "episodes": 226,
          "runs": 531
         },
         {
          "episodes": 266,
          "runs": 532
         },
         {
          "episodes": 935,
          "runs": 533
         },
         {
          "episodes": 1000,
          "runs": 534
         },
         {
          "episodes": 1,
          "runs": 535
         },
         {
          "episodes": 1,
          "runs": 536
         },
         {
          "episodes": 1,
          "runs": 537
         },
         {
          "episodes": 217,
          "runs": 538
         },
         {
          "episodes": 764,
          "runs": 539
         },
         {
          "episodes": 1,
          "runs": 540
         },
         {
          "episodes": 230,
          "runs": 541
         },
         {
          "episodes": 1,
          "runs": 542
         },
         {
          "episodes": 1,
          "runs": 543
         },
         {
          "episodes": 932,
          "runs": 544
         },
         {
          "episodes": 229,
          "runs": 545
         },
         {
          "episodes": 1,
          "runs": 546
         },
         {
          "episodes": 217,
          "runs": 547
         },
         {
          "episodes": 949,
          "runs": 548
         },
         {
          "episodes": 912,
          "runs": 549
         },
         {
          "episodes": 230,
          "runs": 550
         },
         {
          "episodes": 1,
          "runs": 551
         },
         {
          "episodes": 894,
          "runs": 552
         },
         {
          "episodes": 1,
          "runs": 553
         },
         {
          "episodes": 217,
          "runs": 554
         },
         {
          "episodes": 935,
          "runs": 555
         },
         {
          "episodes": 223,
          "runs": 556
         },
         {
          "episodes": 229,
          "runs": 557
         },
         {
          "episodes": 230,
          "runs": 558
         },
         {
          "episodes": 216,
          "runs": 559
         },
         {
          "episodes": 216,
          "runs": 560
         },
         {
          "episodes": 1,
          "runs": 561
         },
         {
          "episodes": 216,
          "runs": 562
         },
         {
          "episodes": 217,
          "runs": 563
         },
         {
          "episodes": 933,
          "runs": 564
         },
         {
          "episodes": 927,
          "runs": 565
         },
         {
          "episodes": 924,
          "runs": 566
         },
         {
          "episodes": 1000,
          "runs": 567
         },
         {
          "episodes": 912,
          "runs": 568
         },
         {
          "episodes": 217,
          "runs": 569
         },
         {
          "episodes": 1000,
          "runs": 570
         },
         {
          "episodes": 219,
          "runs": 571
         },
         {
          "episodes": 219,
          "runs": 572
         },
         {
          "episodes": 217,
          "runs": 573
         },
         {
          "episodes": 250,
          "runs": 574
         },
         {
          "episodes": 1,
          "runs": 575
         },
         {
          "episodes": 1,
          "runs": 576
         },
         {
          "episodes": 1000,
          "runs": 577
         },
         {
          "episodes": 955,
          "runs": 578
         },
         {
          "episodes": 1,
          "runs": 579
         },
         {
          "episodes": 229,
          "runs": 580
         },
         {
          "episodes": 217,
          "runs": 581
         },
         {
          "episodes": 1,
          "runs": 582
         },
         {
          "episodes": 217,
          "runs": 583
         },
         {
          "episodes": 759,
          "runs": 584
         },
         {
          "episodes": 216,
          "runs": 585
         },
         {
          "episodes": 1,
          "runs": 586
         },
         {
          "episodes": 217,
          "runs": 587
         },
         {
          "episodes": 1,
          "runs": 588
         },
         {
          "episodes": 217,
          "runs": 589
         },
         {
          "episodes": 903,
          "runs": 590
         },
         {
          "episodes": 217,
          "runs": 591
         },
         {
          "episodes": 1000,
          "runs": 592
         },
         {
          "episodes": 1,
          "runs": 593
         },
         {
          "episodes": 1000,
          "runs": 594
         },
         {
          "episodes": 217,
          "runs": 595
         },
         {
          "episodes": 1,
          "runs": 596
         },
         {
          "episodes": 223,
          "runs": 597
         },
         {
          "episodes": 217,
          "runs": 598
         },
         {
          "episodes": 1000,
          "runs": 599
         },
         {
          "episodes": 917,
          "runs": 600
         },
         {
          "episodes": 217,
          "runs": 601
         },
         {
          "episodes": 1,
          "runs": 602
         },
         {
          "episodes": 226,
          "runs": 603
         },
         {
          "episodes": 217,
          "runs": 604
         },
         {
          "episodes": 1,
          "runs": 605
         },
         {
          "episodes": 1,
          "runs": 606
         },
         {
          "episodes": 1,
          "runs": 607
         },
         {
          "episodes": 840,
          "runs": 608
         },
         {
          "episodes": 1,
          "runs": 609
         },
         {
          "episodes": 1,
          "runs": 610
         },
         {
          "episodes": 229,
          "runs": 611
         },
         {
          "episodes": 933,
          "runs": 612
         },
         {
          "episodes": 933,
          "runs": 613
         },
         {
          "episodes": 1000,
          "runs": 614
         },
         {
          "episodes": 359,
          "runs": 615
         },
         {
          "episodes": 1,
          "runs": 616
         },
         {
          "episodes": 230,
          "runs": 617
         },
         {
          "episodes": 918,
          "runs": 618
         },
         {
          "episodes": 230,
          "runs": 619
         },
         {
          "episodes": 241,
          "runs": 620
         },
         {
          "episodes": 217,
          "runs": 621
         },
         {
          "episodes": 1000,
          "runs": 622
         },
         {
          "episodes": 1,
          "runs": 623
         },
         {
          "episodes": 1,
          "runs": 624
         },
         {
          "episodes": 1,
          "runs": 625
         },
         {
          "episodes": 217,
          "runs": 626
         },
         {
          "episodes": 1,
          "runs": 627
         },
         {
          "episodes": 1,
          "runs": 628
         },
         {
          "episodes": 1,
          "runs": 629
         },
         {
          "episodes": 1,
          "runs": 630
         },
         {
          "episodes": 1,
          "runs": 631
         },
         {
          "episodes": 216,
          "runs": 632
         },
         {
          "episodes": 1,
          "runs": 633
         },
         {
          "episodes": 1000,
          "runs": 634
         },
         {
          "episodes": 217,
          "runs": 635
         },
         {
          "episodes": 1,
          "runs": 636
         },
         {
          "episodes": 217,
          "runs": 637
         },
         {
          "episodes": 1,
          "runs": 638
         },
         {
          "episodes": 1000,
          "runs": 639
         },
         {
          "episodes": 1,
          "runs": 640
         },
         {
          "episodes": 229,
          "runs": 641
         },
         {
          "episodes": 1,
          "runs": 642
         },
         {
          "episodes": 868,
          "runs": 643
         },
         {
          "episodes": 235,
          "runs": 644
         },
         {
          "episodes": 912,
          "runs": 645
         },
         {
          "episodes": 933,
          "runs": 646
         },
         {
          "episodes": 217,
          "runs": 647
         },
         {
          "episodes": 942,
          "runs": 648
         },
         {
          "episodes": 1,
          "runs": 649
         },
         {
          "episodes": 230,
          "runs": 650
         },
         {
          "episodes": 912,
          "runs": 651
         },
         {
          "episodes": 217,
          "runs": 652
         },
         {
          "episodes": 935,
          "runs": 653
         },
         {
          "episodes": 230,
          "runs": 654
         },
         {
          "episodes": 1000,
          "runs": 655
         },
         {
          "episodes": 217,
          "runs": 656
         },
         {
          "episodes": 1,
          "runs": 657
         },
         {
          "episodes": 226,
          "runs": 658
         },
         {
          "episodes": 1,
          "runs": 659
         },
         {
          "episodes": 217,
          "runs": 660
         },
         {
          "episodes": 217,
          "runs": 661
         },
         {
          "episodes": 765,
          "runs": 662
         },
         {
          "episodes": 1,
          "runs": 663
         },
         {
          "episodes": 216,
          "runs": 664
         },
         {
          "episodes": 1,
          "runs": 665
         },
         {
          "episodes": 1000,
          "runs": 666
         },
         {
          "episodes": 1,
          "runs": 667
         },
         {
          "episodes": 1000,
          "runs": 668
         },
         {
          "episodes": 1000,
          "runs": 669
         },
         {
          "episodes": 233,
          "runs": 670
         },
         {
          "episodes": 1,
          "runs": 671
         },
         {
          "episodes": 1,
          "runs": 672
         },
         {
          "episodes": 1,
          "runs": 673
         },
         {
          "episodes": 927,
          "runs": 674
         },
         {
          "episodes": 1000,
          "runs": 675
         },
         {
          "episodes": 923,
          "runs": 676
         },
         {
          "episodes": 217,
          "runs": 677
         },
         {
          "episodes": 1,
          "runs": 678
         },
         {
          "episodes": 1,
          "runs": 679
         },
         {
          "episodes": 915,
          "runs": 680
         },
         {
          "episodes": 1,
          "runs": 681
         },
         {
          "episodes": 226,
          "runs": 682
         },
         {
          "episodes": 217,
          "runs": 683
         },
         {
          "episodes": 933,
          "runs": 684
         },
         {
          "episodes": 226,
          "runs": 685
         },
         {
          "episodes": 1000,
          "runs": 686
         },
         {
          "episodes": 1000,
          "runs": 687
         },
         {
          "episodes": 217,
          "runs": 688
         },
         {
          "episodes": 1,
          "runs": 689
         },
         {
          "episodes": 932,
          "runs": 690
         },
         {
          "episodes": 225,
          "runs": 691
         },
         {
          "episodes": 1,
          "runs": 692
         },
         {
          "episodes": 763,
          "runs": 693
         },
         {
          "episodes": 1,
          "runs": 694
         },
         {
          "episodes": 1,
          "runs": 695
         },
         {
          "episodes": 216,
          "runs": 696
         },
         {
          "episodes": 1000,
          "runs": 697
         },
         {
          "episodes": 223,
          "runs": 698
         },
         {
          "episodes": 1000,
          "runs": 699
         },
         {
          "episodes": 219,
          "runs": 700
         },
         {
          "episodes": 1,
          "runs": 701
         },
         {
          "episodes": 930,
          "runs": 702
         },
         {
          "episodes": 1,
          "runs": 703
         },
         {
          "episodes": 1000,
          "runs": 704
         },
         {
          "episodes": 217,
          "runs": 705
         },
         {
          "episodes": 917,
          "runs": 706
         },
         {
          "episodes": 1,
          "runs": 707
         },
         {
          "episodes": 217,
          "runs": 708
         },
         {
          "episodes": 1000,
          "runs": 709
         },
         {
          "episodes": 1,
          "runs": 710
         },
         {
          "episodes": 1000,
          "runs": 711
         },
         {
          "episodes": 914,
          "runs": 712
         },
         {
          "episodes": 933,
          "runs": 713
         },
         {
          "episodes": 1000,
          "runs": 714
         },
         {
          "episodes": 1,
          "runs": 715
         },
         {
          "episodes": 217,
          "runs": 716
         },
         {
          "episodes": 1,
          "runs": 717
         },
         {
          "episodes": 1000,
          "runs": 718
         },
         {
          "episodes": 1,
          "runs": 719
         },
         {
          "episodes": 241,
          "runs": 720
         },
         {
          "episodes": 912,
          "runs": 721
         },
         {
          "episodes": 217,
          "runs": 722
         },
         {
          "episodes": 1000,
          "runs": 723
         },
         {
          "episodes": 229,
          "runs": 724
         },
         {
          "episodes": 941,
          "runs": 725
         },
         {
          "episodes": 912,
          "runs": 726
         },
         {
          "episodes": 217,
          "runs": 727
         },
         {
          "episodes": 217,
          "runs": 728
         },
         {
          "episodes": 217,
          "runs": 729
         },
         {
          "episodes": 229,
          "runs": 730
         },
         {
          "episodes": 1,
          "runs": 731
         },
         {
          "episodes": 1,
          "runs": 732
         },
         {
          "episodes": 216,
          "runs": 733
         },
         {
          "episodes": 1,
          "runs": 734
         },
         {
          "episodes": 1,
          "runs": 735
         },
         {
          "episodes": 217,
          "runs": 736
         },
         {
          "episodes": 1,
          "runs": 737
         },
         {
          "episodes": 930,
          "runs": 738
         },
         {
          "episodes": 1,
          "runs": 739
         },
         {
          "episodes": 1,
          "runs": 740
         },
         {
          "episodes": 217,
          "runs": 741
         },
         {
          "episodes": 1,
          "runs": 742
         },
         {
          "episodes": 230,
          "runs": 743
         },
         {
          "episodes": 1000,
          "runs": 744
         },
         {
          "episodes": 232,
          "runs": 745
         },
         {
          "episodes": 1,
          "runs": 746
         },
         {
          "episodes": 1,
          "runs": 747
         },
         {
          "episodes": 924,
          "runs": 748
         },
         {
          "episodes": 217,
          "runs": 749
         },
         {
          "episodes": 1,
          "runs": 750
         },
         {
          "episodes": 223,
          "runs": 751
         },
         {
          "episodes": 1,
          "runs": 752
         },
         {
          "episodes": 216,
          "runs": 753
         },
         {
          "episodes": 1,
          "runs": 754
         },
         {
          "episodes": 232,
          "runs": 755
         },
         {
          "episodes": 757,
          "runs": 756
         },
         {
          "episodes": 1000,
          "runs": 757
         },
         {
          "episodes": 1000,
          "runs": 758
         },
         {
          "episodes": 1,
          "runs": 759
         },
         {
          "episodes": 1,
          "runs": 760
         },
         {
          "episodes": 1,
          "runs": 761
         },
         {
          "episodes": 229,
          "runs": 762
         },
         {
          "episodes": 1,
          "runs": 763
         },
         {
          "episodes": 1000,
          "runs": 764
         },
         {
          "episodes": 1,
          "runs": 765
         },
         {
          "episodes": 217,
          "runs": 766
         },
         {
          "episodes": 225,
          "runs": 767
         },
         {
          "episodes": 217,
          "runs": 768
         },
         {
          "episodes": 1,
          "runs": 769
         },
         {
          "episodes": 1000,
          "runs": 770
         },
         {
          "episodes": 1,
          "runs": 771
         },
         {
          "episodes": 1000,
          "runs": 772
         },
         {
          "episodes": 1000,
          "runs": 773
         },
         {
          "episodes": 1,
          "runs": 774
         },
         {
          "episodes": 930,
          "runs": 775
         },
         {
          "episodes": 927,
          "runs": 776
         },
         {
          "episodes": 229,
          "runs": 777
         },
         {
          "episodes": 756,
          "runs": 778
         },
         {
          "episodes": 1000,
          "runs": 779
         },
         {
          "episodes": 1000,
          "runs": 780
         },
         {
          "episodes": 1,
          "runs": 781
         },
         {
          "episodes": 1,
          "runs": 782
         },
         {
          "episodes": 217,
          "runs": 783
         },
         {
          "episodes": 1000,
          "runs": 784
         },
         {
          "episodes": 217,
          "runs": 785
         },
         {
          "episodes": 1000,
          "runs": 786
         },
         {
          "episodes": 1,
          "runs": 787
         },
         {
          "episodes": 927,
          "runs": 788
         },
         {
          "episodes": 217,
          "runs": 789
         },
         {
          "episodes": 930,
          "runs": 790
         },
         {
          "episodes": 1,
          "runs": 791
         },
         {
          "episodes": 912,
          "runs": 792
         },
         {
          "episodes": 1,
          "runs": 793
         },
         {
          "episodes": 1000,
          "runs": 794
         },
         {
          "episodes": 928,
          "runs": 795
         },
         {
          "episodes": 229,
          "runs": 796
         },
         {
          "episodes": 216,
          "runs": 797
         },
         {
          "episodes": 1,
          "runs": 798
         },
         {
          "episodes": 219,
          "runs": 799
         },
         {
          "episodes": 217,
          "runs": 800
         },
         {
          "episodes": 1,
          "runs": 801
         },
         {
          "episodes": 955,
          "runs": 802
         },
         {
          "episodes": 1000,
          "runs": 803
         },
         {
          "episodes": 1000,
          "runs": 804
         },
         {
          "episodes": 1,
          "runs": 805
         },
         {
          "episodes": 1,
          "runs": 806
         },
         {
          "episodes": 764,
          "runs": 807
         },
         {
          "episodes": 764,
          "runs": 808
         },
         {
          "episodes": 1,
          "runs": 809
         },
         {
          "episodes": 1,
          "runs": 810
         },
         {
          "episodes": 231,
          "runs": 811
         },
         {
          "episodes": 217,
          "runs": 812
         },
         {
          "episodes": 1,
          "runs": 813
         },
         {
          "episodes": 230,
          "runs": 814
         },
         {
          "episodes": 1,
          "runs": 815
         },
         {
          "episodes": 217,
          "runs": 816
         },
         {
          "episodes": 915,
          "runs": 817
         },
         {
          "episodes": 1000,
          "runs": 818
         },
         {
          "episodes": 229,
          "runs": 819
         },
         {
          "episodes": 230,
          "runs": 820
         },
         {
          "episodes": 1,
          "runs": 821
         },
         {
          "episodes": 1000,
          "runs": 822
         },
         {
          "episodes": 1,
          "runs": 823
         },
         {
          "episodes": 1,
          "runs": 824
         },
         {
          "episodes": 1000,
          "runs": 825
         },
         {
          "episodes": 219,
          "runs": 826
         },
         {
          "episodes": 216,
          "runs": 827
         },
         {
          "episodes": 223,
          "runs": 828
         },
         {
          "episodes": 217,
          "runs": 829
         },
         {
          "episodes": 1,
          "runs": 830
         },
         {
          "episodes": 1,
          "runs": 831
         },
         {
          "episodes": 1,
          "runs": 832
         },
         {
          "episodes": 217,
          "runs": 833
         },
         {
          "episodes": 217,
          "runs": 834
         },
         {
          "episodes": 230,
          "runs": 835
         },
         {
          "episodes": 1,
          "runs": 836
         },
         {
          "episodes": 1,
          "runs": 837
         },
         {
          "episodes": 217,
          "runs": 838
         },
         {
          "episodes": 230,
          "runs": 839
         },
         {
          "episodes": 222,
          "runs": 840
         },
         {
          "episodes": 1,
          "runs": 841
         },
         {
          "episodes": 1,
          "runs": 842
         },
         {
          "episodes": 223,
          "runs": 843
         },
         {
          "episodes": 217,
          "runs": 844
         },
         {
          "episodes": 235,
          "runs": 845
         },
         {
          "episodes": 230,
          "runs": 846
         },
         {
          "episodes": 1,
          "runs": 847
         },
         {
          "episodes": 1,
          "runs": 848
         },
         {
          "episodes": 223,
          "runs": 849
         },
         {
          "episodes": 912,
          "runs": 850
         },
         {
          "episodes": 1,
          "runs": 851
         },
         {
          "episodes": 1,
          "runs": 852
         },
         {
          "episodes": 933,
          "runs": 853
         },
         {
          "episodes": 1,
          "runs": 854
         },
         {
          "episodes": 1,
          "runs": 855
         },
         {
          "episodes": 217,
          "runs": 856
         },
         {
          "episodes": 1000,
          "runs": 857
         },
         {
          "episodes": 1000,
          "runs": 858
         },
         {
          "episodes": 1,
          "runs": 859
         },
         {
          "episodes": 216,
          "runs": 860
         },
         {
          "episodes": 358,
          "runs": 861
         },
         {
          "episodes": 1000,
          "runs": 862
         },
         {
          "episodes": 1000,
          "runs": 863
         },
         {
          "episodes": 1000,
          "runs": 864
         },
         {
          "episodes": 912,
          "runs": 865
         },
         {
          "episodes": 1,
          "runs": 866
         },
         {
          "episodes": 935,
          "runs": 867
         },
         {
          "episodes": 230,
          "runs": 868
         },
         {
          "episodes": 1000,
          "runs": 869
         },
         {
          "episodes": 1000,
          "runs": 870
         },
         {
          "episodes": 1000,
          "runs": 871
         },
         {
          "episodes": 1000,
          "runs": 872
         },
         {
          "episodes": 1,
          "runs": 873
         },
         {
          "episodes": 1,
          "runs": 874
         },
         {
          "episodes": 1000,
          "runs": 875
         },
         {
          "episodes": 899,
          "runs": 876
         },
         {
          "episodes": 1000,
          "runs": 877
         },
         {
          "episodes": 219,
          "runs": 878
         },
         {
          "episodes": 1,
          "runs": 879
         },
         {
          "episodes": 1,
          "runs": 880
         },
         {
          "episodes": 1,
          "runs": 881
         },
         {
          "episodes": 942,
          "runs": 882
         },
         {
          "episodes": 1000,
          "runs": 883
         },
         {
          "episodes": 951,
          "runs": 884
         },
         {
          "episodes": 932,
          "runs": 885
         },
         {
          "episodes": 1,
          "runs": 886
         },
         {
          "episodes": 219,
          "runs": 887
         },
         {
          "episodes": 1,
          "runs": 888
         },
         {
          "episodes": 1,
          "runs": 889
         },
         {
          "episodes": 1000,
          "runs": 890
         },
         {
          "episodes": 1,
          "runs": 891
         },
         {
          "episodes": 1000,
          "runs": 892
         },
         {
          "episodes": 230,
          "runs": 893
         },
         {
          "episodes": 912,
          "runs": 894
         },
         {
          "episodes": 1,
          "runs": 895
         },
         {
          "episodes": 230,
          "runs": 896
         },
         {
          "episodes": 230,
          "runs": 897
         },
         {
          "episodes": 230,
          "runs": 898
         },
         {
          "episodes": 1,
          "runs": 899
         },
         {
          "episodes": 1,
          "runs": 900
         },
         {
          "episodes": 1,
          "runs": 901
         },
         {
          "episodes": 217,
          "runs": 902
         },
         {
          "episodes": 1,
          "runs": 903
         },
         {
          "episodes": 1,
          "runs": 904
         },
         {
          "episodes": 230,
          "runs": 905
         },
         {
          "episodes": 1,
          "runs": 906
         },
         {
          "episodes": 1000,
          "runs": 907
         },
         {
          "episodes": 922,
          "runs": 908
         },
         {
          "episodes": 1,
          "runs": 909
         },
         {
          "episodes": 1,
          "runs": 910
         },
         {
          "episodes": 216,
          "runs": 911
         },
         {
          "episodes": 1000,
          "runs": 912
         },
         {
          "episodes": 242,
          "runs": 913
         },
         {
          "episodes": 1,
          "runs": 914
         },
         {
          "episodes": 918,
          "runs": 915
         },
         {
          "episodes": 217,
          "runs": 916
         },
         {
          "episodes": 1,
          "runs": 917
         },
         {
          "episodes": 1,
          "runs": 918
         },
         {
          "episodes": 928,
          "runs": 919
         },
         {
          "episodes": 1,
          "runs": 920
         },
         {
          "episodes": 229,
          "runs": 921
         },
         {
          "episodes": 229,
          "runs": 922
         },
         {
          "episodes": 1000,
          "runs": 923
         },
         {
          "episodes": 912,
          "runs": 924
         },
         {
          "episodes": 1,
          "runs": 925
         },
         {
          "episodes": 763,
          "runs": 926
         },
         {
          "episodes": 232,
          "runs": 927
         },
         {
          "episodes": 1,
          "runs": 928
         },
         {
          "episodes": 1,
          "runs": 929
         },
         {
          "episodes": 1000,
          "runs": 930
         },
         {
          "episodes": 1000,
          "runs": 931
         },
         {
          "episodes": 1,
          "runs": 932
         },
         {
          "episodes": 216,
          "runs": 933
         },
         {
          "episodes": 230,
          "runs": 934
         },
         {
          "episodes": 1000,
          "runs": 935
         },
         {
          "episodes": 216,
          "runs": 936
         },
         {
          "episodes": 229,
          "runs": 937
         },
         {
          "episodes": 230,
          "runs": 938
         },
         {
          "episodes": 1000,
          "runs": 939
         },
         {
          "episodes": 1,
          "runs": 940
         },
         {
          "episodes": 1000,
          "runs": 941
         },
         {
          "episodes": 217,
          "runs": 942
         },
         {
          "episodes": 1,
          "runs": 943
         },
         {
          "episodes": 216,
          "runs": 944
         },
         {
          "episodes": 217,
          "runs": 945
         },
         {
          "episodes": 217,
          "runs": 946
         },
         {
          "episodes": 217,
          "runs": 947
         },
         {
          "episodes": 925,
          "runs": 948
         },
         {
          "episodes": 757,
          "runs": 949
         },
         {
          "episodes": 955,
          "runs": 950
         },
         {
          "episodes": 933,
          "runs": 951
         },
         {
          "episodes": 230,
          "runs": 952
         },
         {
          "episodes": 1,
          "runs": 953
         },
         {
          "episodes": 924,
          "runs": 954
         },
         {
          "episodes": 1,
          "runs": 955
         },
         {
          "episodes": 217,
          "runs": 956
         },
         {
          "episodes": 1,
          "runs": 957
         },
         {
          "episodes": 916,
          "runs": 958
         },
         {
          "episodes": 1000,
          "runs": 959
         },
         {
          "episodes": 1000,
          "runs": 960
         },
         {
          "episodes": 935,
          "runs": 961
         },
         {
          "episodes": 217,
          "runs": 962
         },
         {
          "episodes": 1000,
          "runs": 963
         },
         {
          "episodes": 217,
          "runs": 964
         },
         {
          "episodes": 217,
          "runs": 965
         },
         {
          "episodes": 217,
          "runs": 966
         },
         {
          "episodes": 216,
          "runs": 967
         },
         {
          "episodes": 1000,
          "runs": 968
         },
         {
          "episodes": 230,
          "runs": 969
         },
         {
          "episodes": 1000,
          "runs": 970
         },
         {
          "episodes": 217,
          "runs": 971
         },
         {
          "episodes": 1,
          "runs": 972
         },
         {
          "episodes": 216,
          "runs": 973
         },
         {
          "episodes": 1,
          "runs": 974
         },
         {
          "episodes": 912,
          "runs": 975
         },
         {
          "episodes": 927,
          "runs": 976
         },
         {
          "episodes": 1,
          "runs": 977
         },
         {
          "episodes": 1000,
          "runs": 978
         },
         {
          "episodes": 217,
          "runs": 979
         },
         {
          "episodes": 912,
          "runs": 980
         },
         {
          "episodes": 1,
          "runs": 981
         },
         {
          "episodes": 217,
          "runs": 982
         },
         {
          "episodes": 223,
          "runs": 983
         },
         {
          "episodes": 217,
          "runs": 984
         },
         {
          "episodes": 217,
          "runs": 985
         },
         {
          "episodes": 1,
          "runs": 986
         },
         {
          "episodes": 1,
          "runs": 987
         },
         {
          "episodes": 1,
          "runs": 988
         },
         {
          "episodes": 1,
          "runs": 989
         },
         {
          "episodes": 1,
          "runs": 990
         },
         {
          "episodes": 1000,
          "runs": 991
         },
         {
          "episodes": 911,
          "runs": 992
         },
         {
          "episodes": 1,
          "runs": 993
         },
         {
          "episodes": 1000,
          "runs": 994
         },
         {
          "episodes": 1,
          "runs": 995
         },
         {
          "episodes": 1,
          "runs": 996
         },
         {
          "episodes": 1,
          "runs": 997
         },
         {
          "episodes": 217,
          "runs": 998
         },
         {
          "episodes": 1,
          "runs": 999
         }
        ]
       },
       "layer": [
        {
         "data": {
          "name": "data-05862166270760960cb395e375ae4ae0"
         },
         "encoding": {
          "x": {
           "bin": true,
           "field": "episodes",
           "title": "Binned Episodes",
           "type": "quantitative"
          },
          "y": {
           "aggregate": "count",
           "field": "episodes",
           "type": "quantitative"
          }
         },
         "mark": "bar",
         "title": "Vanilla hill climbing (1000 runs)"
        },
        {
         "data": {
          "name": "data-05862166270760960cb395e375ae4ae0"
         },
         "encoding": {
          "size": {
           "value": 3
          },
          "x": {
           "aggregate": "mean",
           "field": "episodes",
           "type": "quantitative"
          }
         },
         "mark": {
          "color": "red",
          "type": "rule"
         }
        }
       ]
      },
      "image/png": "[encoded data removed]",
      "text/plain": [
       "<VegaLite 2 object>\n",
       "\n",
       "If you see this message, it means the renderer has not been properly enabled\n",
       "for the frontend that you are using. For more information, see\n",
       "https://altair-viz.github.io/user_guide/troubleshooting.html\n"
      ]
     },
     "execution_count": 43,
     "metadata": {},
     "output_type": "execute_result"
    }
   ],
   "source": [
    "chart, vanilla_df = plot(data_dir, 'vanilla', altair=True, title=\"Vanilla hill climbing (1000 runs)\")\n",
    "chart"
   ]
  },
  {
   "cell_type": "markdown",
   "metadata": {},
   "source": [
    "# Steepest Ascend"
   ]
  },
  {
   "cell_type": "code",
   "execution_count": 34,
   "metadata": {},
   "outputs": [
    {
     "name": "stdout",
     "output_type": "stream",
     "text": [
      "using pickle path: ../src/runs//steepest/20181015182144/data.pkl\n",
      "              runs     episodes\n",
      "count  1000.000000  1000.000000\n",
      "mean    499.500000    73.383000\n",
      "std     288.819436    53.217821\n",
      "min       0.000000     1.000000\n",
      "25%     249.750000     1.000000\n",
      "50%     499.500000   103.000000\n",
      "75%     749.250000   103.000000\n",
      "max     999.000000   418.000000\n"
     ]
    },
    {
     "data": {
      "text/plain": [
       "<matplotlib.axes._subplots.AxesSubplot at 0x7f1d887454e0>"
      ]
     },
     "execution_count": 34,
     "metadata": {},
     "output_type": "execute_result"
    },
    {
     "data": {
      "image/png": "[encoded data removed]",
      "text/plain": [
       "<Figure size 432x288 with 1 Axes>"
      ]
     },
     "metadata": {
      "needs_background": "light"
     },
     "output_type": "display_data"
    }
   ],
   "source": [
    "chart, steepest_df = plot(data_dir, 'steepest')\n",
    "chart"
   ]
  },
  {
   "cell_type": "code",
   "execution_count": 42,
   "metadata": {},
   "outputs": [
    {
     "name": "stdout",
     "output_type": "stream",
     "text": [
      "using pickle path: ../src/runs//steepest/20181015182144/data.pkl\n",
      "              runs     episodes\n",
      "count  1000.000000  1000.000000\n",
      "mean    499.500000    73.383000\n",
      "std     288.819436    53.217821\n",
      "min       0.000000     1.000000\n",
      "25%     249.750000     1.000000\n",
      "50%     499.500000   103.000000\n",
      "75%     749.250000   103.000000\n",
      "max     999.000000   418.000000\n"
     ]
    },
    {
     "data": {
      "application/vnd.vegalite.v2+json": {
       "$schema": "https://vega.github.io/schema/vega-lite/v2.6.0.json",
       "config": {
        "view": {
         "height": 300,
         "width": 400
        }
       },
       "datasets": {
        "data-8ddd870ae7920c68a40afc1bc6fbea09": [
         {
          "episodes": 1,
          "runs": 0
         },
         {
          "episodes": 103,
          "runs": 1
         },
         {
          "episodes": 1,
          "runs": 2
         },
         {
          "episodes": 103,
          "runs": 3
         },
         {
          "episodes": 105,
          "runs": 4
         },
         {
          "episodes": 103,
          "runs": 5
         },
         {
          "episodes": 1,
          "runs": 6
         },
         {
          "episodes": 1,
          "runs": 7
         },
         {
          "episodes": 1,
          "runs": 8
         },
         {
          "episodes": 1,
          "runs": 9
         },
         {
          "episodes": 1,
          "runs": 10
         },
         {
          "episodes": 1,
          "runs": 11
         },
         {
          "episodes": 105,
          "runs": 12
         },
         {
          "episodes": 134,
          "runs": 13
         },
         {
          "episodes": 103,
          "runs": 14
         },
         {
          "episodes": 103,
          "runs": 15
         },
         {
          "episodes": 1,
          "runs": 16
         },
         {
          "episodes": 1,
          "runs": 17
         },
         {
          "episodes": 103,
          "runs": 18
         },
         {
          "episodes": 1,
          "runs": 19
         },
         {
          "episodes": 1,
          "runs": 20
         },
         {
          "episodes": 1,
          "runs": 21
         },
         {
          "episodes": 105,
          "runs": 22
         },
         {
          "episodes": 103,
          "runs": 23
         },
         {
          "episodes": 109,
          "runs": 24
         },
         {
          "episodes": 1,
          "runs": 25
         },
         {
          "episodes": 1,
          "runs": 26
         },
         {
          "episodes": 103,
          "runs": 27
         },
         {
          "episodes": 103,
          "runs": 28
         },
         {
          "episodes": 103,
          "runs": 29
         },
         {
          "episodes": 1,
          "runs": 30
         },
         {
          "episodes": 1,
          "runs": 31
         },
         {
          "episodes": 114,
          "runs": 32
         },
         {
          "episodes": 105,
          "runs": 33
         },
         {
          "episodes": 1,
          "runs": 34
         },
         {
          "episodes": 1,
          "runs": 35
         },
         {
          "episodes": 103,
          "runs": 36
         },
         {
          "episodes": 103,
          "runs": 37
         },
         {
          "episodes": 103,
          "runs": 38
         },
         {
          "episodes": 1,
          "runs": 39
         },
         {
          "episodes": 103,
          "runs": 40
         },
         {
          "episodes": 103,
          "runs": 41
         },
         {
          "episodes": 105,
          "runs": 42
         },
         {
          "episodes": 1,
          "runs": 43
         },
         {
          "episodes": 1,
          "runs": 44
         },
         {
          "episodes": 115,
          "runs": 45
         },
         {
          "episodes": 103,
          "runs": 46
         },
         {
          "episodes": 136,
          "runs": 47
         },
         {
          "episodes": 109,
          "runs": 48
         },
         {
          "episodes": 1,
          "runs": 49
         },
         {
          "episodes": 1,
          "runs": 50
         },
         {
          "episodes": 103,
          "runs": 51
         },
         {
          "episodes": 103,
          "runs": 52
         },
         {
          "episodes": 105,
          "runs": 53
         },
         {
          "episodes": 111,
          "runs": 54
         },
         {
          "episodes": 105,
          "runs": 55
         },
         {
          "episodes": 105,
          "runs": 56
         },
         {
          "episodes": 1,
          "runs": 57
         },
         {
          "episodes": 1,
          "runs": 58
         },
         {
          "episodes": 1,
          "runs": 59
         },
         {
          "episodes": 103,
          "runs": 60
         },
         {
          "episodes": 111,
          "runs": 61
         },
         {
          "episodes": 103,
          "runs": 62
         },
         {
          "episodes": 103,
          "runs": 63
         },
         {
          "episodes": 1,
          "runs": 64
         },
         {
          "episodes": 103,
          "runs": 65
         },
         {
          "episodes": 1,
          "runs": 66
         },
         {
          "episodes": 103,
          "runs": 67
         },
         {
          "episodes": 103,
          "runs": 68
         },
         {
          "episodes": 103,
          "runs": 69
         },
         {
          "episodes": 103,
          "runs": 70
         },
         {
          "episodes": 1,
          "runs": 71
         },
         {
          "episodes": 103,
          "runs": 72
         },
         {
          "episodes": 117,
          "runs": 73
         },
         {
          "episodes": 1,
          "runs": 74
         },
         {
          "episodes": 103,
          "runs": 75
         },
         {
          "episodes": 103,
          "runs": 76
         },
         {
          "episodes": 1,
          "runs": 77
         },
         {
          "episodes": 103,
          "runs": 78
         },
         {
          "episodes": 103,
          "runs": 79
         },
         {
          "episodes": 1,
          "runs": 80
         },
         {
          "episodes": 1,
          "runs": 81
         },
         {
          "episodes": 103,
          "runs": 82
         },
         {
          "episodes": 103,
          "runs": 83
         },
         {
          "episodes": 105,
          "runs": 84
         },
         {
          "episodes": 105,
          "runs": 85
         },
         {
          "episodes": 109,
          "runs": 86
         },
         {
          "episodes": 115,
          "runs": 87
         },
         {
          "episodes": 103,
          "runs": 88
         },
         {
          "episodes": 105,
          "runs": 89
         },
         {
          "episodes": 1,
          "runs": 90
         },
         {
          "episodes": 103,
          "runs": 91
         },
         {
          "episodes": 105,
          "runs": 92
         },
         {
          "episodes": 105,
          "runs": 93
         },
         {
          "episodes": 163,
          "runs": 94
         },
         {
          "episodes": 103,
          "runs": 95
         },
         {
          "episodes": 103,
          "runs": 96
         },
         {
          "episodes": 1,
          "runs": 97
         },
         {
          "episodes": 103,
          "runs": 98
         },
         {
          "episodes": 1,
          "runs": 99
         },
         {
          "episodes": 103,
          "runs": 100
         },
         {
          "episodes": 103,
          "runs": 101
         },
         {
          "episodes": 1,
          "runs": 102
         },
         {
          "episodes": 103,
          "runs": 103
         },
         {
          "episodes": 1,
          "runs": 104
         },
         {
          "episodes": 103,
          "runs": 105
         },
         {
          "episodes": 122,
          "runs": 106
         },
         {
          "episodes": 1,
          "runs": 107
         },
         {
          "episodes": 1,
          "runs": 108
         },
         {
          "episodes": 1,
          "runs": 109
         },
         {
          "episodes": 103,
          "runs": 110
         },
         {
          "episodes": 103,
          "runs": 111
         },
         {
          "episodes": 103,
          "runs": 112
         },
         {
          "episodes": 103,
          "runs": 113
         },
         {
          "episodes": 103,
          "runs": 114
         },
         {
          "episodes": 1,
          "runs": 115
         },
         {
          "episodes": 103,
          "runs": 116
         },
         {
          "episodes": 103,
          "runs": 117
         },
         {
          "episodes": 103,
          "runs": 118
         },
         {
          "episodes": 103,
          "runs": 119
         },
         {
          "episodes": 105,
          "runs": 120
         },
         {
          "episodes": 103,
          "runs": 121
         },
         {
          "episodes": 103,
          "runs": 122
         },
         {
          "episodes": 103,
          "runs": 123
         },
         {
          "episodes": 105,
          "runs": 124
         },
         {
          "episodes": 114,
          "runs": 125
         },
         {
          "episodes": 103,
          "runs": 126
         },
         {
          "episodes": 105,
          "runs": 127
         },
         {
          "episodes": 117,
          "runs": 128
         },
         {
          "episodes": 103,
          "runs": 129
         },
         {
          "episodes": 103,
          "runs": 130
         },
         {
          "episodes": 108,
          "runs": 131
         },
         {
          "episodes": 103,
          "runs": 132
         },
         {
          "episodes": 103,
          "runs": 133
         },
         {
          "episodes": 117,
          "runs": 134
         },
         {
          "episodes": 103,
          "runs": 135
         },
         {
          "episodes": 103,
          "runs": 136
         },
         {
          "episodes": 109,
          "runs": 137
         },
         {
          "episodes": 103,
          "runs": 138
         },
         {
          "episodes": 103,
          "runs": 139
         },
         {
          "episodes": 1,
          "runs": 140
         },
         {
          "episodes": 1,
          "runs": 141
         },
         {
          "episodes": 1,
          "runs": 142
         },
         {
          "episodes": 103,
          "runs": 143
         },
         {
          "episodes": 1,
          "runs": 144
         },
         {
          "episodes": 1,
          "runs": 145
         },
         {
          "episodes": 1,
          "runs": 146
         },
         {
          "episodes": 1,
          "runs": 147
         },
         {
          "episodes": 1,
          "runs": 148
         },
         {
          "episodes": 108,
          "runs": 149
         },
         {
          "episodes": 1,
          "runs": 150
         },
         {
          "episodes": 111,
          "runs": 151
         },
         {
          "episodes": 1,
          "runs": 152
         },
         {
          "episodes": 103,
          "runs": 153
         },
         {
          "episodes": 105,
          "runs": 154
         },
         {
          "episodes": 1,
          "runs": 155
         },
         {
          "episodes": 103,
          "runs": 156
         },
         {
          "episodes": 123,
          "runs": 157
         },
         {
          "episodes": 103,
          "runs": 158
         },
         {
          "episodes": 105,
          "runs": 159
         },
         {
          "episodes": 103,
          "runs": 160
         },
         {
          "episodes": 103,
          "runs": 161
         },
         {
          "episodes": 103,
          "runs": 162
         },
         {
          "episodes": 1,
          "runs": 163
         },
         {
          "episodes": 103,
          "runs": 164
         },
         {
          "episodes": 1,
          "runs": 165
         },
         {
          "episodes": 135,
          "runs": 166
         },
         {
          "episodes": 103,
          "runs": 167
         },
         {
          "episodes": 105,
          "runs": 168
         },
         {
          "episodes": 103,
          "runs": 169
         },
         {
          "episodes": 103,
          "runs": 170
         },
         {
          "episodes": 103,
          "runs": 171
         },
         {
          "episodes": 105,
          "runs": 172
         },
         {
          "episodes": 1,
          "runs": 173
         },
         {
          "episodes": 1,
          "runs": 174
         },
         {
          "episodes": 1,
          "runs": 175
         },
         {
          "episodes": 103,
          "runs": 176
         },
         {
          "episodes": 103,
          "runs": 177
         },
         {
          "episodes": 1,
          "runs": 178
         },
         {
          "episodes": 103,
          "runs": 179
         },
         {
          "episodes": 109,
          "runs": 180
         },
         {
          "episodes": 103,
          "runs": 181
         },
         {
          "episodes": 103,
          "runs": 182
         },
         {
          "episodes": 103,
          "runs": 183
         },
         {
          "episodes": 1,
          "runs": 184
         },
         {
          "episodes": 103,
          "runs": 185
         },
         {
          "episodes": 103,
          "runs": 186
         },
         {
          "episodes": 103,
          "runs": 187
         },
         {
          "episodes": 103,
          "runs": 188
         },
         {
          "episodes": 103,
          "runs": 189
         },
         {
          "episodes": 1,
          "runs": 190
         },
         {
          "episodes": 105,
          "runs": 191
         },
         {
          "episodes": 1,
          "runs": 192
         },
         {
          "episodes": 103,
          "runs": 193
         },
         {
          "episodes": 103,
          "runs": 194
         },
         {
          "episodes": 1,
          "runs": 195
         },
         {
          "episodes": 103,
          "runs": 196
         },
         {
          "episodes": 103,
          "runs": 197
         },
         {
          "episodes": 103,
          "runs": 198
         },
         {
          "episodes": 1,
          "runs": 199
         },
         {
          "episodes": 103,
          "runs": 200
         },
         {
          "episodes": 103,
          "runs": 201
         },
         {
          "episodes": 113,
          "runs": 202
         },
         {
          "episodes": 1,
          "runs": 203
         },
         {
          "episodes": 103,
          "runs": 204
         },
         {
          "episodes": 105,
          "runs": 205
         },
         {
          "episodes": 1,
          "runs": 206
         },
         {
          "episodes": 1,
          "runs": 207
         },
         {
          "episodes": 109,
          "runs": 208
         },
         {
          "episodes": 1,
          "runs": 209
         },
         {
          "episodes": 103,
          "runs": 210
         },
         {
          "episodes": 111,
          "runs": 211
         },
         {
          "episodes": 1,
          "runs": 212
         },
         {
          "episodes": 103,
          "runs": 213
         },
         {
          "episodes": 105,
          "runs": 214
         },
         {
          "episodes": 103,
          "runs": 215
         },
         {
          "episodes": 103,
          "runs": 216
         },
         {
          "episodes": 1,
          "runs": 217
         },
         {
          "episodes": 103,
          "runs": 218
         },
         {
          "episodes": 103,
          "runs": 219
         },
         {
          "episodes": 103,
          "runs": 220
         },
         {
          "episodes": 103,
          "runs": 221
         },
         {
          "episodes": 103,
          "runs": 222
         },
         {
          "episodes": 103,
          "runs": 223
         },
         {
          "episodes": 1,
          "runs": 224
         },
         {
          "episodes": 103,
          "runs": 225
         },
         {
          "episodes": 103,
          "runs": 226
         },
         {
          "episodes": 1,
          "runs": 227
         },
         {
          "episodes": 105,
          "runs": 228
         },
         {
          "episodes": 103,
          "runs": 229
         },
         {
          "episodes": 103,
          "runs": 230
         },
         {
          "episodes": 117,
          "runs": 231
         },
         {
          "episodes": 111,
          "runs": 232
         },
         {
          "episodes": 105,
          "runs": 233
         },
         {
          "episodes": 1,
          "runs": 234
         },
         {
          "episodes": 108,
          "runs": 235
         },
         {
          "episodes": 105,
          "runs": 236
         },
         {
          "episodes": 103,
          "runs": 237
         },
         {
          "episodes": 134,
          "runs": 238
         },
         {
          "episodes": 1,
          "runs": 239
         },
         {
          "episodes": 103,
          "runs": 240
         },
         {
          "episodes": 1,
          "runs": 241
         },
         {
          "episodes": 1,
          "runs": 242
         },
         {
          "episodes": 103,
          "runs": 243
         },
         {
          "episodes": 103,
          "runs": 244
         },
         {
          "episodes": 116,
          "runs": 245
         },
         {
          "episodes": 1,
          "runs": 246
         },
         {
          "episodes": 103,
          "runs": 247
         },
         {
          "episodes": 111,
          "runs": 248
         },
         {
          "episodes": 1,
          "runs": 249
         },
         {
          "episodes": 1,
          "runs": 250
         },
         {
          "episodes": 103,
          "runs": 251
         },
         {
          "episodes": 103,
          "runs": 252
         },
         {
          "episodes": 103,
          "runs": 253
         },
         {
          "episodes": 1,
          "runs": 254
         },
         {
          "episodes": 105,
          "runs": 255
         },
         {
          "episodes": 103,
          "runs": 256
         },
         {
          "episodes": 105,
          "runs": 257
         },
         {
          "episodes": 103,
          "runs": 258
         },
         {
          "episodes": 1,
          "runs": 259
         },
         {
          "episodes": 103,
          "runs": 260
         },
         {
          "episodes": 103,
          "runs": 261
         },
         {
          "episodes": 1,
          "runs": 262
         },
         {
          "episodes": 114,
          "runs": 263
         },
         {
          "episodes": 103,
          "runs": 264
         },
         {
          "episodes": 1,
          "runs": 265
         },
         {
          "episodes": 103,
          "runs": 266
         },
         {
          "episodes": 103,
          "runs": 267
         },
         {
          "episodes": 1,
          "runs": 268
         },
         {
          "episodes": 103,
          "runs": 269
         },
         {
          "episodes": 103,
          "runs": 270
         },
         {
          "episodes": 103,
          "runs": 271
         },
         {
          "episodes": 1,
          "runs": 272
         },
         {
          "episodes": 105,
          "runs": 273
         },
         {
          "episodes": 1,
          "runs": 274
         },
         {
          "episodes": 1,
          "runs": 275
         },
         {
          "episodes": 122,
          "runs": 276
         },
         {
          "episodes": 1,
          "runs": 277
         },
         {
          "episodes": 105,
          "runs": 278
         },
         {
          "episodes": 103,
          "runs": 279
         },
         {
          "episodes": 103,
          "runs": 280
         },
         {
          "episodes": 103,
          "runs": 281
         },
         {
          "episodes": 1,
          "runs": 282
         },
         {
          "episodes": 103,
          "runs": 283
         },
         {
          "episodes": 103,
          "runs": 284
         },
         {
          "episodes": 103,
          "runs": 285
         },
         {
          "episodes": 1,
          "runs": 286
         },
         {
          "episodes": 103,
          "runs": 287
         },
         {
          "episodes": 1,
          "runs": 288
         },
         {
          "episodes": 103,
          "runs": 289
         },
         {
          "episodes": 1,
          "runs": 290
         },
         {
          "episodes": 1,
          "runs": 291
         },
         {
          "episodes": 103,
          "runs": 292
         },
         {
          "episodes": 103,
          "runs": 293
         },
         {
          "episodes": 103,
          "runs": 294
         },
         {
          "episodes": 1,
          "runs": 295
         },
         {
          "episodes": 103,
          "runs": 296
         },
         {
          "episodes": 103,
          "runs": 297
         },
         {
          "episodes": 105,
          "runs": 298
         },
         {
          "episodes": 103,
          "runs": 299
         },
         {
          "episodes": 1,
          "runs": 300
         },
         {
          "episodes": 117,
          "runs": 301
         },
         {
          "episodes": 103,
          "runs": 302
         },
         {
          "episodes": 103,
          "runs": 303
         },
         {
          "episodes": 103,
          "runs": 304
         },
         {
          "episodes": 1,
          "runs": 305
         },
         {
          "episodes": 1,
          "runs": 306
         },
         {
          "episodes": 1,
          "runs": 307
         },
         {
          "episodes": 103,
          "runs": 308
         },
         {
          "episodes": 1,
          "runs": 309
         },
         {
          "episodes": 103,
          "runs": 310
         },
         {
          "episodes": 103,
          "runs": 311
         },
         {
          "episodes": 1,
          "runs": 312
         },
         {
          "episodes": 103,
          "runs": 313
         },
         {
          "episodes": 103,
          "runs": 314
         },
         {
          "episodes": 103,
          "runs": 315
         },
         {
          "episodes": 103,
          "runs": 316
         },
         {
          "episodes": 1,
          "runs": 317
         },
         {
          "episodes": 1,
          "runs": 318
         },
         {
          "episodes": 103,
          "runs": 319
         },
         {
          "episodes": 1,
          "runs": 320
         },
         {
          "episodes": 103,
          "runs": 321
         },
         {
          "episodes": 103,
          "runs": 322
         },
         {
          "episodes": 103,
          "runs": 323
         },
         {
          "episodes": 111,
          "runs": 324
         },
         {
          "episodes": 103,
          "runs": 325
         },
         {
          "episodes": 1,
          "runs": 326
         },
         {
          "episodes": 123,
          "runs": 327
         },
         {
          "episodes": 103,
          "runs": 328
         },
         {
          "episodes": 103,
          "runs": 329
         },
         {
          "episodes": 1,
          "runs": 330
         },
         {
          "episodes": 103,
          "runs": 331
         },
         {
          "episodes": 1,
          "runs": 332
         },
         {
          "episodes": 103,
          "runs": 333
         },
         {
          "episodes": 103,
          "runs": 334
         },
         {
          "episodes": 103,
          "runs": 335
         },
         {
          "episodes": 1,
          "runs": 336
         },
         {
          "episodes": 103,
          "runs": 337
         },
         {
          "episodes": 1,
          "runs": 338
         },
         {
          "episodes": 103,
          "runs": 339
         },
         {
          "episodes": 103,
          "runs": 340
         },
         {
          "episodes": 105,
          "runs": 341
         },
         {
          "episodes": 1,
          "runs": 342
         },
         {
          "episodes": 119,
          "runs": 343
         },
         {
          "episodes": 103,
          "runs": 344
         },
         {
          "episodes": 120,
          "runs": 345
         },
         {
          "episodes": 103,
          "runs": 346
         },
         {
          "episodes": 1,
          "runs": 347
         },
         {
          "episodes": 1,
          "runs": 348
         },
         {
          "episodes": 105,
          "runs": 349
         },
         {
          "episodes": 1,
          "runs": 350
         },
         {
          "episodes": 103,
          "runs": 351
         },
         {
          "episodes": 1,
          "runs": 352
         },
         {
          "episodes": 103,
          "runs": 353
         },
         {
          "episodes": 109,
          "runs": 354
         },
         {
          "episodes": 103,
          "runs": 355
         },
         {
          "episodes": 109,
          "runs": 356
         },
         {
          "episodes": 1,
          "runs": 357
         },
         {
          "episodes": 1,
          "runs": 358
         },
         {
          "episodes": 105,
          "runs": 359
         },
         {
          "episodes": 1,
          "runs": 360
         },
         {
          "episodes": 1,
          "runs": 361
         },
         {
          "episodes": 1,
          "runs": 362
         },
         {
          "episodes": 103,
          "runs": 363
         },
         {
          "episodes": 103,
          "runs": 364
         },
         {
          "episodes": 103,
          "runs": 365
         },
         {
          "episodes": 1,
          "runs": 366
         },
         {
          "episodes": 103,
          "runs": 367
         },
         {
          "episodes": 103,
          "runs": 368
         },
         {
          "episodes": 103,
          "runs": 369
         },
         {
          "episodes": 1,
          "runs": 370
         },
         {
          "episodes": 103,
          "runs": 371
         },
         {
          "episodes": 108,
          "runs": 372
         },
         {
          "episodes": 103,
          "runs": 373
         },
         {
          "episodes": 1,
          "runs": 374
         },
         {
          "episodes": 103,
          "runs": 375
         },
         {
          "episodes": 1,
          "runs": 376
         },
         {
          "episodes": 103,
          "runs": 377
         },
         {
          "episodes": 103,
          "runs": 378
         },
         {
          "episodes": 234,
          "runs": 379
         },
         {
          "episodes": 103,
          "runs": 380
         },
         {
          "episodes": 1,
          "runs": 381
         },
         {
          "episodes": 1,
          "runs": 382
         },
         {
          "episodes": 1,
          "runs": 383
         },
         {
          "episodes": 103,
          "runs": 384
         },
         {
          "episodes": 103,
          "runs": 385
         },
         {
          "episodes": 103,
          "runs": 386
         },
         {
          "episodes": 251,
          "runs": 387
         },
         {
          "episodes": 1,
          "runs": 388
         },
         {
          "episodes": 1,
          "runs": 389
         },
         {
          "episodes": 110,
          "runs": 390
         },
         {
          "episodes": 1,
          "runs": 391
         },
         {
          "episodes": 1,
          "runs": 392
         },
         {
          "episodes": 103,
          "runs": 393
         },
         {
          "episodes": 1,
          "runs": 394
         },
         {
          "episodes": 1,
          "runs": 395
         },
         {
          "episodes": 103,
          "runs": 396
         },
         {
          "episodes": 103,
          "runs": 397
         },
         {
          "episodes": 115,
          "runs": 398
         },
         {
          "episodes": 103,
          "runs": 399
         },
         {
          "episodes": 103,
          "runs": 400
         },
         {
          "episodes": 103,
          "runs": 401
         },
         {
          "episodes": 1,
          "runs": 402
         },
         {
          "episodes": 103,
          "runs": 403
         },
         {
          "episodes": 1,
          "runs": 404
         },
         {
          "episodes": 103,
          "runs": 405
         },
         {
          "episodes": 1,
          "runs": 406
         },
         {
          "episodes": 1,
          "runs": 407
         },
         {
          "episodes": 1,
          "runs": 408
         },
         {
          "episodes": 103,
          "runs": 409
         },
         {
          "episodes": 1,
          "runs": 410
         },
         {
          "episodes": 103,
          "runs": 411
         },
         {
          "episodes": 132,
          "runs": 412
         },
         {
          "episodes": 103,
          "runs": 413
         },
         {
          "episodes": 122,
          "runs": 414
         },
         {
          "episodes": 122,
          "runs": 415
         },
         {
          "episodes": 1,
          "runs": 416
         },
         {
          "episodes": 103,
          "runs": 417
         },
         {
          "episodes": 113,
          "runs": 418
         },
         {
          "episodes": 109,
          "runs": 419
         },
         {
          "episodes": 1,
          "runs": 420
         },
         {
          "episodes": 103,
          "runs": 421
         },
         {
          "episodes": 103,
          "runs": 422
         },
         {
          "episodes": 103,
          "runs": 423
         },
         {
          "episodes": 103,
          "runs": 424
         },
         {
          "episodes": 103,
          "runs": 425
         },
         {
          "episodes": 1,
          "runs": 426
         },
         {
          "episodes": 103,
          "runs": 427
         },
         {
          "episodes": 103,
          "runs": 428
         },
         {
          "episodes": 103,
          "runs": 429
         },
         {
          "episodes": 105,
          "runs": 430
         },
         {
          "episodes": 103,
          "runs": 431
         },
         {
          "episodes": 103,
          "runs": 432
         },
         {
          "episodes": 1,
          "runs": 433
         },
         {
          "episodes": 226,
          "runs": 434
         },
         {
          "episodes": 103,
          "runs": 435
         },
         {
          "episodes": 1,
          "runs": 436
         },
         {
          "episodes": 1,
          "runs": 437
         },
         {
          "episodes": 103,
          "runs": 438
         },
         {
          "episodes": 113,
          "runs": 439
         },
         {
          "episodes": 103,
          "runs": 440
         },
         {
          "episodes": 103,
          "runs": 441
         },
         {
          "episodes": 103,
          "runs": 442
         },
         {
          "episodes": 135,
          "runs": 443
         },
         {
          "episodes": 1,
          "runs": 444
         },
         {
          "episodes": 105,
          "runs": 445
         },
         {
          "episodes": 105,
          "runs": 446
         },
         {
          "episodes": 103,
          "runs": 447
         },
         {
          "episodes": 103,
          "runs": 448
         },
         {
          "episodes": 103,
          "runs": 449
         },
         {
          "episodes": 103,
          "runs": 450
         },
         {
          "episodes": 103,
          "runs": 451
         },
         {
          "episodes": 1,
          "runs": 452
         },
         {
          "episodes": 1,
          "runs": 453
         },
         {
          "episodes": 103,
          "runs": 454
         },
         {
          "episodes": 1,
          "runs": 455
         },
         {
          "episodes": 105,
          "runs": 456
         },
         {
          "episodes": 108,
          "runs": 457
         },
         {
          "episodes": 103,
          "runs": 458
         },
         {
          "episodes": 103,
          "runs": 459
         },
         {
          "episodes": 117,
          "runs": 460
         },
         {
          "episodes": 103,
          "runs": 461
         },
         {
          "episodes": 103,
          "runs": 462
         },
         {
          "episodes": 103,
          "runs": 463
         },
         {
          "episodes": 103,
          "runs": 464
         },
         {
          "episodes": 418,
          "runs": 465
         },
         {
          "episodes": 120,
          "runs": 466
         },
         {
          "episodes": 111,
          "runs": 467
         },
         {
          "episodes": 103,
          "runs": 468
         },
         {
          "episodes": 105,
          "runs": 469
         },
         {
          "episodes": 111,
          "runs": 470
         },
         {
          "episodes": 1,
          "runs": 471
         },
         {
          "episodes": 103,
          "runs": 472
         },
         {
          "episodes": 103,
          "runs": 473
         },
         {
          "episodes": 123,
          "runs": 474
         },
         {
          "episodes": 1,
          "runs": 475
         },
         {
          "episodes": 1,
          "runs": 476
         },
         {
          "episodes": 1,
          "runs": 477
         },
         {
          "episodes": 1,
          "runs": 478
         },
         {
          "episodes": 108,
          "runs": 479
         },
         {
          "episodes": 103,
          "runs": 480
         },
         {
          "episodes": 105,
          "runs": 481
         },
         {
          "episodes": 1,
          "runs": 482
         },
         {
          "episodes": 1,
          "runs": 483
         },
         {
          "episodes": 103,
          "runs": 484
         },
         {
          "episodes": 1,
          "runs": 485
         },
         {
          "episodes": 105,
          "runs": 486
         },
         {
          "episodes": 103,
          "runs": 487
         },
         {
          "episodes": 128,
          "runs": 488
         },
         {
          "episodes": 103,
          "runs": 489
         },
         {
          "episodes": 1,
          "runs": 490
         },
         {
          "episodes": 103,
          "runs": 491
         },
         {
          "episodes": 103,
          "runs": 492
         },
         {
          "episodes": 1,
          "runs": 493
         },
         {
          "episodes": 122,
          "runs": 494
         },
         {
          "episodes": 105,
          "runs": 495
         },
         {
          "episodes": 1,
          "runs": 496
         },
         {
          "episodes": 103,
          "runs": 497
         },
         {
          "episodes": 105,
          "runs": 498
         },
         {
          "episodes": 103,
          "runs": 499
         },
         {
          "episodes": 1,
          "runs": 500
         },
         {
          "episodes": 1,
          "runs": 501
         },
         {
          "episodes": 1,
          "runs": 502
         },
         {
          "episodes": 103,
          "runs": 503
         },
         {
          "episodes": 111,
          "runs": 504
         },
         {
          "episodes": 1,
          "runs": 505
         },
         {
          "episodes": 103,
          "runs": 506
         },
         {
          "episodes": 1,
          "runs": 507
         },
         {
          "episodes": 1,
          "runs": 508
         },
         {
          "episodes": 105,
          "runs": 509
         },
         {
          "episodes": 109,
          "runs": 510
         },
         {
          "episodes": 103,
          "runs": 511
         },
         {
          "episodes": 103,
          "runs": 512
         },
         {
          "episodes": 103,
          "runs": 513
         },
         {
          "episodes": 1,
          "runs": 514
         },
         {
          "episodes": 1,
          "runs": 515
         },
         {
          "episodes": 1,
          "runs": 516
         },
         {
          "episodes": 103,
          "runs": 517
         },
         {
          "episodes": 103,
          "runs": 518
         },
         {
          "episodes": 103,
          "runs": 519
         },
         {
          "episodes": 1,
          "runs": 520
         },
         {
          "episodes": 1,
          "runs": 521
         },
         {
          "episodes": 103,
          "runs": 522
         },
         {
          "episodes": 109,
          "runs": 523
         },
         {
          "episodes": 103,
          "runs": 524
         },
         {
          "episodes": 1,
          "runs": 525
         },
         {
          "episodes": 117,
          "runs": 526
         },
         {
          "episodes": 103,
          "runs": 527
         },
         {
          "episodes": 103,
          "runs": 528
         },
         {
          "episodes": 1,
          "runs": 529
         },
         {
          "episodes": 1,
          "runs": 530
         },
         {
          "episodes": 1,
          "runs": 531
         },
         {
          "episodes": 103,
          "runs": 532
         },
         {
          "episodes": 103,
          "runs": 533
         },
         {
          "episodes": 103,
          "runs": 534
         },
         {
          "episodes": 103,
          "runs": 535
         },
         {
          "episodes": 103,
          "runs": 536
         },
         {
          "episodes": 1,
          "runs": 537
         },
         {
          "episodes": 103,
          "runs": 538
         },
         {
          "episodes": 1,
          "runs": 539
         },
         {
          "episodes": 105,
          "runs": 540
         },
         {
          "episodes": 103,
          "runs": 541
         },
         {
          "episodes": 118,
          "runs": 542
         },
         {
          "episodes": 1,
          "runs": 543
         },
         {
          "episodes": 1,
          "runs": 544
         },
         {
          "episodes": 1,
          "runs": 545
         },
         {
          "episodes": 1,
          "runs": 546
         },
         {
          "episodes": 127,
          "runs": 547
         },
         {
          "episodes": 103,
          "runs": 548
         },
         {
          "episodes": 1,
          "runs": 549
         },
         {
          "episodes": 1,
          "runs": 550
         },
         {
          "episodes": 1,
          "runs": 551
         },
         {
          "episodes": 105,
          "runs": 552
         },
         {
          "episodes": 1,
          "runs": 553
         },
         {
          "episodes": 105,
          "runs": 554
         },
         {
          "episodes": 105,
          "runs": 555
         },
         {
          "episodes": 103,
          "runs": 556
         },
         {
          "episodes": 1,
          "runs": 557
         },
         {
          "episodes": 103,
          "runs": 558
         },
         {
          "episodes": 103,
          "runs": 559
         },
         {
          "episodes": 175,
          "runs": 560
         },
         {
          "episodes": 103,
          "runs": 561
         },
         {
          "episodes": 127,
          "runs": 562
         },
         {
          "episodes": 103,
          "runs": 563
         },
         {
          "episodes": 1,
          "runs": 564
         },
         {
          "episodes": 1,
          "runs": 565
         },
         {
          "episodes": 111,
          "runs": 566
         },
         {
          "episodes": 1,
          "runs": 567
         },
         {
          "episodes": 181,
          "runs": 568
         },
         {
          "episodes": 103,
          "runs": 569
         },
         {
          "episodes": 1,
          "runs": 570
         },
         {
          "episodes": 1,
          "runs": 571
         },
         {
          "episodes": 103,
          "runs": 572
         },
         {
          "episodes": 103,
          "runs": 573
         },
         {
          "episodes": 103,
          "runs": 574
         },
         {
          "episodes": 1,
          "runs": 575
         },
         {
          "episodes": 103,
          "runs": 576
         },
         {
          "episodes": 105,
          "runs": 577
         },
         {
          "episodes": 167,
          "runs": 578
         },
         {
          "episodes": 103,
          "runs": 579
         },
         {
          "episodes": 313,
          "runs": 580
         },
         {
          "episodes": 103,
          "runs": 581
         },
         {
          "episodes": 109,
          "runs": 582
         },
         {
          "episodes": 1,
          "runs": 583
         },
         {
          "episodes": 1,
          "runs": 584
         },
         {
          "episodes": 103,
          "runs": 585
         },
         {
          "episodes": 1,
          "runs": 586
         },
         {
          "episodes": 109,
          "runs": 587
         },
         {
          "episodes": 105,
          "runs": 588
         },
         {
          "episodes": 103,
          "runs": 589
         },
         {
          "episodes": 1,
          "runs": 590
         },
         {
          "episodes": 140,
          "runs": 591
         },
         {
          "episodes": 103,
          "runs": 592
         },
         {
          "episodes": 103,
          "runs": 593
         },
         {
          "episodes": 103,
          "runs": 594
         },
         {
          "episodes": 103,
          "runs": 595
         },
         {
          "episodes": 103,
          "runs": 596
         },
         {
          "episodes": 103,
          "runs": 597
         },
         {
          "episodes": 103,
          "runs": 598
         },
         {
          "episodes": 113,
          "runs": 599
         },
         {
          "episodes": 1,
          "runs": 600
         },
         {
          "episodes": 105,
          "runs": 601
         },
         {
          "episodes": 103,
          "runs": 602
         },
         {
          "episodes": 103,
          "runs": 603
         },
         {
          "episodes": 103,
          "runs": 604
         },
         {
          "episodes": 103,
          "runs": 605
         },
         {
          "episodes": 1,
          "runs": 606
         },
         {
          "episodes": 105,
          "runs": 607
         },
         {
          "episodes": 103,
          "runs": 608
         },
         {
          "episodes": 1,
          "runs": 609
         },
         {
          "episodes": 103,
          "runs": 610
         },
         {
          "episodes": 1,
          "runs": 611
         },
         {
          "episodes": 1,
          "runs": 612
         },
         {
          "episodes": 1,
          "runs": 613
         },
         {
          "episodes": 1,
          "runs": 614
         },
         {
          "episodes": 103,
          "runs": 615
         },
         {
          "episodes": 108,
          "runs": 616
         },
         {
          "episodes": 103,
          "runs": 617
         },
         {
          "episodes": 103,
          "runs": 618
         },
         {
          "episodes": 116,
          "runs": 619
         },
         {
          "episodes": 103,
          "runs": 620
         },
         {
          "episodes": 130,
          "runs": 621
         },
         {
          "episodes": 120,
          "runs": 622
         },
         {
          "episodes": 103,
          "runs": 623
         },
         {
          "episodes": 1,
          "runs": 624
         },
         {
          "episodes": 1,
          "runs": 625
         },
         {
          "episodes": 105,
          "runs": 626
         },
         {
          "episodes": 1,
          "runs": 627
         },
         {
          "episodes": 103,
          "runs": 628
         },
         {
          "episodes": 103,
          "runs": 629
         },
         {
          "episodes": 113,
          "runs": 630
         },
         {
          "episodes": 120,
          "runs": 631
         },
         {
          "episodes": 113,
          "runs": 632
         },
         {
          "episodes": 1,
          "runs": 633
         },
         {
          "episodes": 154,
          "runs": 634
         },
         {
          "episodes": 103,
          "runs": 635
         },
         {
          "episodes": 1,
          "runs": 636
         },
         {
          "episodes": 105,
          "runs": 637
         },
         {
          "episodes": 1,
          "runs": 638
         },
         {
          "episodes": 103,
          "runs": 639
         },
         {
          "episodes": 103,
          "runs": 640
         },
         {
          "episodes": 103,
          "runs": 641
         },
         {
          "episodes": 103,
          "runs": 642
         },
         {
          "episodes": 1,
          "runs": 643
         },
         {
          "episodes": 198,
          "runs": 644
         },
         {
          "episodes": 105,
          "runs": 645
         },
         {
          "episodes": 103,
          "runs": 646
         },
         {
          "episodes": 111,
          "runs": 647
         },
         {
          "episodes": 105,
          "runs": 648
         },
         {
          "episodes": 105,
          "runs": 649
         },
         {
          "episodes": 1,
          "runs": 650
         },
         {
          "episodes": 103,
          "runs": 651
         },
         {
          "episodes": 103,
          "runs": 652
         },
         {
          "episodes": 103,
          "runs": 653
         },
         {
          "episodes": 103,
          "runs": 654
         },
         {
          "episodes": 1,
          "runs": 655
         },
         {
          "episodes": 103,
          "runs": 656
         },
         {
          "episodes": 103,
          "runs": 657
         },
         {
          "episodes": 103,
          "runs": 658
         },
         {
          "episodes": 103,
          "runs": 659
         },
         {
          "episodes": 105,
          "runs": 660
         },
         {
          "episodes": 1,
          "runs": 661
         },
         {
          "episodes": 115,
          "runs": 662
         },
         {
          "episodes": 105,
          "runs": 663
         },
         {
          "episodes": 1,
          "runs": 664
         },
         {
          "episodes": 1,
          "runs": 665
         },
         {
          "episodes": 1,
          "runs": 666
         },
         {
          "episodes": 1,
          "runs": 667
         },
         {
          "episodes": 1,
          "runs": 668
         },
         {
          "episodes": 103,
          "runs": 669
         },
         {
          "episodes": 1,
          "runs": 670
         },
         {
          "episodes": 103,
          "runs": 671
         },
         {
          "episodes": 103,
          "runs": 672
         },
         {
          "episodes": 103,
          "runs": 673
         },
         {
          "episodes": 1,
          "runs": 674
         },
         {
          "episodes": 105,
          "runs": 675
         },
         {
          "episodes": 103,
          "runs": 676
         },
         {
          "episodes": 1,
          "runs": 677
         },
         {
          "episodes": 145,
          "runs": 678
         },
         {
          "episodes": 103,
          "runs": 679
         },
         {
          "episodes": 1,
          "runs": 680
         },
         {
          "episodes": 103,
          "runs": 681
         },
         {
          "episodes": 1,
          "runs": 682
         },
         {
          "episodes": 103,
          "runs": 683
         },
         {
          "episodes": 103,
          "runs": 684
         },
         {
          "episodes": 103,
          "runs": 685
         },
         {
          "episodes": 103,
          "runs": 686
         },
         {
          "episodes": 1,
          "runs": 687
         },
         {
          "episodes": 103,
          "runs": 688
         },
         {
          "episodes": 1,
          "runs": 689
         },
         {
          "episodes": 109,
          "runs": 690
         },
         {
          "episodes": 1,
          "runs": 691
         },
         {
          "episodes": 1,
          "runs": 692
         },
         {
          "episodes": 103,
          "runs": 693
         },
         {
          "episodes": 103,
          "runs": 694
         },
         {
          "episodes": 116,
          "runs": 695
         },
         {
          "episodes": 1,
          "runs": 696
         },
         {
          "episodes": 103,
          "runs": 697
         },
         {
          "episodes": 1,
          "runs": 698
         },
         {
          "episodes": 110,
          "runs": 699
         },
         {
          "episodes": 1,
          "runs": 700
         },
         {
          "episodes": 1,
          "runs": 701
         },
         {
          "episodes": 103,
          "runs": 702
         },
         {
          "episodes": 1,
          "runs": 703
         },
         {
          "episodes": 103,
          "runs": 704
         },
         {
          "episodes": 1,
          "runs": 705
         },
         {
          "episodes": 105,
          "runs": 706
         },
         {
          "episodes": 103,
          "runs": 707
         },
         {
          "episodes": 1,
          "runs": 708
         },
         {
          "episodes": 103,
          "runs": 709
         },
         {
          "episodes": 1,
          "runs": 710
         },
         {
          "episodes": 111,
          "runs": 711
         },
         {
          "episodes": 103,
          "runs": 712
         },
         {
          "episodes": 105,
          "runs": 713
         },
         {
          "episodes": 103,
          "runs": 714
         },
         {
          "episodes": 116,
          "runs": 715
         },
         {
          "episodes": 1,
          "runs": 716
         },
         {
          "episodes": 111,
          "runs": 717
         },
         {
          "episodes": 1,
          "runs": 718
         },
         {
          "episodes": 103,
          "runs": 719
         },
         {
          "episodes": 105,
          "runs": 720
         },
         {
          "episodes": 105,
          "runs": 721
         },
         {
          "episodes": 1,
          "runs": 722
         },
         {
          "episodes": 1,
          "runs": 723
         },
         {
          "episodes": 1,
          "runs": 724
         },
         {
          "episodes": 1,
          "runs": 725
         },
         {
          "episodes": 125,
          "runs": 726
         },
         {
          "episodes": 103,
          "runs": 727
         },
         {
          "episodes": 103,
          "runs": 728
         },
         {
          "episodes": 109,
          "runs": 729
         },
         {
          "episodes": 1,
          "runs": 730
         },
         {
          "episodes": 1,
          "runs": 731
         },
         {
          "episodes": 123,
          "runs": 732
         },
         {
          "episodes": 1,
          "runs": 733
         },
         {
          "episodes": 1,
          "runs": 734
         },
         {
          "episodes": 103,
          "runs": 735
         },
         {
          "episodes": 105,
          "runs": 736
         },
         {
          "episodes": 105,
          "runs": 737
         },
         {
          "episodes": 154,
          "runs": 738
         },
         {
          "episodes": 103,
          "runs": 739
         },
         {
          "episodes": 103,
          "runs": 740
         },
         {
          "episodes": 103,
          "runs": 741
         },
         {
          "episodes": 1,
          "runs": 742
         },
         {
          "episodes": 103,
          "runs": 743
         },
         {
          "episodes": 103,
          "runs": 744
         },
         {
          "episodes": 1,
          "runs": 745
         },
         {
          "episodes": 103,
          "runs": 746
         },
         {
          "episodes": 1,
          "runs": 747
         },
         {
          "episodes": 1,
          "runs": 748
         },
         {
          "episodes": 123,
          "runs": 749
         },
         {
          "episodes": 103,
          "runs": 750
         },
         {
          "episodes": 103,
          "runs": 751
         },
         {
          "episodes": 1,
          "runs": 752
         },
         {
          "episodes": 147,
          "runs": 753
         },
         {
          "episodes": 103,
          "runs": 754
         },
         {
          "episodes": 103,
          "runs": 755
         },
         {
          "episodes": 1,
          "runs": 756
         },
         {
          "episodes": 1,
          "runs": 757
         },
         {
          "episodes": 108,
          "runs": 758
         },
         {
          "episodes": 1,
          "runs": 759
         },
         {
          "episodes": 103,
          "runs": 760
         },
         {
          "episodes": 109,
          "runs": 761
         },
         {
          "episodes": 1,
          "runs": 762
         },
         {
          "episodes": 1,
          "runs": 763
         },
         {
          "episodes": 103,
          "runs": 764
         },
         {
          "episodes": 1,
          "runs": 765
         },
         {
          "episodes": 1,
          "runs": 766
         },
         {
          "episodes": 103,
          "runs": 767
         },
         {
          "episodes": 1,
          "runs": 768
         },
         {
          "episodes": 103,
          "runs": 769
         },
         {
          "episodes": 103,
          "runs": 770
         },
         {
          "episodes": 1,
          "runs": 771
         },
         {
          "episodes": 103,
          "runs": 772
         },
         {
          "episodes": 1,
          "runs": 773
         },
         {
          "episodes": 1,
          "runs": 774
         },
         {
          "episodes": 1,
          "runs": 775
         },
         {
          "episodes": 1,
          "runs": 776
         },
         {
          "episodes": 109,
          "runs": 777
         },
         {
          "episodes": 1,
          "runs": 778
         },
         {
          "episodes": 103,
          "runs": 779
         },
         {
          "episodes": 103,
          "runs": 780
         },
         {
          "episodes": 1,
          "runs": 781
         },
         {
          "episodes": 103,
          "runs": 782
         },
         {
          "episodes": 1,
          "runs": 783
         },
         {
          "episodes": 1,
          "runs": 784
         },
         {
          "episodes": 1,
          "runs": 785
         },
         {
          "episodes": 105,
          "runs": 786
         },
         {
          "episodes": 120,
          "runs": 787
         },
         {
          "episodes": 103,
          "runs": 788
         },
         {
          "episodes": 1,
          "runs": 789
         },
         {
          "episodes": 103,
          "runs": 790
         },
         {
          "episodes": 1,
          "runs": 791
         },
         {
          "episodes": 103,
          "runs": 792
         },
         {
          "episodes": 103,
          "runs": 793
         },
         {
          "episodes": 103,
          "runs": 794
         },
         {
          "episodes": 103,
          "runs": 795
         },
         {
          "episodes": 1,
          "runs": 796
         },
         {
          "episodes": 103,
          "runs": 797
         },
         {
          "episodes": 103,
          "runs": 798
         },
         {
          "episodes": 1,
          "runs": 799
         },
         {
          "episodes": 1,
          "runs": 800
         },
         {
          "episodes": 1,
          "runs": 801
         },
         {
          "episodes": 105,
          "runs": 802
         },
         {
          "episodes": 103,
          "runs": 803
         },
         {
          "episodes": 1,
          "runs": 804
         },
         {
          "episodes": 105,
          "runs": 805
         },
         {
          "episodes": 103,
          "runs": 806
         },
         {
          "episodes": 109,
          "runs": 807
         },
         {
          "episodes": 1,
          "runs": 808
         },
         {
          "episodes": 168,
          "runs": 809
         },
         {
          "episodes": 1,
          "runs": 810
         },
         {
          "episodes": 103,
          "runs": 811
         },
         {
          "episodes": 103,
          "runs": 812
         },
         {
          "episodes": 105,
          "runs": 813
         },
         {
          "episodes": 141,
          "runs": 814
         },
         {
          "episodes": 103,
          "runs": 815
         },
         {
          "episodes": 1,
          "runs": 816
         },
         {
          "episodes": 103,
          "runs": 817
         },
         {
          "episodes": 116,
          "runs": 818
         },
         {
          "episodes": 103,
          "runs": 819
         },
         {
          "episodes": 103,
          "runs": 820
         },
         {
          "episodes": 1,
          "runs": 821
         },
         {
          "episodes": 105,
          "runs": 822
         },
         {
          "episodes": 103,
          "runs": 823
         },
         {
          "episodes": 1,
          "runs": 824
         },
         {
          "episodes": 103,
          "runs": 825
         },
         {
          "episodes": 103,
          "runs": 826
         },
         {
          "episodes": 103,
          "runs": 827
         },
         {
          "episodes": 122,
          "runs": 828
         },
         {
          "episodes": 103,
          "runs": 829
         },
         {
          "episodes": 105,
          "runs": 830
         },
         {
          "episodes": 1,
          "runs": 831
         },
         {
          "episodes": 103,
          "runs": 832
         },
         {
          "episodes": 103,
          "runs": 833
         },
         {
          "episodes": 103,
          "runs": 834
         },
         {
          "episodes": 1,
          "runs": 835
         },
         {
          "episodes": 105,
          "runs": 836
         },
         {
          "episodes": 105,
          "runs": 837
         },
         {
          "episodes": 103,
          "runs": 838
         },
         {
          "episodes": 1,
          "runs": 839
         },
         {
          "episodes": 103,
          "runs": 840
         },
         {
          "episodes": 103,
          "runs": 841
         },
         {
          "episodes": 1,
          "runs": 842
         },
         {
          "episodes": 103,
          "runs": 843
         },
         {
          "episodes": 1,
          "runs": 844
         },
         {
          "episodes": 1,
          "runs": 845
         },
         {
          "episodes": 1,
          "runs": 846
         },
         {
          "episodes": 103,
          "runs": 847
         },
         {
          "episodes": 1,
          "runs": 848
         },
         {
          "episodes": 103,
          "runs": 849
         },
         {
          "episodes": 103,
          "runs": 850
         },
         {
          "episodes": 103,
          "runs": 851
         },
         {
          "episodes": 105,
          "runs": 852
         },
         {
          "episodes": 103,
          "runs": 853
         },
         {
          "episodes": 103,
          "runs": 854
         },
         {
          "episodes": 1,
          "runs": 855
         },
         {
          "episodes": 103,
          "runs": 856
         },
         {
          "episodes": 1,
          "runs": 857
         },
         {
          "episodes": 178,
          "runs": 858
         },
         {
          "episodes": 115,
          "runs": 859
         },
         {
          "episodes": 105,
          "runs": 860
         },
         {
          "episodes": 111,
          "runs": 861
         },
         {
          "episodes": 103,
          "runs": 862
         },
         {
          "episodes": 103,
          "runs": 863
         },
         {
          "episodes": 109,
          "runs": 864
         },
         {
          "episodes": 119,
          "runs": 865
         },
         {
          "episodes": 103,
          "runs": 866
         },
         {
          "episodes": 1,
          "runs": 867
         },
         {
          "episodes": 105,
          "runs": 868
         },
         {
          "episodes": 105,
          "runs": 869
         },
         {
          "episodes": 103,
          "runs": 870
         },
         {
          "episodes": 103,
          "runs": 871
         },
         {
          "episodes": 103,
          "runs": 872
         },
         {
          "episodes": 1,
          "runs": 873
         },
         {
          "episodes": 103,
          "runs": 874
         },
         {
          "episodes": 103,
          "runs": 875
         },
         {
          "episodes": 103,
          "runs": 876
         },
         {
          "episodes": 190,
          "runs": 877
         },
         {
          "episodes": 109,
          "runs": 878
         },
         {
          "episodes": 134,
          "runs": 879
         },
         {
          "episodes": 1,
          "runs": 880
         },
         {
          "episodes": 1,
          "runs": 881
         },
         {
          "episodes": 1,
          "runs": 882
         },
         {
          "episodes": 103,
          "runs": 883
         },
         {
          "episodes": 103,
          "runs": 884
         },
         {
          "episodes": 103,
          "runs": 885
         },
         {
          "episodes": 1,
          "runs": 886
         },
         {
          "episodes": 103,
          "runs": 887
         },
         {
          "episodes": 1,
          "runs": 888
         },
         {
          "episodes": 143,
          "runs": 889
         },
         {
          "episodes": 105,
          "runs": 890
         },
         {
          "episodes": 1,
          "runs": 891
         },
         {
          "episodes": 105,
          "runs": 892
         },
         {
          "episodes": 113,
          "runs": 893
         },
         {
          "episodes": 1,
          "runs": 894
         },
         {
          "episodes": 1,
          "runs": 895
         },
         {
          "episodes": 103,
          "runs": 896
         },
         {
          "episodes": 103,
          "runs": 897
         },
         {
          "episodes": 1,
          "runs": 898
         },
         {
          "episodes": 103,
          "runs": 899
         },
         {
          "episodes": 1,
          "runs": 900
         },
         {
          "episodes": 103,
          "runs": 901
         },
         {
          "episodes": 103,
          "runs": 902
         },
         {
          "episodes": 1,
          "runs": 903
         },
         {
          "episodes": 1,
          "runs": 904
         },
         {
          "episodes": 131,
          "runs": 905
         },
         {
          "episodes": 105,
          "runs": 906
         },
         {
          "episodes": 103,
          "runs": 907
         },
         {
          "episodes": 1,
          "runs": 908
         },
         {
          "episodes": 105,
          "runs": 909
         },
         {
          "episodes": 103,
          "runs": 910
         },
         {
          "episodes": 113,
          "runs": 911
         },
         {
          "episodes": 103,
          "runs": 912
         },
         {
          "episodes": 1,
          "runs": 913
         },
         {
          "episodes": 103,
          "runs": 914
         },
         {
          "episodes": 103,
          "runs": 915
         },
         {
          "episodes": 133,
          "runs": 916
         },
         {
          "episodes": 105,
          "runs": 917
         },
         {
          "episodes": 111,
          "runs": 918
         },
         {
          "episodes": 103,
          "runs": 919
         },
         {
          "episodes": 1,
          "runs": 920
         },
         {
          "episodes": 1,
          "runs": 921
         },
         {
          "episodes": 1,
          "runs": 922
         },
         {
          "episodes": 103,
          "runs": 923
         },
         {
          "episodes": 103,
          "runs": 924
         },
         {
          "episodes": 103,
          "runs": 925
         },
         {
          "episodes": 1,
          "runs": 926
         },
         {
          "episodes": 1,
          "runs": 927
         },
         {
          "episodes": 1,
          "runs": 928
         },
         {
          "episodes": 115,
          "runs": 929
         },
         {
          "episodes": 103,
          "runs": 930
         },
         {
          "episodes": 109,
          "runs": 931
         },
         {
          "episodes": 1,
          "runs": 932
         },
         {
          "episodes": 109,
          "runs": 933
         },
         {
          "episodes": 103,
          "runs": 934
         },
         {
          "episodes": 116,
          "runs": 935
         },
         {
          "episodes": 103,
          "runs": 936
         },
         {
          "episodes": 1,
          "runs": 937
         },
         {
          "episodes": 111,
          "runs": 938
         },
         {
          "episodes": 105,
          "runs": 939
         },
         {
          "episodes": 105,
          "runs": 940
         },
         {
          "episodes": 1,
          "runs": 941
         },
         {
          "episodes": 103,
          "runs": 942
         },
         {
          "episodes": 109,
          "runs": 943
         },
         {
          "episodes": 105,
          "runs": 944
         },
         {
          "episodes": 181,
          "runs": 945
         },
         {
          "episodes": 103,
          "runs": 946
         },
         {
          "episodes": 111,
          "runs": 947
         },
         {
          "episodes": 103,
          "runs": 948
         },
         {
          "episodes": 103,
          "runs": 949
         },
         {
          "episodes": 105,
          "runs": 950
         },
         {
          "episodes": 1,
          "runs": 951
         },
         {
          "episodes": 103,
          "runs": 952
         },
         {
          "episodes": 103,
          "runs": 953
         },
         {
          "episodes": 103,
          "runs": 954
         },
         {
          "episodes": 126,
          "runs": 955
         },
         {
          "episodes": 1,
          "runs": 956
         },
         {
          "episodes": 103,
          "runs": 957
         },
         {
          "episodes": 103,
          "runs": 958
         },
         {
          "episodes": 103,
          "runs": 959
         },
         {
          "episodes": 117,
          "runs": 960
         },
         {
          "episodes": 105,
          "runs": 961
         },
         {
          "episodes": 103,
          "runs": 962
         },
         {
          "episodes": 1,
          "runs": 963
         },
         {
          "episodes": 105,
          "runs": 964
         },
         {
          "episodes": 103,
          "runs": 965
         },
         {
          "episodes": 1,
          "runs": 966
         },
         {
          "episodes": 105,
          "runs": 967
         },
         {
          "episodes": 122,
          "runs": 968
         },
         {
          "episodes": 103,
          "runs": 969
         },
         {
          "episodes": 1,
          "runs": 970
         },
         {
          "episodes": 103,
          "runs": 971
         },
         {
          "episodes": 105,
          "runs": 972
         },
         {
          "episodes": 1,
          "runs": 973
         },
         {
          "episodes": 1,
          "runs": 974
         },
         {
          "episodes": 109,
          "runs": 975
         },
         {
          "episodes": 1,
          "runs": 976
         },
         {
          "episodes": 103,
          "runs": 977
         },
         {
          "episodes": 105,
          "runs": 978
         },
         {
          "episodes": 103,
          "runs": 979
         },
         {
          "episodes": 105,
          "runs": 980
         },
         {
          "episodes": 1,
          "runs": 981
         },
         {
          "episodes": 103,
          "runs": 982
         },
         {
          "episodes": 103,
          "runs": 983
         },
         {
          "episodes": 229,
          "runs": 984
         },
         {
          "episodes": 103,
          "runs": 985
         },
         {
          "episodes": 103,
          "runs": 986
         },
         {
          "episodes": 105,
          "runs": 987
         },
         {
          "episodes": 103,
          "runs": 988
         },
         {
          "episodes": 103,
          "runs": 989
         },
         {
          "episodes": 1,
          "runs": 990
         },
         {
          "episodes": 1,
          "runs": 991
         },
         {
          "episodes": 103,
          "runs": 992
         },
         {
          "episodes": 109,
          "runs": 993
         },
         {
          "episodes": 105,
          "runs": 994
         },
         {
          "episodes": 1,
          "runs": 995
         },
         {
          "episodes": 110,
          "runs": 996
         },
         {
          "episodes": 103,
          "runs": 997
         },
         {
          "episodes": 103,
          "runs": 998
         },
         {
          "episodes": 1,
          "runs": 999
         }
        ]
       },
       "layer": [
        {
         "data": {
          "name": "data-8ddd870ae7920c68a40afc1bc6fbea09"
         },
         "encoding": {
          "x": {
           "bin": true,
           "field": "episodes",
           "title": "Binned Episodes",
           "type": "quantitative"
          },
          "y": {
           "aggregate": "count",
           "field": "episodes",
           "type": "quantitative"
          }
         },
         "mark": "bar",
         "title": "Steepest ascend (runs=1000)"
        },
        {
         "data": {
          "name": "data-8ddd870ae7920c68a40afc1bc6fbea09"
         },
         "encoding": {
          "size": {
           "value": 3
          },
          "x": {
           "aggregate": "mean",
           "field": "episodes",
           "type": "quantitative"
          }
         },
         "mark": {
          "color": "red",
          "type": "rule"
         }
        }
       ]
      },
      "image/png": "[encoded data removed]",
      "text/plain": [
       "<VegaLite 2 object>\n",
       "\n",
       "If you see this message, it means the renderer has not been properly enabled\n",
       "for the frontend that you are using. For more information, see\n",
       "https://altair-viz.github.io/user_guide/troubleshooting.html\n"
      ]
     },
     "execution_count": 42,
     "metadata": {},
     "output_type": "execute_result"
    }
   ],
   "source": [
    "chart, steepest_df = plot(data_dir, 'steepest', altair=True, title=\"Steepest ascend (runs=1000)\")\n",
    "chart"
   ]
  },
  {
   "cell_type": "markdown",
   "metadata": {},
   "source": [
    "# Simulated annealing"
   ]
  },
  {
   "cell_type": "code",
   "execution_count": 36,
   "metadata": {},
   "outputs": [
    {
     "name": "stdout",
     "output_type": "stream",
     "text": [
      "using pickle path: ../src/runs//anneal/20181015200209/data.pkl\n",
      "              runs    episodes\n",
      "count  1000.000000  1000.00000\n",
      "mean    499.500000   366.85900\n",
      "std     288.819436   380.82428\n",
      "min       0.000000     1.00000\n",
      "25%     249.750000     1.00000\n",
      "50%     499.500000   217.00000\n",
      "75%     749.250000   912.00000\n",
      "max     999.000000  1000.00000\n"
     ]
    },
    {
     "data": {
      "text/plain": [
       "<matplotlib.axes._subplots.AxesSubplot at 0x7f1d885444a8>"
      ]
     },
     "execution_count": 36,
     "metadata": {},
     "output_type": "execute_result"
    },
    {
     "data": {
      "image/png": "[encoded data removed]",
      "text/plain": [
       "<Figure size 432x288 with 1 Axes>"
      ]
     },
     "metadata": {
      "needs_background": "light"
     },
     "output_type": "display_data"
    }
   ],
   "source": [
    "chart, anneal_df = plot(data_dir, 'anneal')\n",
    "chart"
   ]
  },
  {
   "cell_type": "code",
   "execution_count": 41,
   "metadata": {},
   "outputs": [
    {
     "name": "stdout",
     "output_type": "stream",
     "text": [
      "using pickle path: ../src/runs//anneal/20181015200209/data.pkl\n",
      "              runs    episodes\n",
      "count  1000.000000  1000.00000\n",
      "mean    499.500000   366.85900\n",
      "std     288.819436   380.82428\n",
      "min       0.000000     1.00000\n",
      "25%     249.750000     1.00000\n",
      "50%     499.500000   217.00000\n",
      "75%     749.250000   912.00000\n",
      "max     999.000000  1000.00000\n"
     ]
    },
    {
     "data": {
      "application/vnd.vegalite.v2+json": {
       "$schema": "https://vega.github.io/schema/vega-lite/v2.6.0.json",
       "config": {
        "view": {
         "height": 300,
         "width": 400
        }
       },
       "datasets": {
        "data-43e1b045aa0a58d1fc4883435a66c069": [
         {
          "episodes": 1000,
          "runs": 0
         },
         {
          "episodes": 1,
          "runs": 1
         },
         {
          "episodes": 1,
          "runs": 2
         },
         {
          "episodes": 217,
          "runs": 3
         },
         {
          "episodes": 941,
          "runs": 4
         },
         {
          "episodes": 232,
          "runs": 5
         },
         {
          "episodes": 925,
          "runs": 6
         },
         {
          "episodes": 229,
          "runs": 7
         },
         {
          "episodes": 933,
          "runs": 8
         },
         {
          "episodes": 217,
          "runs": 9
         },
         {
          "episodes": 1000,
          "runs": 10
         },
         {
          "episodes": 1,
          "runs": 11
         },
         {
          "episodes": 226,
          "runs": 12
         },
         {
          "episodes": 1,
          "runs": 13
         },
         {
          "episodes": 217,
          "runs": 14
         },
         {
          "episodes": 217,
          "runs": 15
         },
         {
          "episodes": 217,
          "runs": 16
         },
         {
          "episodes": 219,
          "runs": 17
         },
         {
          "episodes": 1,
          "runs": 18
         },
         {
          "episodes": 1000,
          "runs": 19
         },
         {
          "episodes": 229,
          "runs": 20
         },
         {
          "episodes": 216,
          "runs": 21
         },
         {
          "episodes": 230,
          "runs": 22
         },
         {
          "episodes": 217,
          "runs": 23
         },
         {
          "episodes": 216,
          "runs": 24
         },
         {
          "episodes": 1,
          "runs": 25
         },
         {
          "episodes": 918,
          "runs": 26
         },
         {
          "episodes": 927,
          "runs": 27
         },
         {
          "episodes": 1,
          "runs": 28
         },
         {
          "episodes": 217,
          "runs": 29
         },
         {
          "episodes": 229,
          "runs": 30
         },
         {
          "episodes": 933,
          "runs": 31
         },
         {
          "episodes": 914,
          "runs": 32
         },
         {
          "episodes": 942,
          "runs": 33
         },
         {
          "episodes": 231,
          "runs": 34
         },
         {
          "episodes": 1000,
          "runs": 35
         },
         {
          "episodes": 1,
          "runs": 36
         },
         {
          "episodes": 217,
          "runs": 37
         },
         {
          "episodes": 756,
          "runs": 38
         },
         {
          "episodes": 217,
          "runs": 39
         },
         {
          "episodes": 229,
          "runs": 40
         },
         {
          "episodes": 241,
          "runs": 41
         },
         {
          "episodes": 1,
          "runs": 42
         },
         {
          "episodes": 216,
          "runs": 43
         },
         {
          "episodes": 1000,
          "runs": 44
         },
         {
          "episodes": 1,
          "runs": 45
         },
         {
          "episodes": 216,
          "runs": 46
         },
         {
          "episodes": 1000,
          "runs": 47
         },
         {
          "episodes": 1,
          "runs": 48
         },
         {
          "episodes": 230,
          "runs": 49
         },
         {
          "episodes": 1,
          "runs": 50
         },
         {
          "episodes": 230,
          "runs": 51
         },
         {
          "episodes": 1,
          "runs": 52
         },
         {
          "episodes": 217,
          "runs": 53
         },
         {
          "episodes": 216,
          "runs": 54
         },
         {
          "episodes": 217,
          "runs": 55
         },
         {
          "episodes": 1,
          "runs": 56
         },
         {
          "episodes": 953,
          "runs": 57
         },
         {
          "episodes": 217,
          "runs": 58
         },
         {
          "episodes": 1,
          "runs": 59
         },
         {
          "episodes": 954,
          "runs": 60
         },
         {
          "episodes": 217,
          "runs": 61
         },
         {
          "episodes": 1,
          "runs": 62
         },
         {
          "episodes": 927,
          "runs": 63
         },
         {
          "episodes": 217,
          "runs": 64
         },
         {
          "episodes": 230,
          "runs": 65
         },
         {
          "episodes": 1,
          "runs": 66
         },
         {
          "episodes": 1,
          "runs": 67
         },
         {
          "episodes": 216,
          "runs": 68
         },
         {
          "episodes": 223,
          "runs": 69
         },
         {
          "episodes": 229,
          "runs": 70
         },
         {
          "episodes": 939,
          "runs": 71
         },
         {
          "episodes": 229,
          "runs": 72
         },
         {
          "episodes": 1,
          "runs": 73
         },
         {
          "episodes": 217,
          "runs": 74
         },
         {
          "episodes": 1000,
          "runs": 75
         },
         {
          "episodes": 1,
          "runs": 76
         },
         {
          "episodes": 1,
          "runs": 77
         },
         {
          "episodes": 1,
          "runs": 78
         },
         {
          "episodes": 1,
          "runs": 79
         },
         {
          "episodes": 1000,
          "runs": 80
         },
         {
          "episodes": 230,
          "runs": 81
         },
         {
          "episodes": 934,
          "runs": 82
         },
         {
          "episodes": 217,
          "runs": 83
         },
         {
          "episodes": 1,
          "runs": 84
         },
         {
          "episodes": 927,
          "runs": 85
         },
         {
          "episodes": 229,
          "runs": 86
         },
         {
          "episodes": 912,
          "runs": 87
         },
         {
          "episodes": 217,
          "runs": 88
         },
         {
          "episodes": 1,
          "runs": 89
         },
         {
          "episodes": 1,
          "runs": 90
         },
         {
          "episodes": 217,
          "runs": 91
         },
         {
          "episodes": 1,
          "runs": 92
         },
         {
          "episodes": 1,
          "runs": 93
         },
         {
          "episodes": 226,
          "runs": 94
         },
         {
          "episodes": 219,
          "runs": 95
         },
         {
          "episodes": 217,
          "runs": 96
         },
         {
          "episodes": 1,
          "runs": 97
         },
         {
          "episodes": 1000,
          "runs": 98
         },
         {
          "episodes": 223,
          "runs": 99
         },
         {
          "episodes": 217,
          "runs": 100
         },
         {
          "episodes": 217,
          "runs": 101
         },
         {
          "episodes": 230,
          "runs": 102
         },
         {
          "episodes": 1,
          "runs": 103
         },
         {
          "episodes": 216,
          "runs": 104
         },
         {
          "episodes": 217,
          "runs": 105
         },
         {
          "episodes": 217,
          "runs": 106
         },
         {
          "episodes": 223,
          "runs": 107
         },
         {
          "episodes": 1000,
          "runs": 108
         },
         {
          "episodes": 223,
          "runs": 109
         },
         {
          "episodes": 1,
          "runs": 110
         },
         {
          "episodes": 1,
          "runs": 111
         },
         {
          "episodes": 1,
          "runs": 112
         },
         {
          "episodes": 1,
          "runs": 113
         },
         {
          "episodes": 1,
          "runs": 114
         },
         {
          "episodes": 229,
          "runs": 115
         },
         {
          "episodes": 1000,
          "runs": 116
         },
         {
          "episodes": 359,
          "runs": 117
         },
         {
          "episodes": 1,
          "runs": 118
         },
         {
          "episodes": 231,
          "runs": 119
         },
         {
          "episodes": 917,
          "runs": 120
         },
         {
          "episodes": 1,
          "runs": 121
         },
         {
          "episodes": 1,
          "runs": 122
         },
         {
          "episodes": 230,
          "runs": 123
         },
         {
          "episodes": 217,
          "runs": 124
         },
         {
          "episodes": 1000,
          "runs": 125
         },
         {
          "episodes": 1000,
          "runs": 126
         },
         {
          "episodes": 223,
          "runs": 127
         },
         {
          "episodes": 1000,
          "runs": 128
         },
         {
          "episodes": 1000,
          "runs": 129
         },
         {
          "episodes": 1000,
          "runs": 130
         },
         {
          "episodes": 1,
          "runs": 131
         },
         {
          "episodes": 1,
          "runs": 132
         },
         {
          "episodes": 1000,
          "runs": 133
         },
         {
          "episodes": 1,
          "runs": 134
         },
         {
          "episodes": 217,
          "runs": 135
         },
         {
          "episodes": 1000,
          "runs": 136
         },
         {
          "episodes": 1,
          "runs": 137
         },
         {
          "episodes": 223,
          "runs": 138
         },
         {
          "episodes": 1,
          "runs": 139
         },
         {
          "episodes": 217,
          "runs": 140
         },
         {
          "episodes": 1,
          "runs": 141
         },
         {
          "episodes": 217,
          "runs": 142
         },
         {
          "episodes": 941,
          "runs": 143
         },
         {
          "episodes": 217,
          "runs": 144
         },
         {
          "episodes": 1000,
          "runs": 145
         },
         {
          "episodes": 939,
          "runs": 146
         },
         {
          "episodes": 764,
          "runs": 147
         },
         {
          "episodes": 216,
          "runs": 148
         },
         {
          "episodes": 216,
          "runs": 149
         },
         {
          "episodes": 1,
          "runs": 150
         },
         {
          "episodes": 1,
          "runs": 151
         },
         {
          "episodes": 1000,
          "runs": 152
         },
         {
          "episodes": 1,
          "runs": 153
         },
         {
          "episodes": 217,
          "runs": 154
         },
         {
          "episodes": 219,
          "runs": 155
         },
         {
          "episodes": 217,
          "runs": 156
         },
         {
          "episodes": 1000,
          "runs": 157
         },
         {
          "episodes": 230,
          "runs": 158
         },
         {
          "episodes": 1,
          "runs": 159
         },
         {
          "episodes": 1,
          "runs": 160
         },
         {
          "episodes": 1,
          "runs": 161
         },
         {
          "episodes": 1,
          "runs": 162
         },
         {
          "episodes": 217,
          "runs": 163
         },
         {
          "episodes": 1,
          "runs": 164
         },
         {
          "episodes": 217,
          "runs": 165
         },
         {
          "episodes": 230,
          "runs": 166
         },
         {
          "episodes": 1000,
          "runs": 167
         },
         {
          "episodes": 1000,
          "runs": 168
         },
         {
          "episodes": 1000,
          "runs": 169
         },
         {
          "episodes": 1000,
          "runs": 170
         },
         {
          "episodes": 1,
          "runs": 171
         },
         {
          "episodes": 1,
          "runs": 172
         },
         {
          "episodes": 1,
          "runs": 173
         },
         {
          "episodes": 942,
          "runs": 174
         },
         {
          "episodes": 230,
          "runs": 175
         },
         {
          "episodes": 1,
          "runs": 176
         },
         {
          "episodes": 219,
          "runs": 177
         },
         {
          "episodes": 1000,
          "runs": 178
         },
         {
          "episodes": 217,
          "runs": 179
         },
         {
          "episodes": 217,
          "runs": 180
         },
         {
          "episodes": 1000,
          "runs": 181
         },
         {
          "episodes": 1,
          "runs": 182
         },
         {
          "episodes": 1000,
          "runs": 183
         },
         {
          "episodes": 917,
          "runs": 184
         },
         {
          "episodes": 217,
          "runs": 185
         },
         {
          "episodes": 1000,
          "runs": 186
         },
         {
          "episodes": 241,
          "runs": 187
         },
         {
          "episodes": 219,
          "runs": 188
         },
         {
          "episodes": 1,
          "runs": 189
         },
         {
          "episodes": 217,
          "runs": 190
         },
         {
          "episodes": 225,
          "runs": 191
         },
         {
          "episodes": 224,
          "runs": 192
         },
         {
          "episodes": 1,
          "runs": 193
         },
         {
          "episodes": 912,
          "runs": 194
         },
         {
          "episodes": 908,
          "runs": 195
         },
         {
          "episodes": 1,
          "runs": 196
         },
         {
          "episodes": 945,
          "runs": 197
         },
         {
          "episodes": 217,
          "runs": 198
         },
         {
          "episodes": 217,
          "runs": 199
         },
         {
          "episodes": 1,
          "runs": 200
         },
         {
          "episodes": 1,
          "runs": 201
         },
         {
          "episodes": 1000,
          "runs": 202
         },
         {
          "episodes": 1,
          "runs": 203
         },
         {
          "episodes": 1000,
          "runs": 204
         },
         {
          "episodes": 764,
          "runs": 205
         },
         {
          "episodes": 219,
          "runs": 206
         },
         {
          "episodes": 230,
          "runs": 207
         },
         {
          "episodes": 231,
          "runs": 208
         },
         {
          "episodes": 230,
          "runs": 209
         },
         {
          "episodes": 1,
          "runs": 210
         },
         {
          "episodes": 216,
          "runs": 211
         },
         {
          "episodes": 217,
          "runs": 212
         },
         {
          "episodes": 1,
          "runs": 213
         },
         {
          "episodes": 217,
          "runs": 214
         },
         {
          "episodes": 1,
          "runs": 215
         },
         {
          "episodes": 229,
          "runs": 216
         },
         {
          "episodes": 217,
          "runs": 217
         },
         {
          "episodes": 1000,
          "runs": 218
         },
         {
          "episodes": 1,
          "runs": 219
         },
         {
          "episodes": 217,
          "runs": 220
         },
         {
          "episodes": 1,
          "runs": 221
         },
         {
          "episodes": 1,
          "runs": 222
         },
         {
          "episodes": 1,
          "runs": 223
         },
         {
          "episodes": 219,
          "runs": 224
         },
         {
          "episodes": 230,
          "runs": 225
         },
         {
          "episodes": 217,
          "runs": 226
         },
         {
          "episodes": 1,
          "runs": 227
         },
         {
          "episodes": 217,
          "runs": 228
         },
         {
          "episodes": 217,
          "runs": 229
         },
         {
          "episodes": 1,
          "runs": 230
         },
         {
          "episodes": 1,
          "runs": 231
         },
         {
          "episodes": 216,
          "runs": 232
         },
         {
          "episodes": 752,
          "runs": 233
         },
         {
          "episodes": 231,
          "runs": 234
         },
         {
          "episodes": 1,
          "runs": 235
         },
         {
          "episodes": 235,
          "runs": 236
         },
         {
          "episodes": 912,
          "runs": 237
         },
         {
          "episodes": 922,
          "runs": 238
         },
         {
          "episodes": 231,
          "runs": 239
         },
         {
          "episodes": 235,
          "runs": 240
         },
         {
          "episodes": 219,
          "runs": 241
         },
         {
          "episodes": 1000,
          "runs": 242
         },
         {
          "episodes": 927,
          "runs": 243
         },
         {
          "episodes": 217,
          "runs": 244
         },
         {
          "episodes": 1,
          "runs": 245
         },
         {
          "episodes": 230,
          "runs": 246
         },
         {
          "episodes": 219,
          "runs": 247
         },
         {
          "episodes": 1000,
          "runs": 248
         },
         {
          "episodes": 1,
          "runs": 249
         },
         {
          "episodes": 219,
          "runs": 250
         },
         {
          "episodes": 1,
          "runs": 251
         },
         {
          "episodes": 934,
          "runs": 252
         },
         {
          "episodes": 919,
          "runs": 253
         },
         {
          "episodes": 1,
          "runs": 254
         },
         {
          "episodes": 217,
          "runs": 255
         },
         {
          "episodes": 217,
          "runs": 256
         },
         {
          "episodes": 216,
          "runs": 257
         },
         {
          "episodes": 1,
          "runs": 258
         },
         {
          "episodes": 217,
          "runs": 259
         },
         {
          "episodes": 229,
          "runs": 260
         },
         {
          "episodes": 266,
          "runs": 261
         },
         {
          "episodes": 1,
          "runs": 262
         },
         {
          "episodes": 217,
          "runs": 263
         },
         {
          "episodes": 217,
          "runs": 264
         },
         {
          "episodes": 912,
          "runs": 265
         },
         {
          "episodes": 933,
          "runs": 266
         },
         {
          "episodes": 1,
          "runs": 267
         },
         {
          "episodes": 219,
          "runs": 268
         },
         {
          "episodes": 933,
          "runs": 269
         },
         {
          "episodes": 1000,
          "runs": 270
         },
         {
          "episodes": 1,
          "runs": 271
         },
         {
          "episodes": 924,
          "runs": 272
         },
         {
          "episodes": 1,
          "runs": 273
         },
         {
          "episodes": 217,
          "runs": 274
         },
         {
          "episodes": 928,
          "runs": 275
         },
         {
          "episodes": 1,
          "runs": 276
         },
         {
          "episodes": 912,
          "runs": 277
         },
         {
          "episodes": 1000,
          "runs": 278
         },
         {
          "episodes": 217,
          "runs": 279
         },
         {
          "episodes": 1,
          "runs": 280
         },
         {
          "episodes": 217,
          "runs": 281
         },
         {
          "episodes": 1,
          "runs": 282
         },
         {
          "episodes": 1,
          "runs": 283
         },
         {
          "episodes": 1,
          "runs": 284
         },
         {
          "episodes": 230,
          "runs": 285
         },
         {
          "episodes": 217,
          "runs": 286
         },
         {
          "episodes": 1,
          "runs": 287
         },
         {
          "episodes": 1,
          "runs": 288
         },
         {
          "episodes": 928,
          "runs": 289
         },
         {
          "episodes": 1,
          "runs": 290
         },
         {
          "episodes": 219,
          "runs": 291
         },
         {
          "episodes": 1000,
          "runs": 292
         },
         {
          "episodes": 1,
          "runs": 293
         },
         {
          "episodes": 216,
          "runs": 294
         },
         {
          "episodes": 935,
          "runs": 295
         },
         {
          "episodes": 235,
          "runs": 296
         },
         {
          "episodes": 232,
          "runs": 297
         },
         {
          "episodes": 1,
          "runs": 298
         },
         {
          "episodes": 1,
          "runs": 299
         },
         {
          "episodes": 229,
          "runs": 300
         },
         {
          "episodes": 1,
          "runs": 301
         },
         {
          "episodes": 1,
          "runs": 302
         },
         {
          "episodes": 217,
          "runs": 303
         },
         {
          "episodes": 225,
          "runs": 304
         },
         {
          "episodes": 232,
          "runs": 305
         },
         {
          "episodes": 217,
          "runs": 306
         },
         {
          "episodes": 928,
          "runs": 307
         },
         {
          "episodes": 912,
          "runs": 308
         },
         {
          "episodes": 1,
          "runs": 309
         },
         {
          "episodes": 217,
          "runs": 310
         },
         {
          "episodes": 764,
          "runs": 311
         },
         {
          "episodes": 216,
          "runs": 312
         },
         {
          "episodes": 1,
          "runs": 313
         },
         {
          "episodes": 229,
          "runs": 314
         },
         {
          "episodes": 229,
          "runs": 315
         },
         {
          "episodes": 241,
          "runs": 316
         },
         {
          "episodes": 232,
          "runs": 317
         },
         {
          "episodes": 217,
          "runs": 318
         },
         {
          "episodes": 1,
          "runs": 319
         },
         {
          "episodes": 216,
          "runs": 320
         },
         {
          "episodes": 216,
          "runs": 321
         },
         {
          "episodes": 217,
          "runs": 322
         },
         {
          "episodes": 1,
          "runs": 323
         },
         {
          "episodes": 217,
          "runs": 324
         },
         {
          "episodes": 1000,
          "runs": 325
         },
         {
          "episodes": 925,
          "runs": 326
         },
         {
          "episodes": 1000,
          "runs": 327
         },
         {
          "episodes": 217,
          "runs": 328
         },
         {
          "episodes": 230,
          "runs": 329
         },
         {
          "episodes": 230,
          "runs": 330
         },
         {
          "episodes": 894,
          "runs": 331
         },
         {
          "episodes": 912,
          "runs": 332
         },
         {
          "episodes": 1,
          "runs": 333
         },
         {
          "episodes": 1000,
          "runs": 334
         },
         {
          "episodes": 1,
          "runs": 335
         },
         {
          "episodes": 230,
          "runs": 336
         },
         {
          "episodes": 912,
          "runs": 337
         },
         {
          "episodes": 1,
          "runs": 338
         },
         {
          "episodes": 1,
          "runs": 339
         },
         {
          "episodes": 231,
          "runs": 340
         },
         {
          "episodes": 1,
          "runs": 341
         },
         {
          "episodes": 235,
          "runs": 342
         },
         {
          "episodes": 764,
          "runs": 343
         },
         {
          "episodes": 217,
          "runs": 344
         },
         {
          "episodes": 1000,
          "runs": 345
         },
         {
          "episodes": 231,
          "runs": 346
         },
         {
          "episodes": 1,
          "runs": 347
         },
         {
          "episodes": 1,
          "runs": 348
         },
         {
          "episodes": 230,
          "runs": 349
         },
         {
          "episodes": 1,
          "runs": 350
         },
         {
          "episodes": 951,
          "runs": 351
         },
         {
          "episodes": 217,
          "runs": 352
         },
         {
          "episodes": 217,
          "runs": 353
         },
         {
          "episodes": 217,
          "runs": 354
         },
         {
          "episodes": 1,
          "runs": 355
         },
         {
          "episodes": 1000,
          "runs": 356
         },
         {
          "episodes": 220,
          "runs": 357
         },
         {
          "episodes": 216,
          "runs": 358
         },
         {
          "episodes": 1,
          "runs": 359
         },
         {
          "episodes": 230,
          "runs": 360
         },
         {
          "episodes": 1000,
          "runs": 361
         },
         {
          "episodes": 1,
          "runs": 362
         },
         {
          "episodes": 1,
          "runs": 363
         },
         {
          "episodes": 217,
          "runs": 364
         },
         {
          "episodes": 224,
          "runs": 365
         },
         {
          "episodes": 1,
          "runs": 366
         },
         {
          "episodes": 1,
          "runs": 367
         },
         {
          "episodes": 225,
          "runs": 368
         },
         {
          "episodes": 217,
          "runs": 369
         },
         {
          "episodes": 217,
          "runs": 370
         },
         {
          "episodes": 217,
          "runs": 371
         },
         {
          "episodes": 217,
          "runs": 372
         },
         {
          "episodes": 1,
          "runs": 373
         },
         {
          "episodes": 928,
          "runs": 374
         },
         {
          "episodes": 217,
          "runs": 375
         },
         {
          "episodes": 217,
          "runs": 376
         },
         {
          "episodes": 216,
          "runs": 377
         },
         {
          "episodes": 1,
          "runs": 378
         },
         {
          "episodes": 933,
          "runs": 379
         },
         {
          "episodes": 1,
          "runs": 380
         },
         {
          "episodes": 1000,
          "runs": 381
         },
         {
          "episodes": 1,
          "runs": 382
         },
         {
          "episodes": 1,
          "runs": 383
         },
         {
          "episodes": 1000,
          "runs": 384
         },
         {
          "episodes": 217,
          "runs": 385
         },
         {
          "episodes": 1000,
          "runs": 386
         },
         {
          "episodes": 1000,
          "runs": 387
         },
         {
          "episodes": 1,
          "runs": 388
         },
         {
          "episodes": 216,
          "runs": 389
         },
         {
          "episodes": 1,
          "runs": 390
         },
         {
          "episodes": 231,
          "runs": 391
         },
         {
          "episodes": 217,
          "runs": 392
         },
         {
          "episodes": 1000,
          "runs": 393
         },
         {
          "episodes": 1,
          "runs": 394
         },
         {
          "episodes": 217,
          "runs": 395
         },
         {
          "episodes": 941,
          "runs": 396
         },
         {
          "episodes": 764,
          "runs": 397
         },
         {
          "episodes": 1000,
          "runs": 398
         },
         {
          "episodes": 933,
          "runs": 399
         },
         {
          "episodes": 217,
          "runs": 400
         },
         {
          "episodes": 941,
          "runs": 401
         },
         {
          "episodes": 222,
          "runs": 402
         },
         {
          "episodes": 233,
          "runs": 403
         },
         {
          "episodes": 1000,
          "runs": 404
         },
         {
          "episodes": 1,
          "runs": 405
         },
         {
          "episodes": 229,
          "runs": 406
         },
         {
          "episodes": 940,
          "runs": 407
         },
         {
          "episodes": 216,
          "runs": 408
         },
         {
          "episodes": 912,
          "runs": 409
         },
         {
          "episodes": 217,
          "runs": 410
         },
         {
          "episodes": 1,
          "runs": 411
         },
         {
          "episodes": 217,
          "runs": 412
         },
         {
          "episodes": 226,
          "runs": 413
         },
         {
          "episodes": 763,
          "runs": 414
         },
         {
          "episodes": 217,
          "runs": 415
         },
         {
          "episodes": 235,
          "runs": 416
         },
         {
          "episodes": 1,
          "runs": 417
         },
         {
          "episodes": 1,
          "runs": 418
         },
         {
          "episodes": 229,
          "runs": 419
         },
         {
          "episodes": 1,
          "runs": 420
         },
         {
          "episodes": 1,
          "runs": 421
         },
         {
          "episodes": 1,
          "runs": 422
         },
         {
          "episodes": 1000,
          "runs": 423
         },
         {
          "episodes": 217,
          "runs": 424
         },
         {
          "episodes": 1000,
          "runs": 425
         },
         {
          "episodes": 1,
          "runs": 426
         },
         {
          "episodes": 1,
          "runs": 427
         },
         {
          "episodes": 912,
          "runs": 428
         },
         {
          "episodes": 1000,
          "runs": 429
         },
         {
          "episodes": 1,
          "runs": 430
         },
         {
          "episodes": 219,
          "runs": 431
         },
         {
          "episodes": 217,
          "runs": 432
         },
         {
          "episodes": 1000,
          "runs": 433
         },
         {
          "episodes": 1,
          "runs": 434
         },
         {
          "episodes": 217,
          "runs": 435
         },
         {
          "episodes": 946,
          "runs": 436
         },
         {
          "episodes": 217,
          "runs": 437
         },
         {
          "episodes": 217,
          "runs": 438
         },
         {
          "episodes": 1000,
          "runs": 439
         },
         {
          "episodes": 1000,
          "runs": 440
         },
         {
          "episodes": 912,
          "runs": 441
         },
         {
          "episodes": 1000,
          "runs": 442
         },
         {
          "episodes": 216,
          "runs": 443
         },
         {
          "episodes": 216,
          "runs": 444
         },
         {
          "episodes": 1,
          "runs": 445
         },
         {
          "episodes": 939,
          "runs": 446
         },
         {
          "episodes": 1000,
          "runs": 447
         },
         {
          "episodes": 219,
          "runs": 448
         },
         {
          "episodes": 1,
          "runs": 449
         },
         {
          "episodes": 1,
          "runs": 450
         },
         {
          "episodes": 217,
          "runs": 451
         },
         {
          "episodes": 230,
          "runs": 452
         },
         {
          "episodes": 1,
          "runs": 453
         },
         {
          "episodes": 1,
          "runs": 454
         },
         {
          "episodes": 225,
          "runs": 455
         },
         {
          "episodes": 224,
          "runs": 456
         },
         {
          "episodes": 230,
          "runs": 457
         },
         {
          "episodes": 1000,
          "runs": 458
         },
         {
          "episodes": 230,
          "runs": 459
         },
         {
          "episodes": 1,
          "runs": 460
         },
         {
          "episodes": 235,
          "runs": 461
         },
         {
          "episodes": 217,
          "runs": 462
         },
         {
          "episodes": 928,
          "runs": 463
         },
         {
          "episodes": 911,
          "runs": 464
         },
         {
          "episodes": 764,
          "runs": 465
         },
         {
          "episodes": 217,
          "runs": 466
         },
         {
          "episodes": 217,
          "runs": 467
         },
         {
          "episodes": 1,
          "runs": 468
         },
         {
          "episodes": 942,
          "runs": 469
         },
         {
          "episodes": 1000,
          "runs": 470
         },
         {
          "episodes": 1,
          "runs": 471
         },
         {
          "episodes": 927,
          "runs": 472
         },
         {
          "episodes": 1,
          "runs": 473
         },
         {
          "episodes": 217,
          "runs": 474
         },
         {
          "episodes": 223,
          "runs": 475
         },
         {
          "episodes": 1,
          "runs": 476
         },
         {
          "episodes": 916,
          "runs": 477
         },
         {
          "episodes": 231,
          "runs": 478
         },
         {
          "episodes": 933,
          "runs": 479
         },
         {
          "episodes": 1,
          "runs": 480
         },
         {
          "episodes": 217,
          "runs": 481
         },
         {
          "episodes": 927,
          "runs": 482
         },
         {
          "episodes": 932,
          "runs": 483
         },
         {
          "episodes": 217,
          "runs": 484
         },
         {
          "episodes": 764,
          "runs": 485
         },
         {
          "episodes": 915,
          "runs": 486
         },
         {
          "episodes": 217,
          "runs": 487
         },
         {
          "episodes": 1,
          "runs": 488
         },
         {
          "episodes": 912,
          "runs": 489
         },
         {
          "episodes": 928,
          "runs": 490
         },
         {
          "episodes": 1,
          "runs": 491
         },
         {
          "episodes": 1,
          "runs": 492
         },
         {
          "episodes": 915,
          "runs": 493
         },
         {
          "episodes": 216,
          "runs": 494
         },
         {
          "episodes": 217,
          "runs": 495
         },
         {
          "episodes": 1,
          "runs": 496
         },
         {
          "episodes": 907,
          "runs": 497
         },
         {
          "episodes": 1,
          "runs": 498
         },
         {
          "episodes": 1,
          "runs": 499
         },
         {
          "episodes": 1,
          "runs": 500
         },
         {
          "episodes": 763,
          "runs": 501
         },
         {
          "episodes": 241,
          "runs": 502
         },
         {
          "episodes": 941,
          "runs": 503
         },
         {
          "episodes": 1,
          "runs": 504
         },
         {
          "episodes": 230,
          "runs": 505
         },
         {
          "episodes": 230,
          "runs": 506
         },
         {
          "episodes": 1,
          "runs": 507
         },
         {
          "episodes": 1,
          "runs": 508
         },
         {
          "episodes": 217,
          "runs": 509
         },
         {
          "episodes": 1,
          "runs": 510
         },
         {
          "episodes": 912,
          "runs": 511
         },
         {
          "episodes": 925,
          "runs": 512
         },
         {
          "episodes": 224,
          "runs": 513
         },
         {
          "episodes": 230,
          "runs": 514
         },
         {
          "episodes": 1000,
          "runs": 515
         },
         {
          "episodes": 1000,
          "runs": 516
         },
         {
          "episodes": 1000,
          "runs": 517
         },
         {
          "episodes": 1,
          "runs": 518
         },
         {
          "episodes": 1,
          "runs": 519
         },
         {
          "episodes": 216,
          "runs": 520
         },
         {
          "episodes": 217,
          "runs": 521
         },
         {
          "episodes": 216,
          "runs": 522
         },
         {
          "episodes": 217,
          "runs": 523
         },
         {
          "episodes": 953,
          "runs": 524
         },
         {
          "episodes": 927,
          "runs": 525
         },
         {
          "episodes": 235,
          "runs": 526
         },
         {
          "episodes": 223,
          "runs": 527
         },
         {
          "episodes": 217,
          "runs": 528
         },
         {
          "episodes": 230,
          "runs": 529
         },
         {
          "episodes": 217,
          "runs": 530
         },
         {
          "episodes": 942,
          "runs": 531
         },
         {
          "episodes": 229,
          "runs": 532
         },
         {
          "episodes": 1000,
          "runs": 533
         },
         {
          "episodes": 926,
          "runs": 534
         },
         {
          "episodes": 217,
          "runs": 535
         },
         {
          "episodes": 912,
          "runs": 536
         },
         {
          "episodes": 1000,
          "runs": 537
         },
         {
          "episodes": 1000,
          "runs": 538
         },
         {
          "episodes": 1,
          "runs": 539
         },
         {
          "episodes": 915,
          "runs": 540
         },
         {
          "episodes": 1,
          "runs": 541
         },
         {
          "episodes": 230,
          "runs": 542
         },
         {
          "episodes": 216,
          "runs": 543
         },
         {
          "episodes": 216,
          "runs": 544
         },
         {
          "episodes": 231,
          "runs": 545
         },
         {
          "episodes": 230,
          "runs": 546
         },
         {
          "episodes": 1,
          "runs": 547
         },
         {
          "episodes": 1,
          "runs": 548
         },
         {
          "episodes": 223,
          "runs": 549
         },
         {
          "episodes": 217,
          "runs": 550
         },
         {
          "episodes": 935,
          "runs": 551
         },
         {
          "episodes": 1000,
          "runs": 552
         },
         {
          "episodes": 217,
          "runs": 553
         },
         {
          "episodes": 1,
          "runs": 554
         },
         {
          "episodes": 917,
          "runs": 555
         },
         {
          "episodes": 226,
          "runs": 556
         },
         {
          "episodes": 1000,
          "runs": 557
         },
         {
          "episodes": 1,
          "runs": 558
         },
         {
          "episodes": 1000,
          "runs": 559
         },
         {
          "episodes": 217,
          "runs": 560
         },
         {
          "episodes": 1,
          "runs": 561
         },
         {
          "episodes": 216,
          "runs": 562
         },
         {
          "episodes": 230,
          "runs": 563
         },
         {
          "episodes": 1,
          "runs": 564
         },
         {
          "episodes": 217,
          "runs": 565
         },
         {
          "episodes": 912,
          "runs": 566
         },
         {
          "episodes": 1,
          "runs": 567
         },
         {
          "episodes": 230,
          "runs": 568
         },
         {
          "episodes": 1,
          "runs": 569
         },
         {
          "episodes": 217,
          "runs": 570
         },
         {
          "episodes": 217,
          "runs": 571
         },
         {
          "episodes": 217,
          "runs": 572
         },
         {
          "episodes": 1,
          "runs": 573
         },
         {
          "episodes": 219,
          "runs": 574
         },
         {
          "episodes": 219,
          "runs": 575
         },
         {
          "episodes": 1,
          "runs": 576
         },
         {
          "episodes": 1,
          "runs": 577
         },
         {
          "episodes": 223,
          "runs": 578
         },
         {
          "episodes": 217,
          "runs": 579
         },
         {
          "episodes": 216,
          "runs": 580
         },
         {
          "episodes": 1,
          "runs": 581
         },
         {
          "episodes": 230,
          "runs": 582
         },
         {
          "episodes": 216,
          "runs": 583
         },
         {
          "episodes": 1,
          "runs": 584
         },
         {
          "episodes": 1,
          "runs": 585
         },
         {
          "episodes": 216,
          "runs": 586
         },
         {
          "episodes": 230,
          "runs": 587
         },
         {
          "episodes": 217,
          "runs": 588
         },
         {
          "episodes": 223,
          "runs": 589
         },
         {
          "episodes": 217,
          "runs": 590
         },
         {
          "episodes": 1,
          "runs": 591
         },
         {
          "episodes": 925,
          "runs": 592
         },
         {
          "episodes": 1,
          "runs": 593
         },
         {
          "episodes": 217,
          "runs": 594
         },
         {
          "episodes": 217,
          "runs": 595
         },
         {
          "episodes": 1,
          "runs": 596
         },
         {
          "episodes": 1000,
          "runs": 597
         },
         {
          "episodes": 229,
          "runs": 598
         },
         {
          "episodes": 912,
          "runs": 599
         },
         {
          "episodes": 216,
          "runs": 600
         },
         {
          "episodes": 217,
          "runs": 601
         },
         {
          "episodes": 1,
          "runs": 602
         },
         {
          "episodes": 230,
          "runs": 603
         },
         {
          "episodes": 217,
          "runs": 604
         },
         {
          "episodes": 223,
          "runs": 605
         },
         {
          "episodes": 912,
          "runs": 606
         },
         {
          "episodes": 1,
          "runs": 607
         },
         {
          "episodes": 1,
          "runs": 608
         },
         {
          "episodes": 1,
          "runs": 609
         },
         {
          "episodes": 1,
          "runs": 610
         },
         {
          "episodes": 755,
          "runs": 611
         },
         {
          "episodes": 1000,
          "runs": 612
         },
         {
          "episodes": 912,
          "runs": 613
         },
         {
          "episodes": 1,
          "runs": 614
         },
         {
          "episodes": 941,
          "runs": 615
         },
         {
          "episodes": 1000,
          "runs": 616
         },
         {
          "episodes": 217,
          "runs": 617
         },
         {
          "episodes": 1,
          "runs": 618
         },
         {
          "episodes": 227,
          "runs": 619
         },
         {
          "episodes": 1000,
          "runs": 620
         },
         {
          "episodes": 917,
          "runs": 621
         },
         {
          "episodes": 1,
          "runs": 622
         },
         {
          "episodes": 230,
          "runs": 623
         },
         {
          "episodes": 219,
          "runs": 624
         },
         {
          "episodes": 217,
          "runs": 625
         },
         {
          "episodes": 217,
          "runs": 626
         },
         {
          "episodes": 1000,
          "runs": 627
         },
         {
          "episodes": 232,
          "runs": 628
         },
         {
          "episodes": 229,
          "runs": 629
         },
         {
          "episodes": 229,
          "runs": 630
         },
         {
          "episodes": 230,
          "runs": 631
         },
         {
          "episodes": 1000,
          "runs": 632
         },
         {
          "episodes": 219,
          "runs": 633
         },
         {
          "episodes": 230,
          "runs": 634
         },
         {
          "episodes": 219,
          "runs": 635
         },
         {
          "episodes": 1000,
          "runs": 636
         },
         {
          "episodes": 217,
          "runs": 637
         },
         {
          "episodes": 217,
          "runs": 638
         },
         {
          "episodes": 223,
          "runs": 639
         },
         {
          "episodes": 1,
          "runs": 640
         },
         {
          "episodes": 230,
          "runs": 641
         },
         {
          "episodes": 217,
          "runs": 642
         },
         {
          "episodes": 229,
          "runs": 643
         },
         {
          "episodes": 1,
          "runs": 644
         },
         {
          "episodes": 230,
          "runs": 645
         },
         {
          "episodes": 219,
          "runs": 646
         },
         {
          "episodes": 226,
          "runs": 647
         },
         {
          "episodes": 1,
          "runs": 648
         },
         {
          "episodes": 1,
          "runs": 649
         },
         {
          "episodes": 231,
          "runs": 650
         },
         {
          "episodes": 941,
          "runs": 651
         },
         {
          "episodes": 916,
          "runs": 652
         },
         {
          "episodes": 1000,
          "runs": 653
         },
         {
          "episodes": 1,
          "runs": 654
         },
         {
          "episodes": 1,
          "runs": 655
         },
         {
          "episodes": 914,
          "runs": 656
         },
         {
          "episodes": 230,
          "runs": 657
         },
         {
          "episodes": 763,
          "runs": 658
         },
         {
          "episodes": 1000,
          "runs": 659
         },
         {
          "episodes": 919,
          "runs": 660
         },
         {
          "episodes": 1,
          "runs": 661
         },
         {
          "episodes": 216,
          "runs": 662
         },
         {
          "episodes": 1,
          "runs": 663
         },
         {
          "episodes": 934,
          "runs": 664
         },
         {
          "episodes": 217,
          "runs": 665
         },
         {
          "episodes": 229,
          "runs": 666
         },
         {
          "episodes": 1,
          "runs": 667
         },
         {
          "episodes": 217,
          "runs": 668
         },
         {
          "episodes": 217,
          "runs": 669
         },
         {
          "episodes": 1000,
          "runs": 670
         },
         {
          "episodes": 1,
          "runs": 671
         },
         {
          "episodes": 1,
          "runs": 672
         },
         {
          "episodes": 217,
          "runs": 673
         },
         {
          "episodes": 217,
          "runs": 674
         },
         {
          "episodes": 217,
          "runs": 675
         },
         {
          "episodes": 953,
          "runs": 676
         },
         {
          "episodes": 1,
          "runs": 677
         },
         {
          "episodes": 942,
          "runs": 678
         },
         {
          "episodes": 1,
          "runs": 679
         },
         {
          "episodes": 1,
          "runs": 680
         },
         {
          "episodes": 1,
          "runs": 681
         },
         {
          "episodes": 230,
          "runs": 682
         },
         {
          "episodes": 1000,
          "runs": 683
         },
         {
          "episodes": 217,
          "runs": 684
         },
         {
          "episodes": 1000,
          "runs": 685
         },
         {
          "episodes": 230,
          "runs": 686
         },
         {
          "episodes": 1000,
          "runs": 687
         },
         {
          "episodes": 1,
          "runs": 688
         },
         {
          "episodes": 1,
          "runs": 689
         },
         {
          "episodes": 223,
          "runs": 690
         },
         {
          "episodes": 1000,
          "runs": 691
         },
         {
          "episodes": 933,
          "runs": 692
         },
         {
          "episodes": 1000,
          "runs": 693
         },
         {
          "episodes": 223,
          "runs": 694
         },
         {
          "episodes": 230,
          "runs": 695
         },
         {
          "episodes": 229,
          "runs": 696
         },
         {
          "episodes": 1,
          "runs": 697
         },
         {
          "episodes": 1000,
          "runs": 698
         },
         {
          "episodes": 925,
          "runs": 699
         },
         {
          "episodes": 1,
          "runs": 700
         },
         {
          "episodes": 232,
          "runs": 701
         },
         {
          "episodes": 230,
          "runs": 702
         },
         {
          "episodes": 231,
          "runs": 703
         },
         {
          "episodes": 1,
          "runs": 704
         },
         {
          "episodes": 217,
          "runs": 705
         },
         {
          "episodes": 1,
          "runs": 706
         },
         {
          "episodes": 955,
          "runs": 707
         },
         {
          "episodes": 217,
          "runs": 708
         },
         {
          "episodes": 1000,
          "runs": 709
         },
         {
          "episodes": 1,
          "runs": 710
         },
         {
          "episodes": 230,
          "runs": 711
         },
         {
          "episodes": 1000,
          "runs": 712
         },
         {
          "episodes": 241,
          "runs": 713
         },
         {
          "episodes": 1,
          "runs": 714
         },
         {
          "episodes": 1,
          "runs": 715
         },
         {
          "episodes": 217,
          "runs": 716
         },
         {
          "episodes": 940,
          "runs": 717
         },
         {
          "episodes": 217,
          "runs": 718
         },
         {
          "episodes": 927,
          "runs": 719
         },
         {
          "episodes": 232,
          "runs": 720
         },
         {
          "episodes": 217,
          "runs": 721
         },
         {
          "episodes": 928,
          "runs": 722
         },
         {
          "episodes": 1000,
          "runs": 723
         },
         {
          "episodes": 1000,
          "runs": 724
         },
         {
          "episodes": 222,
          "runs": 725
         },
         {
          "episodes": 1000,
          "runs": 726
         },
         {
          "episodes": 1,
          "runs": 727
         },
         {
          "episodes": 216,
          "runs": 728
         },
         {
          "episodes": 1000,
          "runs": 729
         },
         {
          "episodes": 1,
          "runs": 730
         },
         {
          "episodes": 1,
          "runs": 731
         },
         {
          "episodes": 1,
          "runs": 732
         },
         {
          "episodes": 1,
          "runs": 733
         },
         {
          "episodes": 1000,
          "runs": 734
         },
         {
          "episodes": 216,
          "runs": 735
         },
         {
          "episodes": 1,
          "runs": 736
         },
         {
          "episodes": 941,
          "runs": 737
         },
         {
          "episodes": 1000,
          "runs": 738
         },
         {
          "episodes": 1,
          "runs": 739
         },
         {
          "episodes": 217,
          "runs": 740
         },
         {
          "episodes": 217,
          "runs": 741
         },
         {
          "episodes": 1000,
          "runs": 742
         },
         {
          "episodes": 230,
          "runs": 743
         },
         {
          "episodes": 927,
          "runs": 744
         },
         {
          "episodes": 1000,
          "runs": 745
         },
         {
          "episodes": 230,
          "runs": 746
         },
         {
          "episodes": 229,
          "runs": 747
         },
         {
          "episodes": 229,
          "runs": 748
         },
         {
          "episodes": 231,
          "runs": 749
         },
         {
          "episodes": 231,
          "runs": 750
         },
         {
          "episodes": 1,
          "runs": 751
         },
         {
          "episodes": 912,
          "runs": 752
         },
         {
          "episodes": 1,
          "runs": 753
         },
         {
          "episodes": 217,
          "runs": 754
         },
         {
          "episodes": 1000,
          "runs": 755
         },
         {
          "episodes": 922,
          "runs": 756
         },
         {
          "episodes": 220,
          "runs": 757
         },
         {
          "episodes": 216,
          "runs": 758
         },
         {
          "episodes": 1000,
          "runs": 759
         },
         {
          "episodes": 1000,
          "runs": 760
         },
         {
          "episodes": 223,
          "runs": 761
         },
         {
          "episodes": 230,
          "runs": 762
         },
         {
          "episodes": 927,
          "runs": 763
         },
         {
          "episodes": 1,
          "runs": 764
         },
         {
          "episodes": 1,
          "runs": 765
         },
         {
          "episodes": 1,
          "runs": 766
         },
         {
          "episodes": 229,
          "runs": 767
         },
         {
          "episodes": 956,
          "runs": 768
         },
         {
          "episodes": 219,
          "runs": 769
         },
         {
          "episodes": 228,
          "runs": 770
         },
         {
          "episodes": 217,
          "runs": 771
         },
         {
          "episodes": 1000,
          "runs": 772
         },
         {
          "episodes": 241,
          "runs": 773
         },
         {
          "episodes": 217,
          "runs": 774
         },
         {
          "episodes": 223,
          "runs": 775
         },
         {
          "episodes": 217,
          "runs": 776
         },
         {
          "episodes": 1,
          "runs": 777
         },
         {
          "episodes": 224,
          "runs": 778
         },
         {
          "episodes": 1000,
          "runs": 779
         },
         {
          "episodes": 217,
          "runs": 780
         },
         {
          "episodes": 1,
          "runs": 781
         },
         {
          "episodes": 908,
          "runs": 782
         },
         {
          "episodes": 912,
          "runs": 783
         },
         {
          "episodes": 217,
          "runs": 784
         },
         {
          "episodes": 1,
          "runs": 785
         },
         {
          "episodes": 1,
          "runs": 786
         },
         {
          "episodes": 1,
          "runs": 787
         },
         {
          "episodes": 217,
          "runs": 788
         },
         {
          "episodes": 1,
          "runs": 789
         },
         {
          "episodes": 932,
          "runs": 790
         },
         {
          "episodes": 217,
          "runs": 791
         },
         {
          "episodes": 230,
          "runs": 792
         },
         {
          "episodes": 216,
          "runs": 793
         },
         {
          "episodes": 217,
          "runs": 794
         },
         {
          "episodes": 229,
          "runs": 795
         },
         {
          "episodes": 230,
          "runs": 796
         },
         {
          "episodes": 917,
          "runs": 797
         },
         {
          "episodes": 217,
          "runs": 798
         },
         {
          "episodes": 1,
          "runs": 799
         },
         {
          "episodes": 947,
          "runs": 800
         },
         {
          "episodes": 1,
          "runs": 801
         },
         {
          "episodes": 225,
          "runs": 802
         },
         {
          "episodes": 1,
          "runs": 803
         },
         {
          "episodes": 917,
          "runs": 804
         },
         {
          "episodes": 217,
          "runs": 805
         },
         {
          "episodes": 230,
          "runs": 806
         },
         {
          "episodes": 219,
          "runs": 807
         },
         {
          "episodes": 1000,
          "runs": 808
         },
         {
          "episodes": 216,
          "runs": 809
         },
         {
          "episodes": 231,
          "runs": 810
         },
         {
          "episodes": 1,
          "runs": 811
         },
         {
          "episodes": 1000,
          "runs": 812
         },
         {
          "episodes": 1,
          "runs": 813
         },
         {
          "episodes": 911,
          "runs": 814
         },
         {
          "episodes": 217,
          "runs": 815
         },
         {
          "episodes": 1,
          "runs": 816
         },
         {
          "episodes": 235,
          "runs": 817
         },
         {
          "episodes": 1,
          "runs": 818
         },
         {
          "episodes": 1,
          "runs": 819
         },
         {
          "episodes": 217,
          "runs": 820
         },
         {
          "episodes": 217,
          "runs": 821
         },
         {
          "episodes": 1,
          "runs": 822
         },
         {
          "episodes": 924,
          "runs": 823
         },
         {
          "episodes": 1000,
          "runs": 824
         },
         {
          "episodes": 764,
          "runs": 825
         },
         {
          "episodes": 1,
          "runs": 826
         },
         {
          "episodes": 230,
          "runs": 827
         },
         {
          "episodes": 1,
          "runs": 828
         },
         {
          "episodes": 932,
          "runs": 829
         },
         {
          "episodes": 1,
          "runs": 830
         },
         {
          "episodes": 1,
          "runs": 831
         },
         {
          "episodes": 217,
          "runs": 832
         },
         {
          "episodes": 924,
          "runs": 833
         },
         {
          "episodes": 1,
          "runs": 834
         },
         {
          "episodes": 228,
          "runs": 835
         },
         {
          "episodes": 1,
          "runs": 836
         },
         {
          "episodes": 1,
          "runs": 837
         },
         {
          "episodes": 1,
          "runs": 838
         },
         {
          "episodes": 354,
          "runs": 839
         },
         {
          "episodes": 230,
          "runs": 840
         },
         {
          "episodes": 1000,
          "runs": 841
         },
         {
          "episodes": 1,
          "runs": 842
         },
         {
          "episodes": 924,
          "runs": 843
         },
         {
          "episodes": 1000,
          "runs": 844
         },
         {
          "episodes": 226,
          "runs": 845
         },
         {
          "episodes": 1,
          "runs": 846
         },
         {
          "episodes": 230,
          "runs": 847
         },
         {
          "episodes": 230,
          "runs": 848
         },
         {
          "episodes": 1,
          "runs": 849
         },
         {
          "episodes": 1000,
          "runs": 850
         },
         {
          "episodes": 229,
          "runs": 851
         },
         {
          "episodes": 912,
          "runs": 852
         },
         {
          "episodes": 217,
          "runs": 853
         },
         {
          "episodes": 217,
          "runs": 854
         },
         {
          "episodes": 1000,
          "runs": 855
         },
         {
          "episodes": 930,
          "runs": 856
         },
         {
          "episodes": 230,
          "runs": 857
         },
         {
          "episodes": 954,
          "runs": 858
         },
         {
          "episodes": 230,
          "runs": 859
         },
         {
          "episodes": 216,
          "runs": 860
         },
         {
          "episodes": 942,
          "runs": 861
         },
         {
          "episodes": 230,
          "runs": 862
         },
         {
          "episodes": 1000,
          "runs": 863
         },
         {
          "episodes": 1000,
          "runs": 864
         },
         {
          "episodes": 1,
          "runs": 865
         },
         {
          "episodes": 217,
          "runs": 866
         },
         {
          "episodes": 358,
          "runs": 867
         },
         {
          "episodes": 1,
          "runs": 868
         },
         {
          "episodes": 216,
          "runs": 869
         },
         {
          "episodes": 217,
          "runs": 870
         },
         {
          "episodes": 894,
          "runs": 871
         },
         {
          "episodes": 1000,
          "runs": 872
         },
         {
          "episodes": 1,
          "runs": 873
         },
         {
          "episodes": 230,
          "runs": 874
         },
         {
          "episodes": 925,
          "runs": 875
         },
         {
          "episodes": 222,
          "runs": 876
         },
         {
          "episodes": 230,
          "runs": 877
         },
         {
          "episodes": 1,
          "runs": 878
         },
         {
          "episodes": 1000,
          "runs": 879
         },
         {
          "episodes": 912,
          "runs": 880
         },
         {
          "episodes": 232,
          "runs": 881
         },
         {
          "episodes": 911,
          "runs": 882
         },
         {
          "episodes": 219,
          "runs": 883
         },
         {
          "episodes": 1000,
          "runs": 884
         },
         {
          "episodes": 217,
          "runs": 885
         },
         {
          "episodes": 229,
          "runs": 886
         },
         {
          "episodes": 217,
          "runs": 887
         },
         {
          "episodes": 217,
          "runs": 888
         },
         {
          "episodes": 933,
          "runs": 889
         },
         {
          "episodes": 1000,
          "runs": 890
         },
         {
          "episodes": 1,
          "runs": 891
         },
         {
          "episodes": 933,
          "runs": 892
         },
         {
          "episodes": 1000,
          "runs": 893
         },
         {
          "episodes": 912,
          "runs": 894
         },
         {
          "episodes": 1,
          "runs": 895
         },
         {
          "episodes": 934,
          "runs": 896
         },
         {
          "episodes": 1000,
          "runs": 897
         },
         {
          "episodes": 942,
          "runs": 898
         },
         {
          "episodes": 1,
          "runs": 899
         },
         {
          "episodes": 1000,
          "runs": 900
         },
         {
          "episodes": 1,
          "runs": 901
         },
         {
          "episodes": 223,
          "runs": 902
         },
         {
          "episodes": 217,
          "runs": 903
         },
         {
          "episodes": 1,
          "runs": 904
         },
         {
          "episodes": 1000,
          "runs": 905
         },
         {
          "episodes": 217,
          "runs": 906
         },
         {
          "episodes": 1,
          "runs": 907
         },
         {
          "episodes": 930,
          "runs": 908
         },
         {
          "episodes": 915,
          "runs": 909
         },
         {
          "episodes": 1,
          "runs": 910
         },
         {
          "episodes": 1000,
          "runs": 911
         },
         {
          "episodes": 230,
          "runs": 912
         },
         {
          "episodes": 924,
          "runs": 913
         },
         {
          "episodes": 912,
          "runs": 914
         },
         {
          "episodes": 230,
          "runs": 915
         },
         {
          "episodes": 1,
          "runs": 916
         },
         {
          "episodes": 1,
          "runs": 917
         },
         {
          "episodes": 1,
          "runs": 918
         },
         {
          "episodes": 217,
          "runs": 919
         },
         {
          "episodes": 935,
          "runs": 920
         },
         {
          "episodes": 1000,
          "runs": 921
         },
         {
          "episodes": 217,
          "runs": 922
         },
         {
          "episodes": 918,
          "runs": 923
         },
         {
          "episodes": 1,
          "runs": 924
         },
         {
          "episodes": 229,
          "runs": 925
         },
         {
          "episodes": 1000,
          "runs": 926
         },
         {
          "episodes": 1,
          "runs": 927
         },
         {
          "episodes": 230,
          "runs": 928
         },
         {
          "episodes": 216,
          "runs": 929
         },
         {
          "episodes": 1000,
          "runs": 930
         },
         {
          "episodes": 1000,
          "runs": 931
         },
         {
          "episodes": 217,
          "runs": 932
         },
         {
          "episodes": 1,
          "runs": 933
         },
         {
          "episodes": 229,
          "runs": 934
         },
         {
          "episodes": 1,
          "runs": 935
         },
         {
          "episodes": 230,
          "runs": 936
         },
         {
          "episodes": 217,
          "runs": 937
         },
         {
          "episodes": 241,
          "runs": 938
         },
         {
          "episodes": 927,
          "runs": 939
         },
         {
          "episodes": 217,
          "runs": 940
         },
         {
          "episodes": 1,
          "runs": 941
         },
         {
          "episodes": 217,
          "runs": 942
         },
         {
          "episodes": 219,
          "runs": 943
         },
         {
          "episodes": 266,
          "runs": 944
         },
         {
          "episodes": 229,
          "runs": 945
         },
         {
          "episodes": 1000,
          "runs": 946
         },
         {
          "episodes": 229,
          "runs": 947
         },
         {
          "episodes": 229,
          "runs": 948
         },
         {
          "episodes": 1,
          "runs": 949
         },
         {
          "episodes": 1,
          "runs": 950
         },
         {
          "episodes": 1000,
          "runs": 951
         },
         {
          "episodes": 223,
          "runs": 952
         },
         {
          "episodes": 217,
          "runs": 953
         },
         {
          "episodes": 1000,
          "runs": 954
         },
         {
          "episodes": 240,
          "runs": 955
         },
         {
          "episodes": 1,
          "runs": 956
         },
         {
          "episodes": 918,
          "runs": 957
         },
         {
          "episodes": 753,
          "runs": 958
         },
         {
          "episodes": 216,
          "runs": 959
         },
         {
          "episodes": 1,
          "runs": 960
         },
         {
          "episodes": 216,
          "runs": 961
         },
         {
          "episodes": 1,
          "runs": 962
         },
         {
          "episodes": 939,
          "runs": 963
         },
         {
          "episodes": 1000,
          "runs": 964
         },
         {
          "episodes": 216,
          "runs": 965
         },
         {
          "episodes": 216,
          "runs": 966
         },
         {
          "episodes": 1,
          "runs": 967
         },
         {
          "episodes": 1,
          "runs": 968
         },
         {
          "episodes": 216,
          "runs": 969
         },
         {
          "episodes": 1,
          "runs": 970
         },
         {
          "episodes": 217,
          "runs": 971
         },
         {
          "episodes": 1,
          "runs": 972
         },
         {
          "episodes": 1,
          "runs": 973
         },
         {
          "episodes": 217,
          "runs": 974
         },
         {
          "episodes": 911,
          "runs": 975
         },
         {
          "episodes": 217,
          "runs": 976
         },
         {
          "episodes": 223,
          "runs": 977
         },
         {
          "episodes": 217,
          "runs": 978
         },
         {
          "episodes": 912,
          "runs": 979
         },
         {
          "episodes": 1,
          "runs": 980
         },
         {
          "episodes": 216,
          "runs": 981
         },
         {
          "episodes": 1,
          "runs": 982
         },
         {
          "episodes": 1,
          "runs": 983
         },
         {
          "episodes": 1,
          "runs": 984
         },
         {
          "episodes": 1000,
          "runs": 985
         },
         {
          "episodes": 1,
          "runs": 986
         },
         {
          "episodes": 217,
          "runs": 987
         },
         {
          "episodes": 1000,
          "runs": 988
         },
         {
          "episodes": 933,
          "runs": 989
         },
         {
          "episodes": 216,
          "runs": 990
         },
         {
          "episodes": 216,
          "runs": 991
         },
         {
          "episodes": 217,
          "runs": 992
         },
         {
          "episodes": 1,
          "runs": 993
         },
         {
          "episodes": 1,
          "runs": 994
         },
         {
          "episodes": 217,
          "runs": 995
         },
         {
          "episodes": 1000,
          "runs": 996
         },
         {
          "episodes": 1,
          "runs": 997
         },
         {
          "episodes": 1,
          "runs": 998
         },
         {
          "episodes": 216,
          "runs": 999
         }
        ]
       },
       "layer": [
        {
         "data": {
          "name": "data-43e1b045aa0a58d1fc4883435a66c069"
         },
         "encoding": {
          "x": {
           "bin": true,
           "field": "episodes",
           "title": "Binned Episodes",
           "type": "quantitative"
          },
          "y": {
           "aggregate": "count",
           "field": "episodes",
           "type": "quantitative"
          }
         },
         "mark": "bar",
         "title": "Simulated annealing(runs=1000)"
        },
        {
         "data": {
          "name": "data-43e1b045aa0a58d1fc4883435a66c069"
         },
         "encoding": {
          "size": {
           "value": 3
          },
          "x": {
           "aggregate": "mean",
           "field": "episodes",
           "type": "quantitative"
          }
         },
         "mark": {
          "color": "red",
          "type": "rule"
         }
        }
       ]
      },
      "image/png": "[encoded data removed]",
      "text/plain": [
       "<VegaLite 2 object>\n",
       "\n",
       "If you see this message, it means the renderer has not been properly enabled\n",
       "for the frontend that you are using. For more information, see\n",
       "https://altair-viz.github.io/user_guide/troubleshooting.html\n"
      ]
     },
     "execution_count": 41,
     "metadata": {},
     "output_type": "execute_result"
    }
   ],
   "source": [
    "chart, anneal_df = plot(data_dir, 'anneal', altair=True, title=\"Simulated annealing(runs=1000)\")\n",
    "chart"
   ]
  },
  {
   "cell_type": "markdown",
   "metadata": {},
   "source": [
    "# Adaptive noise scaling"
   ]
  },
  {
   "cell_type": "code",
   "execution_count": 38,
   "metadata": {},
   "outputs": [
    {
     "name": "stdout",
     "output_type": "stream",
     "text": [
      "using pickle path: ../src/runs//ada/20181018184103/data.pkl\n",
      "              runs    episodes\n",
      "count  1000.000000  1000.00000\n",
      "mean    499.500000   346.61200\n",
      "std     288.819436   422.69157\n",
      "min       0.000000     1.00000\n",
      "25%     249.750000     1.00000\n",
      "50%     499.500000   118.00000\n",
      "75%     749.250000  1000.00000\n",
      "max     999.000000  1000.00000\n"
     ]
    },
    {
     "data": {
      "text/plain": [
       "<matplotlib.axes._subplots.AxesSubplot at 0x7f1d87ec4f28>"
      ]
     },
     "execution_count": 38,
     "metadata": {},
     "output_type": "execute_result"
    },
    {
     "data": {
      "image/png": "[encoded data removed]",
      "text/plain": [
       "<Figure size 432x288 with 1 Axes>"
      ]
     },
     "metadata": {
      "needs_background": "light"
     },
     "output_type": "display_data"
    }
   ],
   "source": [
    "chart, ada_df = plot(data_dir, 'ada')\n",
    "chart"
   ]
  },
  {
   "cell_type": "code",
   "execution_count": 40,
   "metadata": {},
   "outputs": [
    {
     "name": "stdout",
     "output_type": "stream",
     "text": [
      "using pickle path: ../src/runs//ada/20181018184103/data.pkl\n",
      "              runs    episodes\n",
      "count  1000.000000  1000.00000\n",
      "mean    499.500000   346.61200\n",
      "std     288.819436   422.69157\n",
      "min       0.000000     1.00000\n",
      "25%     249.750000     1.00000\n",
      "50%     499.500000   118.00000\n",
      "75%     749.250000  1000.00000\n",
      "max     999.000000  1000.00000\n"
     ]
    },
    {
     "data": {
      "application/vnd.vegalite.v2+json": {
       "$schema": "https://vega.github.io/schema/vega-lite/v2.6.0.json",
       "config": {
        "view": {
         "height": 300,
         "width": 400
        }
       },
       "datasets": {
        "data-eb0d2e121c530ca96ff3e9b07c4a7607": [
         {
          "episodes": 190,
          "runs": 0
         },
         {
          "episodes": 1000,
          "runs": 1
         },
         {
          "episodes": 118,
          "runs": 2
         },
         {
          "episodes": 140,
          "runs": 3
         },
         {
          "episodes": 1,
          "runs": 4
         },
         {
          "episodes": 1,
          "runs": 5
         },
         {
          "episodes": 118,
          "runs": 6
         },
         {
          "episodes": 1000,
          "runs": 7
         },
         {
          "episodes": 1000,
          "runs": 8
         },
         {
          "episodes": 1,
          "runs": 9
         },
         {
          "episodes": 118,
          "runs": 10
         },
         {
          "episodes": 118,
          "runs": 11
         },
         {
          "episodes": 1000,
          "runs": 12
         },
         {
          "episodes": 1,
          "runs": 13
         },
         {
          "episodes": 790,
          "runs": 14
         },
         {
          "episodes": 1,
          "runs": 15
         },
         {
          "episodes": 1,
          "runs": 16
         },
         {
          "episodes": 1,
          "runs": 17
         },
         {
          "episodes": 1,
          "runs": 18
         },
         {
          "episodes": 1,
          "runs": 19
         },
         {
          "episodes": 118,
          "runs": 20
         },
         {
          "episodes": 1,
          "runs": 21
         },
         {
          "episodes": 1,
          "runs": 22
         },
         {
          "episodes": 1,
          "runs": 23
         },
         {
          "episodes": 1000,
          "runs": 24
         },
         {
          "episodes": 120,
          "runs": 25
         },
         {
          "episodes": 1,
          "runs": 26
         },
         {
          "episodes": 119,
          "runs": 27
         },
         {
          "episodes": 134,
          "runs": 28
         },
         {
          "episodes": 1000,
          "runs": 29
         },
         {
          "episodes": 119,
          "runs": 30
         },
         {
          "episodes": 118,
          "runs": 31
         },
         {
          "episodes": 1000,
          "runs": 32
         },
         {
          "episodes": 1000,
          "runs": 33
         },
         {
          "episodes": 120,
          "runs": 34
         },
         {
          "episodes": 160,
          "runs": 35
         },
         {
          "episodes": 1,
          "runs": 36
         },
         {
          "episodes": 1000,
          "runs": 37
         },
         {
          "episodes": 120,
          "runs": 38
         },
         {
          "episodes": 1000,
          "runs": 39
         },
         {
          "episodes": 118,
          "runs": 40
         },
         {
          "episodes": 1,
          "runs": 41
         },
         {
          "episodes": 1000,
          "runs": 42
         },
         {
          "episodes": 118,
          "runs": 43
         },
         {
          "episodes": 1,
          "runs": 44
         },
         {
          "episodes": 1,
          "runs": 45
         },
         {
          "episodes": 144,
          "runs": 46
         },
         {
          "episodes": 1000,
          "runs": 47
         },
         {
          "episodes": 140,
          "runs": 48
         },
         {
          "episodes": 1,
          "runs": 49
         },
         {
          "episodes": 1000,
          "runs": 50
         },
         {
          "episodes": 490,
          "runs": 51
         },
         {
          "episodes": 1,
          "runs": 52
         },
         {
          "episodes": 1,
          "runs": 53
         },
         {
          "episodes": 118,
          "runs": 54
         },
         {
          "episodes": 1000,
          "runs": 55
         },
         {
          "episodes": 1,
          "runs": 56
         },
         {
          "episodes": 118,
          "runs": 57
         },
         {
          "episodes": 120,
          "runs": 58
         },
         {
          "episodes": 1,
          "runs": 59
         },
         {
          "episodes": 118,
          "runs": 60
         },
         {
          "episodes": 1,
          "runs": 61
         },
         {
          "episodes": 118,
          "runs": 62
         },
         {
          "episodes": 119,
          "runs": 63
         },
         {
          "episodes": 1,
          "runs": 64
         },
         {
          "episodes": 1000,
          "runs": 65
         },
         {
          "episodes": 1000,
          "runs": 66
         },
         {
          "episodes": 1000,
          "runs": 67
         },
         {
          "episodes": 118,
          "runs": 68
         },
         {
          "episodes": 118,
          "runs": 69
         },
         {
          "episodes": 149,
          "runs": 70
         },
         {
          "episodes": 1000,
          "runs": 71
         },
         {
          "episodes": 1,
          "runs": 72
         },
         {
          "episodes": 133,
          "runs": 73
         },
         {
          "episodes": 118,
          "runs": 74
         },
         {
          "episodes": 118,
          "runs": 75
         },
         {
          "episodes": 1000,
          "runs": 76
         },
         {
          "episodes": 118,
          "runs": 77
         },
         {
          "episodes": 118,
          "runs": 78
         },
         {
          "episodes": 1000,
          "runs": 79
         },
         {
          "episodes": 1000,
          "runs": 80
         },
         {
          "episodes": 1,
          "runs": 81
         },
         {
          "episodes": 1000,
          "runs": 82
         },
         {
          "episodes": 118,
          "runs": 83
         },
         {
          "episodes": 539,
          "runs": 84
         },
         {
          "episodes": 118,
          "runs": 85
         },
         {
          "episodes": 118,
          "runs": 86
         },
         {
          "episodes": 1000,
          "runs": 87
         },
         {
          "episodes": 118,
          "runs": 88
         },
         {
          "episodes": 1000,
          "runs": 89
         },
         {
          "episodes": 118,
          "runs": 90
         },
         {
          "episodes": 1,
          "runs": 91
         },
         {
          "episodes": 1000,
          "runs": 92
         },
         {
          "episodes": 160,
          "runs": 93
         },
         {
          "episodes": 1,
          "runs": 94
         },
         {
          "episodes": 118,
          "runs": 95
         },
         {
          "episodes": 1000,
          "runs": 96
         },
         {
          "episodes": 1,
          "runs": 97
         },
         {
          "episodes": 1000,
          "runs": 98
         },
         {
          "episodes": 752,
          "runs": 99
         },
         {
          "episodes": 1,
          "runs": 100
         },
         {
          "episodes": 1,
          "runs": 101
         },
         {
          "episodes": 1000,
          "runs": 102
         },
         {
          "episodes": 118,
          "runs": 103
         },
         {
          "episodes": 648,
          "runs": 104
         },
         {
          "episodes": 1,
          "runs": 105
         },
         {
          "episodes": 1000,
          "runs": 106
         },
         {
          "episodes": 120,
          "runs": 107
         },
         {
          "episodes": 1,
          "runs": 108
         },
         {
          "episodes": 1,
          "runs": 109
         },
         {
          "episodes": 140,
          "runs": 110
         },
         {
          "episodes": 1000,
          "runs": 111
         },
         {
          "episodes": 140,
          "runs": 112
         },
         {
          "episodes": 1000,
          "runs": 113
         },
         {
          "episodes": 1000,
          "runs": 114
         },
         {
          "episodes": 1000,
          "runs": 115
         },
         {
          "episodes": 1000,
          "runs": 116
         },
         {
          "episodes": 118,
          "runs": 117
         },
         {
          "episodes": 1000,
          "runs": 118
         },
         {
          "episodes": 140,
          "runs": 119
         },
         {
          "episodes": 1,
          "runs": 120
         },
         {
          "episodes": 1,
          "runs": 121
         },
         {
          "episodes": 118,
          "runs": 122
         },
         {
          "episodes": 1000,
          "runs": 123
         },
         {
          "episodes": 1,
          "runs": 124
         },
         {
          "episodes": 351,
          "runs": 125
         },
         {
          "episodes": 1,
          "runs": 126
         },
         {
          "episodes": 1000,
          "runs": 127
         },
         {
          "episodes": 1000,
          "runs": 128
         },
         {
          "episodes": 118,
          "runs": 129
         },
         {
          "episodes": 118,
          "runs": 130
         },
         {
          "episodes": 118,
          "runs": 131
         },
         {
          "episodes": 120,
          "runs": 132
         },
         {
          "episodes": 1,
          "runs": 133
         },
         {
          "episodes": 1000,
          "runs": 134
         },
         {
          "episodes": 1,
          "runs": 135
         },
         {
          "episodes": 1000,
          "runs": 136
         },
         {
          "episodes": 118,
          "runs": 137
         },
         {
          "episodes": 1,
          "runs": 138
         },
         {
          "episodes": 1,
          "runs": 139
         },
         {
          "episodes": 1,
          "runs": 140
         },
         {
          "episodes": 118,
          "runs": 141
         },
         {
          "episodes": 1,
          "runs": 142
         },
         {
          "episodes": 118,
          "runs": 143
         },
         {
          "episodes": 1000,
          "runs": 144
         },
         {
          "episodes": 120,
          "runs": 145
         },
         {
          "episodes": 1000,
          "runs": 146
         },
         {
          "episodes": 1,
          "runs": 147
         },
         {
          "episodes": 1000,
          "runs": 148
         },
         {
          "episodes": 133,
          "runs": 149
         },
         {
          "episodes": 1,
          "runs": 150
         },
         {
          "episodes": 118,
          "runs": 151
         },
         {
          "episodes": 1,
          "runs": 152
         },
         {
          "episodes": 149,
          "runs": 153
         },
         {
          "episodes": 1000,
          "runs": 154
         },
         {
          "episodes": 118,
          "runs": 155
         },
         {
          "episodes": 1000,
          "runs": 156
         },
         {
          "episodes": 1000,
          "runs": 157
         },
         {
          "episodes": 1,
          "runs": 158
         },
         {
          "episodes": 1000,
          "runs": 159
         },
         {
          "episodes": 1,
          "runs": 160
         },
         {
          "episodes": 1,
          "runs": 161
         },
         {
          "episodes": 119,
          "runs": 162
         },
         {
          "episodes": 118,
          "runs": 163
         },
         {
          "episodes": 1,
          "runs": 164
         },
         {
          "episodes": 381,
          "runs": 165
         },
         {
          "episodes": 120,
          "runs": 166
         },
         {
          "episodes": 1000,
          "runs": 167
         },
         {
          "episodes": 118,
          "runs": 168
         },
         {
          "episodes": 118,
          "runs": 169
         },
         {
          "episodes": 1,
          "runs": 170
         },
         {
          "episodes": 118,
          "runs": 171
         },
         {
          "episodes": 1,
          "runs": 172
         },
         {
          "episodes": 1000,
          "runs": 173
         },
         {
          "episodes": 1,
          "runs": 174
         },
         {
          "episodes": 1,
          "runs": 175
         },
         {
          "episodes": 133,
          "runs": 176
         },
         {
          "episodes": 1000,
          "runs": 177
         },
         {
          "episodes": 1,
          "runs": 178
         },
         {
          "episodes": 118,
          "runs": 179
         },
         {
          "episodes": 118,
          "runs": 180
         },
         {
          "episodes": 1000,
          "runs": 181
         },
         {
          "episodes": 1000,
          "runs": 182
         },
         {
          "episodes": 1,
          "runs": 183
         },
         {
          "episodes": 1,
          "runs": 184
         },
         {
          "episodes": 1000,
          "runs": 185
         },
         {
          "episodes": 1000,
          "runs": 186
         },
         {
          "episodes": 164,
          "runs": 187
         },
         {
          "episodes": 144,
          "runs": 188
         },
         {
          "episodes": 118,
          "runs": 189
         },
         {
          "episodes": 913,
          "runs": 190
         },
         {
          "episodes": 118,
          "runs": 191
         },
         {
          "episodes": 118,
          "runs": 192
         },
         {
          "episodes": 118,
          "runs": 193
         },
         {
          "episodes": 1,
          "runs": 194
         },
         {
          "episodes": 1,
          "runs": 195
         },
         {
          "episodes": 1000,
          "runs": 196
         },
         {
          "episodes": 1000,
          "runs": 197
         },
         {
          "episodes": 219,
          "runs": 198
         },
         {
          "episodes": 1000,
          "runs": 199
         },
         {
          "episodes": 144,
          "runs": 200
         },
         {
          "episodes": 118,
          "runs": 201
         },
         {
          "episodes": 1000,
          "runs": 202
         },
         {
          "episodes": 1,
          "runs": 203
         },
         {
          "episodes": 1,
          "runs": 204
         },
         {
          "episodes": 1000,
          "runs": 205
         },
         {
          "episodes": 119,
          "runs": 206
         },
         {
          "episodes": 1000,
          "runs": 207
         },
         {
          "episodes": 118,
          "runs": 208
         },
         {
          "episodes": 1,
          "runs": 209
         },
         {
          "episodes": 1000,
          "runs": 210
         },
         {
          "episodes": 120,
          "runs": 211
         },
         {
          "episodes": 1000,
          "runs": 212
         },
         {
          "episodes": 133,
          "runs": 213
         },
         {
          "episodes": 151,
          "runs": 214
         },
         {
          "episodes": 118,
          "runs": 215
         },
         {
          "episodes": 1,
          "runs": 216
         },
         {
          "episodes": 118,
          "runs": 217
         },
         {
          "episodes": 118,
          "runs": 218
         },
         {
          "episodes": 1,
          "runs": 219
         },
         {
          "episodes": 1,
          "runs": 220
         },
         {
          "episodes": 118,
          "runs": 221
         },
         {
          "episodes": 118,
          "runs": 222
         },
         {
          "episodes": 118,
          "runs": 223
         },
         {
          "episodes": 1,
          "runs": 224
         },
         {
          "episodes": 1,
          "runs": 225
         },
         {
          "episodes": 151,
          "runs": 226
         },
         {
          "episodes": 118,
          "runs": 227
         },
         {
          "episodes": 139,
          "runs": 228
         },
         {
          "episodes": 133,
          "runs": 229
         },
         {
          "episodes": 1,
          "runs": 230
         },
         {
          "episodes": 1,
          "runs": 231
         },
         {
          "episodes": 242,
          "runs": 232
         },
         {
          "episodes": 118,
          "runs": 233
         },
         {
          "episodes": 1000,
          "runs": 234
         },
         {
          "episodes": 120,
          "runs": 235
         },
         {
          "episodes": 1,
          "runs": 236
         },
         {
          "episodes": 1000,
          "runs": 237
         },
         {
          "episodes": 118,
          "runs": 238
         },
         {
          "episodes": 1,
          "runs": 239
         },
         {
          "episodes": 1,
          "runs": 240
         },
         {
          "episodes": 1,
          "runs": 241
         },
         {
          "episodes": 1000,
          "runs": 242
         },
         {
          "episodes": 1000,
          "runs": 243
         },
         {
          "episodes": 1000,
          "runs": 244
         },
         {
          "episodes": 1,
          "runs": 245
         },
         {
          "episodes": 1,
          "runs": 246
         },
         {
          "episodes": 164,
          "runs": 247
         },
         {
          "episodes": 1,
          "runs": 248
         },
         {
          "episodes": 1,
          "runs": 249
         },
         {
          "episodes": 118,
          "runs": 250
         },
         {
          "episodes": 1000,
          "runs": 251
         },
         {
          "episodes": 1000,
          "runs": 252
         },
         {
          "episodes": 1000,
          "runs": 253
         },
         {
          "episodes": 1000,
          "runs": 254
         },
         {
          "episodes": 1000,
          "runs": 255
         },
         {
          "episodes": 164,
          "runs": 256
         },
         {
          "episodes": 1,
          "runs": 257
         },
         {
          "episodes": 1,
          "runs": 258
         },
         {
          "episodes": 1000,
          "runs": 259
         },
         {
          "episodes": 1,
          "runs": 260
         },
         {
          "episodes": 1000,
          "runs": 261
         },
         {
          "episodes": 1,
          "runs": 262
         },
         {
          "episodes": 118,
          "runs": 263
         },
         {
          "episodes": 1,
          "runs": 264
         },
         {
          "episodes": 1000,
          "runs": 265
         },
         {
          "episodes": 1,
          "runs": 266
         },
         {
          "episodes": 1000,
          "runs": 267
         },
         {
          "episodes": 1,
          "runs": 268
         },
         {
          "episodes": 1,
          "runs": 269
         },
         {
          "episodes": 1,
          "runs": 270
         },
         {
          "episodes": 1,
          "runs": 271
         },
         {
          "episodes": 1,
          "runs": 272
         },
         {
          "episodes": 1000,
          "runs": 273
         },
         {
          "episodes": 1,
          "runs": 274
         },
         {
          "episodes": 1,
          "runs": 275
         },
         {
          "episodes": 118,
          "runs": 276
         },
         {
          "episodes": 1000,
          "runs": 277
         },
         {
          "episodes": 118,
          "runs": 278
         },
         {
          "episodes": 140,
          "runs": 279
         },
         {
          "episodes": 1000,
          "runs": 280
         },
         {
          "episodes": 1000,
          "runs": 281
         },
         {
          "episodes": 1,
          "runs": 282
         },
         {
          "episodes": 1000,
          "runs": 283
         },
         {
          "episodes": 118,
          "runs": 284
         },
         {
          "episodes": 118,
          "runs": 285
         },
         {
          "episodes": 1,
          "runs": 286
         },
         {
          "episodes": 118,
          "runs": 287
         },
         {
          "episodes": 120,
          "runs": 288
         },
         {
          "episodes": 155,
          "runs": 289
         },
         {
          "episodes": 1000,
          "runs": 290
         },
         {
          "episodes": 1000,
          "runs": 291
         },
         {
          "episodes": 1,
          "runs": 292
         },
         {
          "episodes": 1000,
          "runs": 293
         },
         {
          "episodes": 118,
          "runs": 294
         },
         {
          "episodes": 118,
          "runs": 295
         },
         {
          "episodes": 118,
          "runs": 296
         },
         {
          "episodes": 1000,
          "runs": 297
         },
         {
          "episodes": 1000,
          "runs": 298
         },
         {
          "episodes": 1,
          "runs": 299
         },
         {
          "episodes": 1000,
          "runs": 300
         },
         {
          "episodes": 1,
          "runs": 301
         },
         {
          "episodes": 118,
          "runs": 302
         },
         {
          "episodes": 1,
          "runs": 303
         },
         {
          "episodes": 1000,
          "runs": 304
         },
         {
          "episodes": 118,
          "runs": 305
         },
         {
          "episodes": 120,
          "runs": 306
         },
         {
          "episodes": 843,
          "runs": 307
         },
         {
          "episodes": 165,
          "runs": 308
         },
         {
          "episodes": 118,
          "runs": 309
         },
         {
          "episodes": 118,
          "runs": 310
         },
         {
          "episodes": 747,
          "runs": 311
         },
         {
          "episodes": 118,
          "runs": 312
         },
         {
          "episodes": 1000,
          "runs": 313
         },
         {
          "episodes": 1,
          "runs": 314
         },
         {
          "episodes": 1,
          "runs": 315
         },
         {
          "episodes": 1000,
          "runs": 316
         },
         {
          "episodes": 1000,
          "runs": 317
         },
         {
          "episodes": 1,
          "runs": 318
         },
         {
          "episodes": 1000,
          "runs": 319
         },
         {
          "episodes": 1000,
          "runs": 320
         },
         {
          "episodes": 118,
          "runs": 321
         },
         {
          "episodes": 118,
          "runs": 322
         },
         {
          "episodes": 1,
          "runs": 323
         },
         {
          "episodes": 1,
          "runs": 324
         },
         {
          "episodes": 118,
          "runs": 325
         },
         {
          "episodes": 140,
          "runs": 326
         },
         {
          "episodes": 118,
          "runs": 327
         },
         {
          "episodes": 131,
          "runs": 328
         },
         {
          "episodes": 118,
          "runs": 329
         },
         {
          "episodes": 118,
          "runs": 330
         },
         {
          "episodes": 633,
          "runs": 331
         },
         {
          "episodes": 118,
          "runs": 332
         },
         {
          "episodes": 120,
          "runs": 333
         },
         {
          "episodes": 1,
          "runs": 334
         },
         {
          "episodes": 574,
          "runs": 335
         },
         {
          "episodes": 1000,
          "runs": 336
         },
         {
          "episodes": 1000,
          "runs": 337
         },
         {
          "episodes": 478,
          "runs": 338
         },
         {
          "episodes": 1,
          "runs": 339
         },
         {
          "episodes": 1,
          "runs": 340
         },
         {
          "episodes": 1,
          "runs": 341
         },
         {
          "episodes": 1000,
          "runs": 342
         },
         {
          "episodes": 118,
          "runs": 343
         },
         {
          "episodes": 118,
          "runs": 344
         },
         {
          "episodes": 1,
          "runs": 345
         },
         {
          "episodes": 1,
          "runs": 346
         },
         {
          "episodes": 1000,
          "runs": 347
         },
         {
          "episodes": 1,
          "runs": 348
         },
         {
          "episodes": 118,
          "runs": 349
         },
         {
          "episodes": 1000,
          "runs": 350
         },
         {
          "episodes": 157,
          "runs": 351
         },
         {
          "episodes": 151,
          "runs": 352
         },
         {
          "episodes": 160,
          "runs": 353
         },
         {
          "episodes": 118,
          "runs": 354
         },
         {
          "episodes": 160,
          "runs": 355
         },
         {
          "episodes": 1000,
          "runs": 356
         },
         {
          "episodes": 118,
          "runs": 357
         },
         {
          "episodes": 118,
          "runs": 358
         },
         {
          "episodes": 1,
          "runs": 359
         },
         {
          "episodes": 290,
          "runs": 360
         },
         {
          "episodes": 1,
          "runs": 361
         },
         {
          "episodes": 1,
          "runs": 362
         },
         {
          "episodes": 1,
          "runs": 363
         },
         {
          "episodes": 1000,
          "runs": 364
         },
         {
          "episodes": 1,
          "runs": 365
         },
         {
          "episodes": 1000,
          "runs": 366
         },
         {
          "episodes": 1000,
          "runs": 367
         },
         {
          "episodes": 1,
          "runs": 368
         },
         {
          "episodes": 1000,
          "runs": 369
         },
         {
          "episodes": 1,
          "runs": 370
         },
         {
          "episodes": 1,
          "runs": 371
         },
         {
          "episodes": 1000,
          "runs": 372
         },
         {
          "episodes": 1000,
          "runs": 373
         },
         {
          "episodes": 118,
          "runs": 374
         },
         {
          "episodes": 1000,
          "runs": 375
         },
         {
          "episodes": 118,
          "runs": 376
         },
         {
          "episodes": 118,
          "runs": 377
         },
         {
          "episodes": 1,
          "runs": 378
         },
         {
          "episodes": 118,
          "runs": 379
         },
         {
          "episodes": 118,
          "runs": 380
         },
         {
          "episodes": 118,
          "runs": 381
         },
         {
          "episodes": 1,
          "runs": 382
         },
         {
          "episodes": 141,
          "runs": 383
         },
         {
          "episodes": 118,
          "runs": 384
         },
         {
          "episodes": 1000,
          "runs": 385
         },
         {
          "episodes": 118,
          "runs": 386
         },
         {
          "episodes": 118,
          "runs": 387
         },
         {
          "episodes": 118,
          "runs": 388
         },
         {
          "episodes": 119,
          "runs": 389
         },
         {
          "episodes": 1000,
          "runs": 390
         },
         {
          "episodes": 1,
          "runs": 391
         },
         {
          "episodes": 1,
          "runs": 392
         },
         {
          "episodes": 1000,
          "runs": 393
         },
         {
          "episodes": 118,
          "runs": 394
         },
         {
          "episodes": 1000,
          "runs": 395
         },
         {
          "episodes": 1000,
          "runs": 396
         },
         {
          "episodes": 1,
          "runs": 397
         },
         {
          "episodes": 120,
          "runs": 398
         },
         {
          "episodes": 131,
          "runs": 399
         },
         {
          "episodes": 1,
          "runs": 400
         },
         {
          "episodes": 455,
          "runs": 401
         },
         {
          "episodes": 118,
          "runs": 402
         },
         {
          "episodes": 120,
          "runs": 403
         },
         {
          "episodes": 139,
          "runs": 404
         },
         {
          "episodes": 1,
          "runs": 405
         },
         {
          "episodes": 1000,
          "runs": 406
         },
         {
          "episodes": 1,
          "runs": 407
         },
         {
          "episodes": 1000,
          "runs": 408
         },
         {
          "episodes": 233,
          "runs": 409
         },
         {
          "episodes": 1,
          "runs": 410
         },
         {
          "episodes": 1,
          "runs": 411
         },
         {
          "episodes": 1,
          "runs": 412
         },
         {
          "episodes": 118,
          "runs": 413
         },
         {
          "episodes": 1000,
          "runs": 414
         },
         {
          "episodes": 1,
          "runs": 415
         },
         {
          "episodes": 1,
          "runs": 416
         },
         {
          "episodes": 118,
          "runs": 417
         },
         {
          "episodes": 1000,
          "runs": 418
         },
         {
          "episodes": 118,
          "runs": 419
         },
         {
          "episodes": 118,
          "runs": 420
         },
         {
          "episodes": 1,
          "runs": 421
         },
         {
          "episodes": 118,
          "runs": 422
         },
         {
          "episodes": 1,
          "runs": 423
         },
         {
          "episodes": 133,
          "runs": 424
         },
         {
          "episodes": 870,
          "runs": 425
         },
         {
          "episodes": 1,
          "runs": 426
         },
         {
          "episodes": 1000,
          "runs": 427
         },
         {
          "episodes": 120,
          "runs": 428
         },
         {
          "episodes": 140,
          "runs": 429
         },
         {
          "episodes": 939,
          "runs": 430
         },
         {
          "episodes": 1,
          "runs": 431
         },
         {
          "episodes": 1000,
          "runs": 432
         },
         {
          "episodes": 1,
          "runs": 433
         },
         {
          "episodes": 118,
          "runs": 434
         },
         {
          "episodes": 1000,
          "runs": 435
         },
         {
          "episodes": 1000,
          "runs": 436
         },
         {
          "episodes": 1000,
          "runs": 437
         },
         {
          "episodes": 1,
          "runs": 438
         },
         {
          "episodes": 118,
          "runs": 439
         },
         {
          "episodes": 1,
          "runs": 440
         },
         {
          "episodes": 1000,
          "runs": 441
         },
         {
          "episodes": 131,
          "runs": 442
         },
         {
          "episodes": 1,
          "runs": 443
         },
         {
          "episodes": 1,
          "runs": 444
         },
         {
          "episodes": 320,
          "runs": 445
         },
         {
          "episodes": 118,
          "runs": 446
         },
         {
          "episodes": 118,
          "runs": 447
         },
         {
          "episodes": 1,
          "runs": 448
         },
         {
          "episodes": 1,
          "runs": 449
         },
         {
          "episodes": 133,
          "runs": 450
         },
         {
          "episodes": 1,
          "runs": 451
         },
         {
          "episodes": 1000,
          "runs": 452
         },
         {
          "episodes": 118,
          "runs": 453
         },
         {
          "episodes": 1,
          "runs": 454
         },
         {
          "episodes": 1000,
          "runs": 455
         },
         {
          "episodes": 118,
          "runs": 456
         },
         {
          "episodes": 118,
          "runs": 457
         },
         {
          "episodes": 1,
          "runs": 458
         },
         {
          "episodes": 118,
          "runs": 459
         },
         {
          "episodes": 1,
          "runs": 460
         },
         {
          "episodes": 1,
          "runs": 461
         },
         {
          "episodes": 343,
          "runs": 462
         },
         {
          "episodes": 1,
          "runs": 463
         },
         {
          "episodes": 1000,
          "runs": 464
         },
         {
          "episodes": 1,
          "runs": 465
         },
         {
          "episodes": 118,
          "runs": 466
         },
         {
          "episodes": 1000,
          "runs": 467
         },
         {
          "episodes": 120,
          "runs": 468
         },
         {
          "episodes": 118,
          "runs": 469
         },
         {
          "episodes": 118,
          "runs": 470
         },
         {
          "episodes": 1,
          "runs": 471
         },
         {
          "episodes": 118,
          "runs": 472
         },
         {
          "episodes": 1,
          "runs": 473
         },
         {
          "episodes": 119,
          "runs": 474
         },
         {
          "episodes": 1000,
          "runs": 475
         },
         {
          "episodes": 1000,
          "runs": 476
         },
         {
          "episodes": 120,
          "runs": 477
         },
         {
          "episodes": 118,
          "runs": 478
         },
         {
          "episodes": 140,
          "runs": 479
         },
         {
          "episodes": 119,
          "runs": 480
         },
         {
          "episodes": 1,
          "runs": 481
         },
         {
          "episodes": 1,
          "runs": 482
         },
         {
          "episodes": 319,
          "runs": 483
         },
         {
          "episodes": 1,
          "runs": 484
         },
         {
          "episodes": 133,
          "runs": 485
         },
         {
          "episodes": 1,
          "runs": 486
         },
         {
          "episodes": 120,
          "runs": 487
         },
         {
          "episodes": 1,
          "runs": 488
         },
         {
          "episodes": 118,
          "runs": 489
         },
         {
          "episodes": 120,
          "runs": 490
         },
         {
          "episodes": 118,
          "runs": 491
         },
         {
          "episodes": 1,
          "runs": 492
         },
         {
          "episodes": 1,
          "runs": 493
         },
         {
          "episodes": 118,
          "runs": 494
         },
         {
          "episodes": 1000,
          "runs": 495
         },
         {
          "episodes": 1000,
          "runs": 496
         },
         {
          "episodes": 1,
          "runs": 497
         },
         {
          "episodes": 118,
          "runs": 498
         },
         {
          "episodes": 1000,
          "runs": 499
         },
         {
          "episodes": 1000,
          "runs": 500
         },
         {
          "episodes": 1000,
          "runs": 501
         },
         {
          "episodes": 1,
          "runs": 502
         },
         {
          "episodes": 1000,
          "runs": 503
         },
         {
          "episodes": 118,
          "runs": 504
         },
         {
          "episodes": 1,
          "runs": 505
         },
         {
          "episodes": 1000,
          "runs": 506
         },
         {
          "episodes": 1000,
          "runs": 507
         },
         {
          "episodes": 1000,
          "runs": 508
         },
         {
          "episodes": 133,
          "runs": 509
         },
         {
          "episodes": 118,
          "runs": 510
         },
         {
          "episodes": 1,
          "runs": 511
         },
         {
          "episodes": 1000,
          "runs": 512
         },
         {
          "episodes": 118,
          "runs": 513
         },
         {
          "episodes": 1000,
          "runs": 514
         },
         {
          "episodes": 569,
          "runs": 515
         },
         {
          "episodes": 118,
          "runs": 516
         },
         {
          "episodes": 1,
          "runs": 517
         },
         {
          "episodes": 1000,
          "runs": 518
         },
         {
          "episodes": 118,
          "runs": 519
         },
         {
          "episodes": 1,
          "runs": 520
         },
         {
          "episodes": 120,
          "runs": 521
         },
         {
          "episodes": 1,
          "runs": 522
         },
         {
          "episodes": 840,
          "runs": 523
         },
         {
          "episodes": 1,
          "runs": 524
         },
         {
          "episodes": 1000,
          "runs": 525
         },
         {
          "episodes": 1000,
          "runs": 526
         },
         {
          "episodes": 1,
          "runs": 527
         },
         {
          "episodes": 120,
          "runs": 528
         },
         {
          "episodes": 1,
          "runs": 529
         },
         {
          "episodes": 203,
          "runs": 530
         },
         {
          "episodes": 120,
          "runs": 531
         },
         {
          "episodes": 1000,
          "runs": 532
         },
         {
          "episodes": 118,
          "runs": 533
         },
         {
          "episodes": 118,
          "runs": 534
         },
         {
          "episodes": 1,
          "runs": 535
         },
         {
          "episodes": 118,
          "runs": 536
         },
         {
          "episodes": 190,
          "runs": 537
         },
         {
          "episodes": 1,
          "runs": 538
         },
         {
          "episodes": 179,
          "runs": 539
         },
         {
          "episodes": 1000,
          "runs": 540
         },
         {
          "episodes": 1000,
          "runs": 541
         },
         {
          "episodes": 520,
          "runs": 542
         },
         {
          "episodes": 1,
          "runs": 543
         },
         {
          "episodes": 118,
          "runs": 544
         },
         {
          "episodes": 1000,
          "runs": 545
         },
         {
          "episodes": 1,
          "runs": 546
         },
         {
          "episodes": 1000,
          "runs": 547
         },
         {
          "episodes": 1,
          "runs": 548
         },
         {
          "episodes": 870,
          "runs": 549
         },
         {
          "episodes": 1000,
          "runs": 550
         },
         {
          "episodes": 118,
          "runs": 551
         },
         {
          "episodes": 1,
          "runs": 552
         },
         {
          "episodes": 118,
          "runs": 553
         },
         {
          "episodes": 1,
          "runs": 554
         },
         {
          "episodes": 118,
          "runs": 555
         },
         {
          "episodes": 1,
          "runs": 556
         },
         {
          "episodes": 1,
          "runs": 557
         },
         {
          "episodes": 1000,
          "runs": 558
         },
         {
          "episodes": 1000,
          "runs": 559
         },
         {
          "episodes": 1,
          "runs": 560
         },
         {
          "episodes": 133,
          "runs": 561
         },
         {
          "episodes": 1000,
          "runs": 562
         },
         {
          "episodes": 1,
          "runs": 563
         },
         {
          "episodes": 918,
          "runs": 564
         },
         {
          "episodes": 120,
          "runs": 565
         },
         {
          "episodes": 1,
          "runs": 566
         },
         {
          "episodes": 1000,
          "runs": 567
         },
         {
          "episodes": 1,
          "runs": 568
         },
         {
          "episodes": 1,
          "runs": 569
         },
         {
          "episodes": 118,
          "runs": 570
         },
         {
          "episodes": 287,
          "runs": 571
         },
         {
          "episodes": 1,
          "runs": 572
         },
         {
          "episodes": 1,
          "runs": 573
         },
         {
          "episodes": 1000,
          "runs": 574
         },
         {
          "episodes": 1000,
          "runs": 575
         },
         {
          "episodes": 118,
          "runs": 576
         },
         {
          "episodes": 1,
          "runs": 577
         },
         {
          "episodes": 118,
          "runs": 578
         },
         {
          "episodes": 1000,
          "runs": 579
         },
         {
          "episodes": 1,
          "runs": 580
         },
         {
          "episodes": 120,
          "runs": 581
         },
         {
          "episodes": 131,
          "runs": 582
         },
         {
          "episodes": 1,
          "runs": 583
         },
         {
          "episodes": 607,
          "runs": 584
         },
         {
          "episodes": 264,
          "runs": 585
         },
         {
          "episodes": 1,
          "runs": 586
         },
         {
          "episodes": 1,
          "runs": 587
         },
         {
          "episodes": 118,
          "runs": 588
         },
         {
          "episodes": 1,
          "runs": 589
         },
         {
          "episodes": 1000,
          "runs": 590
         },
         {
          "episodes": 1,
          "runs": 591
         },
         {
          "episodes": 1,
          "runs": 592
         },
         {
          "episodes": 1,
          "runs": 593
         },
         {
          "episodes": 1000,
          "runs": 594
         },
         {
          "episodes": 118,
          "runs": 595
         },
         {
          "episodes": 1000,
          "runs": 596
         },
         {
          "episodes": 118,
          "runs": 597
         },
         {
          "episodes": 118,
          "runs": 598
         },
         {
          "episodes": 1000,
          "runs": 599
         },
         {
          "episodes": 118,
          "runs": 600
         },
         {
          "episodes": 120,
          "runs": 601
         },
         {
          "episodes": 1000,
          "runs": 602
         },
         {
          "episodes": 1,
          "runs": 603
         },
         {
          "episodes": 1000,
          "runs": 604
         },
         {
          "episodes": 1000,
          "runs": 605
         },
         {
          "episodes": 118,
          "runs": 606
         },
         {
          "episodes": 1000,
          "runs": 607
         },
         {
          "episodes": 118,
          "runs": 608
         },
         {
          "episodes": 383,
          "runs": 609
         },
         {
          "episodes": 1000,
          "runs": 610
         },
         {
          "episodes": 1000,
          "runs": 611
         },
         {
          "episodes": 1000,
          "runs": 612
         },
         {
          "episodes": 1,
          "runs": 613
         },
         {
          "episodes": 1,
          "runs": 614
         },
         {
          "episodes": 1000,
          "runs": 615
         },
         {
          "episodes": 151,
          "runs": 616
         },
         {
          "episodes": 133,
          "runs": 617
         },
         {
          "episodes": 160,
          "runs": 618
         },
         {
          "episodes": 120,
          "runs": 619
         },
         {
          "episodes": 1000,
          "runs": 620
         },
         {
          "episodes": 118,
          "runs": 621
         },
         {
          "episodes": 1000,
          "runs": 622
         },
         {
          "episodes": 1000,
          "runs": 623
         },
         {
          "episodes": 1,
          "runs": 624
         },
         {
          "episodes": 1,
          "runs": 625
         },
         {
          "episodes": 1,
          "runs": 626
         },
         {
          "episodes": 1,
          "runs": 627
         },
         {
          "episodes": 1,
          "runs": 628
         },
         {
          "episodes": 1,
          "runs": 629
         },
         {
          "episodes": 120,
          "runs": 630
         },
         {
          "episodes": 1000,
          "runs": 631
         },
         {
          "episodes": 120,
          "runs": 632
         },
         {
          "episodes": 1,
          "runs": 633
         },
         {
          "episodes": 140,
          "runs": 634
         },
         {
          "episodes": 1,
          "runs": 635
         },
         {
          "episodes": 1000,
          "runs": 636
         },
         {
          "episodes": 118,
          "runs": 637
         },
         {
          "episodes": 118,
          "runs": 638
         },
         {
          "episodes": 118,
          "runs": 639
         },
         {
          "episodes": 118,
          "runs": 640
         },
         {
          "episodes": 118,
          "runs": 641
         },
         {
          "episodes": 1,
          "runs": 642
         },
         {
          "episodes": 118,
          "runs": 643
         },
         {
          "episodes": 1000,
          "runs": 644
         },
         {
          "episodes": 1,
          "runs": 645
         },
         {
          "episodes": 118,
          "runs": 646
         },
         {
          "episodes": 1000,
          "runs": 647
         },
         {
          "episodes": 1000,
          "runs": 648
         },
         {
          "episodes": 118,
          "runs": 649
         },
         {
          "episodes": 118,
          "runs": 650
         },
         {
          "episodes": 539,
          "runs": 651
         },
         {
          "episodes": 118,
          "runs": 652
         },
         {
          "episodes": 1000,
          "runs": 653
         },
         {
          "episodes": 1000,
          "runs": 654
         },
         {
          "episodes": 120,
          "runs": 655
         },
         {
          "episodes": 1,
          "runs": 656
         },
         {
          "episodes": 1,
          "runs": 657
         },
         {
          "episodes": 1,
          "runs": 658
         },
         {
          "episodes": 140,
          "runs": 659
         },
         {
          "episodes": 1,
          "runs": 660
         },
         {
          "episodes": 1000,
          "runs": 661
         },
         {
          "episodes": 1,
          "runs": 662
         },
         {
          "episodes": 118,
          "runs": 663
         },
         {
          "episodes": 1000,
          "runs": 664
         },
         {
          "episodes": 1,
          "runs": 665
         },
         {
          "episodes": 118,
          "runs": 666
         },
         {
          "episodes": 1000,
          "runs": 667
         },
         {
          "episodes": 118,
          "runs": 668
         },
         {
          "episodes": 118,
          "runs": 669
         },
         {
          "episodes": 1,
          "runs": 670
         },
         {
          "episodes": 1,
          "runs": 671
         },
         {
          "episodes": 1,
          "runs": 672
         },
         {
          "episodes": 118,
          "runs": 673
         },
         {
          "episodes": 118,
          "runs": 674
         },
         {
          "episodes": 1000,
          "runs": 675
         },
         {
          "episodes": 1000,
          "runs": 676
         },
         {
          "episodes": 118,
          "runs": 677
         },
         {
          "episodes": 1000,
          "runs": 678
         },
         {
          "episodes": 118,
          "runs": 679
         },
         {
          "episodes": 1,
          "runs": 680
         },
         {
          "episodes": 1000,
          "runs": 681
         },
         {
          "episodes": 120,
          "runs": 682
         },
         {
          "episodes": 1,
          "runs": 683
         },
         {
          "episodes": 155,
          "runs": 684
         },
         {
          "episodes": 118,
          "runs": 685
         },
         {
          "episodes": 1000,
          "runs": 686
         },
         {
          "episodes": 1,
          "runs": 687
         },
         {
          "episodes": 1,
          "runs": 688
         },
         {
          "episodes": 133,
          "runs": 689
         },
         {
          "episodes": 1,
          "runs": 690
         },
         {
          "episodes": 1000,
          "runs": 691
         },
         {
          "episodes": 118,
          "runs": 692
         },
         {
          "episodes": 1000,
          "runs": 693
         },
         {
          "episodes": 1000,
          "runs": 694
         },
         {
          "episodes": 119,
          "runs": 695
         },
         {
          "episodes": 118,
          "runs": 696
         },
         {
          "episodes": 118,
          "runs": 697
         },
         {
          "episodes": 1000,
          "runs": 698
         },
         {
          "episodes": 1,
          "runs": 699
         },
         {
          "episodes": 1,
          "runs": 700
         },
         {
          "episodes": 118,
          "runs": 701
         },
         {
          "episodes": 1,
          "runs": 702
         },
         {
          "episodes": 140,
          "runs": 703
         },
         {
          "episodes": 1,
          "runs": 704
         },
         {
          "episodes": 1,
          "runs": 705
         },
         {
          "episodes": 118,
          "runs": 706
         },
         {
          "episodes": 1,
          "runs": 707
         },
         {
          "episodes": 1,
          "runs": 708
         },
         {
          "episodes": 118,
          "runs": 709
         },
         {
          "episodes": 118,
          "runs": 710
         },
         {
          "episodes": 875,
          "runs": 711
         },
         {
          "episodes": 1000,
          "runs": 712
         },
         {
          "episodes": 1,
          "runs": 713
         },
         {
          "episodes": 118,
          "runs": 714
         },
         {
          "episodes": 1,
          "runs": 715
         },
         {
          "episodes": 1000,
          "runs": 716
         },
         {
          "episodes": 1,
          "runs": 717
         },
         {
          "episodes": 1000,
          "runs": 718
         },
         {
          "episodes": 118,
          "runs": 719
         },
         {
          "episodes": 1,
          "runs": 720
         },
         {
          "episodes": 118,
          "runs": 721
         },
         {
          "episodes": 1,
          "runs": 722
         },
         {
          "episodes": 151,
          "runs": 723
         },
         {
          "episodes": 1,
          "runs": 724
         },
         {
          "episodes": 1000,
          "runs": 725
         },
         {
          "episodes": 118,
          "runs": 726
         },
         {
          "episodes": 1000,
          "runs": 727
         },
         {
          "episodes": 1,
          "runs": 728
         },
         {
          "episodes": 1,
          "runs": 729
         },
         {
          "episodes": 1000,
          "runs": 730
         },
         {
          "episodes": 118,
          "runs": 731
         },
         {
          "episodes": 1000,
          "runs": 732
         },
         {
          "episodes": 1,
          "runs": 733
         },
         {
          "episodes": 1000,
          "runs": 734
         },
         {
          "episodes": 118,
          "runs": 735
         },
         {
          "episodes": 1,
          "runs": 736
         },
         {
          "episodes": 1,
          "runs": 737
         },
         {
          "episodes": 1,
          "runs": 738
         },
         {
          "episodes": 133,
          "runs": 739
         },
         {
          "episodes": 1,
          "runs": 740
         },
         {
          "episodes": 118,
          "runs": 741
         },
         {
          "episodes": 118,
          "runs": 742
         },
         {
          "episodes": 1000,
          "runs": 743
         },
         {
          "episodes": 1,
          "runs": 744
         },
         {
          "episodes": 1000,
          "runs": 745
         },
         {
          "episodes": 141,
          "runs": 746
         },
         {
          "episodes": 1000,
          "runs": 747
         },
         {
          "episodes": 119,
          "runs": 748
         },
         {
          "episodes": 1000,
          "runs": 749
         },
         {
          "episodes": 1,
          "runs": 750
         },
         {
          "episodes": 118,
          "runs": 751
         },
         {
          "episodes": 118,
          "runs": 752
         },
         {
          "episodes": 133,
          "runs": 753
         },
         {
          "episodes": 1000,
          "runs": 754
         },
         {
          "episodes": 1000,
          "runs": 755
         },
         {
          "episodes": 1000,
          "runs": 756
         },
         {
          "episodes": 1,
          "runs": 757
         },
         {
          "episodes": 118,
          "runs": 758
         },
         {
          "episodes": 1,
          "runs": 759
         },
         {
          "episodes": 1,
          "runs": 760
         },
         {
          "episodes": 571,
          "runs": 761
         },
         {
          "episodes": 139,
          "runs": 762
         },
         {
          "episodes": 1,
          "runs": 763
         },
         {
          "episodes": 1000,
          "runs": 764
         },
         {
          "episodes": 1000,
          "runs": 765
         },
         {
          "episodes": 1000,
          "runs": 766
         },
         {
          "episodes": 120,
          "runs": 767
         },
         {
          "episodes": 133,
          "runs": 768
         },
         {
          "episodes": 1,
          "runs": 769
         },
         {
          "episodes": 118,
          "runs": 770
         },
         {
          "episodes": 1000,
          "runs": 771
         },
         {
          "episodes": 120,
          "runs": 772
         },
         {
          "episodes": 118,
          "runs": 773
         },
         {
          "episodes": 140,
          "runs": 774
         },
         {
          "episodes": 118,
          "runs": 775
         },
         {
          "episodes": 1,
          "runs": 776
         },
         {
          "episodes": 1,
          "runs": 777
         },
         {
          "episodes": 1000,
          "runs": 778
         },
         {
          "episodes": 120,
          "runs": 779
         },
         {
          "episodes": 119,
          "runs": 780
         },
         {
          "episodes": 118,
          "runs": 781
         },
         {
          "episodes": 118,
          "runs": 782
         },
         {
          "episodes": 118,
          "runs": 783
         },
         {
          "episodes": 1,
          "runs": 784
         },
         {
          "episodes": 118,
          "runs": 785
         },
         {
          "episodes": 118,
          "runs": 786
         },
         {
          "episodes": 118,
          "runs": 787
         },
         {
          "episodes": 1,
          "runs": 788
         },
         {
          "episodes": 120,
          "runs": 789
         },
         {
          "episodes": 118,
          "runs": 790
         },
         {
          "episodes": 120,
          "runs": 791
         },
         {
          "episodes": 118,
          "runs": 792
         },
         {
          "episodes": 1000,
          "runs": 793
         },
         {
          "episodes": 1,
          "runs": 794
         },
         {
          "episodes": 118,
          "runs": 795
         },
         {
          "episodes": 118,
          "runs": 796
         },
         {
          "episodes": 140,
          "runs": 797
         },
         {
          "episodes": 120,
          "runs": 798
         },
         {
          "episodes": 1,
          "runs": 799
         },
         {
          "episodes": 1000,
          "runs": 800
         },
         {
          "episodes": 1,
          "runs": 801
         },
         {
          "episodes": 118,
          "runs": 802
         },
         {
          "episodes": 1000,
          "runs": 803
         },
         {
          "episodes": 1,
          "runs": 804
         },
         {
          "episodes": 1,
          "runs": 805
         },
         {
          "episodes": 118,
          "runs": 806
         },
         {
          "episodes": 119,
          "runs": 807
         },
         {
          "episodes": 1000,
          "runs": 808
         },
         {
          "episodes": 1,
          "runs": 809
         },
         {
          "episodes": 1,
          "runs": 810
         },
         {
          "episodes": 1,
          "runs": 811
         },
         {
          "episodes": 1000,
          "runs": 812
         },
         {
          "episodes": 1000,
          "runs": 813
         },
         {
          "episodes": 1000,
          "runs": 814
         },
         {
          "episodes": 1000,
          "runs": 815
         },
         {
          "episodes": 118,
          "runs": 816
         },
         {
          "episodes": 1,
          "runs": 817
         },
         {
          "episodes": 1000,
          "runs": 818
         },
         {
          "episodes": 1000,
          "runs": 819
         },
         {
          "episodes": 1000,
          "runs": 820
         },
         {
          "episodes": 133,
          "runs": 821
         },
         {
          "episodes": 1000,
          "runs": 822
         },
         {
          "episodes": 119,
          "runs": 823
         },
         {
          "episodes": 118,
          "runs": 824
         },
         {
          "episodes": 118,
          "runs": 825
         },
         {
          "episodes": 118,
          "runs": 826
         },
         {
          "episodes": 1,
          "runs": 827
         },
         {
          "episodes": 1000,
          "runs": 828
         },
         {
          "episodes": 118,
          "runs": 829
         },
         {
          "episodes": 120,
          "runs": 830
         },
         {
          "episodes": 929,
          "runs": 831
         },
         {
          "episodes": 1,
          "runs": 832
         },
         {
          "episodes": 1,
          "runs": 833
         },
         {
          "episodes": 1,
          "runs": 834
         },
         {
          "episodes": 1000,
          "runs": 835
         },
         {
          "episodes": 1,
          "runs": 836
         },
         {
          "episodes": 1000,
          "runs": 837
         },
         {
          "episodes": 118,
          "runs": 838
         },
         {
          "episodes": 120,
          "runs": 839
         },
         {
          "episodes": 118,
          "runs": 840
         },
         {
          "episodes": 1,
          "runs": 841
         },
         {
          "episodes": 1000,
          "runs": 842
         },
         {
          "episodes": 1000,
          "runs": 843
         },
         {
          "episodes": 118,
          "runs": 844
         },
         {
          "episodes": 980,
          "runs": 845
         },
         {
          "episodes": 118,
          "runs": 846
         },
         {
          "episodes": 1,
          "runs": 847
         },
         {
          "episodes": 1,
          "runs": 848
         },
         {
          "episodes": 1000,
          "runs": 849
         },
         {
          "episodes": 720,
          "runs": 850
         },
         {
          "episodes": 1000,
          "runs": 851
         },
         {
          "episodes": 1000,
          "runs": 852
         },
         {
          "episodes": 118,
          "runs": 853
         },
         {
          "episodes": 1000,
          "runs": 854
         },
         {
          "episodes": 727,
          "runs": 855
         },
         {
          "episodes": 1,
          "runs": 856
         },
         {
          "episodes": 118,
          "runs": 857
         },
         {
          "episodes": 1000,
          "runs": 858
         },
         {
          "episodes": 1000,
          "runs": 859
         },
         {
          "episodes": 1000,
          "runs": 860
         },
         {
          "episodes": 991,
          "runs": 861
         },
         {
          "episodes": 1000,
          "runs": 862
         },
         {
          "episodes": 1,
          "runs": 863
         },
         {
          "episodes": 118,
          "runs": 864
         },
         {
          "episodes": 118,
          "runs": 865
         },
         {
          "episodes": 1000,
          "runs": 866
         },
         {
          "episodes": 120,
          "runs": 867
         },
         {
          "episodes": 1000,
          "runs": 868
         },
         {
          "episodes": 1000,
          "runs": 869
         },
         {
          "episodes": 1,
          "runs": 870
         },
         {
          "episodes": 118,
          "runs": 871
         },
         {
          "episodes": 1,
          "runs": 872
         },
         {
          "episodes": 120,
          "runs": 873
         },
         {
          "episodes": 1000,
          "runs": 874
         },
         {
          "episodes": 120,
          "runs": 875
         },
         {
          "episodes": 1000,
          "runs": 876
         },
         {
          "episodes": 1000,
          "runs": 877
         },
         {
          "episodes": 118,
          "runs": 878
         },
         {
          "episodes": 1000,
          "runs": 879
         },
         {
          "episodes": 1000,
          "runs": 880
         },
         {
          "episodes": 1000,
          "runs": 881
         },
         {
          "episodes": 118,
          "runs": 882
         },
         {
          "episodes": 188,
          "runs": 883
         },
         {
          "episodes": 1000,
          "runs": 884
         },
         {
          "episodes": 118,
          "runs": 885
         },
         {
          "episodes": 1,
          "runs": 886
         },
         {
          "episodes": 1000,
          "runs": 887
         },
         {
          "episodes": 1,
          "runs": 888
         },
         {
          "episodes": 1,
          "runs": 889
         },
         {
          "episodes": 1000,
          "runs": 890
         },
         {
          "episodes": 118,
          "runs": 891
         },
         {
          "episodes": 1,
          "runs": 892
         },
         {
          "episodes": 1,
          "runs": 893
         },
         {
          "episodes": 118,
          "runs": 894
         },
         {
          "episodes": 133,
          "runs": 895
         },
         {
          "episodes": 120,
          "runs": 896
         },
         {
          "episodes": 1,
          "runs": 897
         },
         {
          "episodes": 1,
          "runs": 898
         },
         {
          "episodes": 1,
          "runs": 899
         },
         {
          "episodes": 1000,
          "runs": 900
         },
         {
          "episodes": 1,
          "runs": 901
         },
         {
          "episodes": 167,
          "runs": 902
         },
         {
          "episodes": 1000,
          "runs": 903
         },
         {
          "episodes": 1000,
          "runs": 904
         },
         {
          "episodes": 118,
          "runs": 905
         },
         {
          "episodes": 1,
          "runs": 906
         },
         {
          "episodes": 1,
          "runs": 907
         },
         {
          "episodes": 1000,
          "runs": 908
         },
         {
          "episodes": 538,
          "runs": 909
         },
         {
          "episodes": 1000,
          "runs": 910
         },
         {
          "episodes": 1000,
          "runs": 911
         },
         {
          "episodes": 1,
          "runs": 912
         },
         {
          "episodes": 1,
          "runs": 913
         },
         {
          "episodes": 1000,
          "runs": 914
         },
         {
          "episodes": 1,
          "runs": 915
         },
         {
          "episodes": 1,
          "runs": 916
         },
         {
          "episodes": 1,
          "runs": 917
         },
         {
          "episodes": 1,
          "runs": 918
         },
         {
          "episodes": 1,
          "runs": 919
         },
         {
          "episodes": 118,
          "runs": 920
         },
         {
          "episodes": 1,
          "runs": 921
         },
         {
          "episodes": 750,
          "runs": 922
         },
         {
          "episodes": 1,
          "runs": 923
         },
         {
          "episodes": 1000,
          "runs": 924
         },
         {
          "episodes": 1000,
          "runs": 925
         },
         {
          "episodes": 1,
          "runs": 926
         },
         {
          "episodes": 1,
          "runs": 927
         },
         {
          "episodes": 1000,
          "runs": 928
         },
         {
          "episodes": 120,
          "runs": 929
         },
         {
          "episodes": 1,
          "runs": 930
         },
         {
          "episodes": 140,
          "runs": 931
         },
         {
          "episodes": 1,
          "runs": 932
         },
         {
          "episodes": 118,
          "runs": 933
         },
         {
          "episodes": 1,
          "runs": 934
         },
         {
          "episodes": 344,
          "runs": 935
         },
         {
          "episodes": 1,
          "runs": 936
         },
         {
          "episodes": 118,
          "runs": 937
         },
         {
          "episodes": 1,
          "runs": 938
         },
         {
          "episodes": 1000,
          "runs": 939
         },
         {
          "episodes": 1000,
          "runs": 940
         },
         {
          "episodes": 1,
          "runs": 941
         },
         {
          "episodes": 1,
          "runs": 942
         },
         {
          "episodes": 1,
          "runs": 943
         },
         {
          "episodes": 1,
          "runs": 944
         },
         {
          "episodes": 1,
          "runs": 945
         },
         {
          "episodes": 120,
          "runs": 946
         },
         {
          "episodes": 1000,
          "runs": 947
         },
         {
          "episodes": 1,
          "runs": 948
         },
         {
          "episodes": 1000,
          "runs": 949
         },
         {
          "episodes": 1000,
          "runs": 950
         },
         {
          "episodes": 1,
          "runs": 951
         },
         {
          "episodes": 374,
          "runs": 952
         },
         {
          "episodes": 118,
          "runs": 953
         },
         {
          "episodes": 118,
          "runs": 954
         },
         {
          "episodes": 133,
          "runs": 955
         },
         {
          "episodes": 118,
          "runs": 956
         },
         {
          "episodes": 118,
          "runs": 957
         },
         {
          "episodes": 1,
          "runs": 958
         },
         {
          "episodes": 1,
          "runs": 959
         },
         {
          "episodes": 1,
          "runs": 960
         },
         {
          "episodes": 1000,
          "runs": 961
         },
         {
          "episodes": 118,
          "runs": 962
         },
         {
          "episodes": 118,
          "runs": 963
         },
         {
          "episodes": 120,
          "runs": 964
         },
         {
          "episodes": 644,
          "runs": 965
         },
         {
          "episodes": 118,
          "runs": 966
         },
         {
          "episodes": 118,
          "runs": 967
         },
         {
          "episodes": 1000,
          "runs": 968
         },
         {
          "episodes": 118,
          "runs": 969
         },
         {
          "episodes": 1,
          "runs": 970
         },
         {
          "episodes": 1,
          "runs": 971
         },
         {
          "episodes": 120,
          "runs": 972
         },
         {
          "episodes": 118,
          "runs": 973
         },
         {
          "episodes": 118,
          "runs": 974
         },
         {
          "episodes": 118,
          "runs": 975
         },
         {
          "episodes": 1,
          "runs": 976
         },
         {
          "episodes": 1000,
          "runs": 977
         },
         {
          "episodes": 1,
          "runs": 978
         },
         {
          "episodes": 1000,
          "runs": 979
         },
         {
          "episodes": 1000,
          "runs": 980
         },
         {
          "episodes": 1,
          "runs": 981
         },
         {
          "episodes": 1,
          "runs": 982
         },
         {
          "episodes": 1000,
          "runs": 983
         },
         {
          "episodes": 1000,
          "runs": 984
         },
         {
          "episodes": 1000,
          "runs": 985
         },
         {
          "episodes": 1000,
          "runs": 986
         },
         {
          "episodes": 966,
          "runs": 987
         },
         {
          "episodes": 1,
          "runs": 988
         },
         {
          "episodes": 1,
          "runs": 989
         },
         {
          "episodes": 1,
          "runs": 990
         },
         {
          "episodes": 929,
          "runs": 991
         },
         {
          "episodes": 120,
          "runs": 992
         },
         {
          "episodes": 1,
          "runs": 993
         },
         {
          "episodes": 1000,
          "runs": 994
         },
         {
          "episodes": 1000,
          "runs": 995
         },
         {
          "episodes": 1000,
          "runs": 996
         },
         {
          "episodes": 1,
          "runs": 997
         },
         {
          "episodes": 201,
          "runs": 998
         },
         {
          "episodes": 1000,
          "runs": 999
         }
        ]
       },
       "layer": [
        {
         "data": {
          "name": "data-eb0d2e121c530ca96ff3e9b07c4a7607"
         },
         "encoding": {
          "x": {
           "bin": true,
           "field": "episodes",
           "title": "Binned Episodes",
           "type": "quantitative"
          },
          "y": {
           "aggregate": "count",
           "field": "episodes",
           "type": "quantitative"
          }
         },
         "mark": "bar",
         "title": "Adaptive noise scaling (runs=1000)"
        },
        {
         "data": {
          "name": "data-eb0d2e121c530ca96ff3e9b07c4a7607"
         },
         "encoding": {
          "size": {
           "value": 3
          },
          "x": {
           "aggregate": "mean",
           "field": "episodes",
           "type": "quantitative"
          }
         },
         "mark": {
          "color": "red",
          "type": "rule"
         }
        }
       ]
      },
      "image/png": "[encoded data removed]",
      "text/plain": [
       "<VegaLite 2 object>\n",
       "\n",
       "If you see this message, it means the renderer has not been properly enabled\n",
       "for the frontend that you are using. For more information, see\n",
       "https://altair-viz.github.io/user_guide/troubleshooting.html\n"
      ]
     },
     "execution_count": 40,
     "metadata": {},
     "output_type": "execute_result"
    }
   ],
   "source": [
    "chart, ada_df = plot(data_dir, 'ada', altair=True, title=\"Adaptive noise scaling (runs=1000)\")\n",
    "chart"
   ]
  },
  {
   "cell_type": "code",
   "execution_count": 105,
   "metadata": {},
   "outputs": [
    {
     "data": {
      "text/plain": [
       "count    1000.000000\n",
       "mean      660.340000\n",
       "std       473.471858\n",
       "min         1.000000\n",
       "25%         1.000000\n",
       "50%      1000.000000\n",
       "75%      1000.000000\n",
       "max      1000.000000\n",
       "Name: random, dtype: float64"
      ]
     },
     "execution_count": 105,
     "metadata": {},
     "output_type": "execute_result"
    }
   ],
   "source": [
    "random_series = random_df.episodes.describe()\n",
    "random_series.name = 'random'\n",
    "random_series"
   ]
  },
  {
   "cell_type": "code",
   "execution_count": 106,
   "metadata": {},
   "outputs": [
    {
     "data": {
      "text/html": [
       "<div>\n",
       "<style scoped>\n",
       "    .dataframe tbody tr th:only-of-type {\n",
       "        vertical-align: middle;\n",
       "    }\n",
       "\n",
       "    .dataframe tbody tr th {\n",
       "        vertical-align: top;\n",
       "    }\n",
       "\n",
       "    .dataframe thead th {\n",
       "        text-align: right;\n",
       "    }\n",
       "</style>\n",
       "<table border=\"1\" class=\"dataframe\">\n",
       "  <thead>\n",
       "    <tr style=\"text-align: right;\">\n",
       "      <th></th>\n",
       "      <th>random</th>\n",
       "    </tr>\n",
       "  </thead>\n",
       "  <tbody>\n",
       "    <tr>\n",
       "      <th>count</th>\n",
       "      <td>1000.000000</td>\n",
       "    </tr>\n",
       "    <tr>\n",
       "      <th>mean</th>\n",
       "      <td>660.340000</td>\n",
       "    </tr>\n",
       "    <tr>\n",
       "      <th>std</th>\n",
       "      <td>473.471858</td>\n",
       "    </tr>\n",
       "    <tr>\n",
       "      <th>min</th>\n",
       "      <td>1.000000</td>\n",
       "    </tr>\n",
       "    <tr>\n",
       "      <th>25%</th>\n",
       "      <td>1.000000</td>\n",
       "    </tr>\n",
       "  </tbody>\n",
       "</table>\n",
       "</div>"
      ],
      "text/plain": [
       "            random\n",
       "count  1000.000000\n",
       "mean    660.340000\n",
       "std     473.471858\n",
       "min       1.000000\n",
       "25%       1.000000"
      ]
     },
     "execution_count": 106,
     "metadata": {},
     "output_type": "execute_result"
    }
   ],
   "source": [
    "all_df = pd.DataFrame(random_series)\n",
    "all_df.head()"
   ]
  },
  {
   "cell_type": "code",
   "execution_count": 107,
   "metadata": {},
   "outputs": [
    {
     "data": {
      "text/plain": [
       "count    1000.000\n",
       "mean      367.374\n",
       "std       399.116\n",
       "min         1.000\n",
       "25%         1.000\n",
       "50%       217.000\n",
       "75%       912.000\n",
       "max      1000.000\n",
       "Name: vanilla, dtype: float64"
      ]
     },
     "execution_count": 107,
     "metadata": {},
     "output_type": "execute_result"
    }
   ],
   "source": [
    "vanilla_series = vanilla_df.episodes.describe()\n",
    "vanilla_series.name = 'vanilla'\n",
    "vanilla_series"
   ]
  },
  {
   "cell_type": "code",
   "execution_count": 108,
   "metadata": {},
   "outputs": [
    {
     "data": {
      "text/plain": [
       "count    1000.000000\n",
       "mean       73.383000\n",
       "std        53.217821\n",
       "min         1.000000\n",
       "25%         1.000000\n",
       "50%       103.000000\n",
       "75%       103.000000\n",
       "max       418.000000\n",
       "Name: steepest, dtype: float64"
      ]
     },
     "execution_count": 108,
     "metadata": {},
     "output_type": "execute_result"
    }
   ],
   "source": [
    "steepest_series = steepest_df.episodes.describe()\n",
    "steepest_series.name = 'steepest'\n",
    "steepest_series"
   ]
  },
  {
   "cell_type": "code",
   "execution_count": 109,
   "metadata": {},
   "outputs": [
    {
     "data": {
      "text/plain": [
       "count    1000.00000\n",
       "mean      366.85900\n",
       "std       380.82428\n",
       "min         1.00000\n",
       "25%         1.00000\n",
       "50%       217.00000\n",
       "75%       912.00000\n",
       "max      1000.00000\n",
       "Name: anneal, dtype: float64"
      ]
     },
     "execution_count": 109,
     "metadata": {},
     "output_type": "execute_result"
    }
   ],
   "source": [
    "anneal_series = anneal_df.episodes.describe()\n",
    "anneal_series.name = 'anneal'\n",
    "anneal_series"
   ]
  },
  {
   "cell_type": "code",
   "execution_count": 110,
   "metadata": {},
   "outputs": [
    {
     "data": {
      "text/plain": [
       "count    1000.00000\n",
       "mean      346.61200\n",
       "std       422.69157\n",
       "min         1.00000\n",
       "25%         1.00000\n",
       "50%       118.00000\n",
       "75%      1000.00000\n",
       "max      1000.00000\n",
       "Name: adaptive, dtype: float64"
      ]
     },
     "execution_count": 110,
     "metadata": {},
     "output_type": "execute_result"
    }
   ],
   "source": [
    "ada_series = ada_df.episodes.describe()\n",
    "ada_series.name = 'adaptive'\n",
    "ada_series"
   ]
  },
  {
   "cell_type": "code",
   "execution_count": 131,
   "metadata": {},
   "outputs": [],
   "source": [
    "data=[random_series, vanilla_series, steepest_series, anneal_series, ada_series]"
   ]
  },
  {
   "cell_type": "code",
   "execution_count": 132,
   "metadata": {},
   "outputs": [
    {
     "data": {
      "text/plain": [
       "['random', 'vanilla', 'steepest', 'anneal', 'adaptive']"
      ]
     },
     "execution_count": 132,
     "metadata": {},
     "output_type": "execute_result"
    }
   ],
   "source": [
    "[d.name for d in data]"
   ]
  },
  {
   "cell_type": "code",
   "execution_count": 142,
   "metadata": {},
   "outputs": [],
   "source": [
    "all_df = pd.DataFrame(data)"
   ]
  },
  {
   "cell_type": "code",
   "execution_count": 143,
   "metadata": {},
   "outputs": [
    {
     "data": {
      "text/html": [
       "<div>\n",
       "<style scoped>\n",
       "    .dataframe tbody tr th:only-of-type {\n",
       "        vertical-align: middle;\n",
       "    }\n",
       "\n",
       "    .dataframe tbody tr th {\n",
       "        vertical-align: top;\n",
       "    }\n",
       "\n",
       "    .dataframe thead th {\n",
       "        text-align: right;\n",
       "    }\n",
       "</style>\n",
       "<table border=\"1\" class=\"dataframe\">\n",
       "  <thead>\n",
       "    <tr style=\"text-align: right;\">\n",
       "      <th></th>\n",
       "      <th>index</th>\n",
       "      <th>count</th>\n",
       "      <th>mean</th>\n",
       "      <th>std</th>\n",
       "      <th>min</th>\n",
       "      <th>25%</th>\n",
       "      <th>50%</th>\n",
       "      <th>75%</th>\n",
       "      <th>max</th>\n",
       "    </tr>\n",
       "  </thead>\n",
       "  <tbody>\n",
       "    <tr>\n",
       "      <th>0</th>\n",
       "      <td>random</td>\n",
       "      <td>1000.0</td>\n",
       "      <td>660.340</td>\n",
       "      <td>473.471858</td>\n",
       "      <td>1.0</td>\n",
       "      <td>1.0</td>\n",
       "      <td>1000.0</td>\n",
       "      <td>1000.0</td>\n",
       "      <td>1000.0</td>\n",
       "    </tr>\n",
       "    <tr>\n",
       "      <th>1</th>\n",
       "      <td>vanilla</td>\n",
       "      <td>1000.0</td>\n",
       "      <td>367.374</td>\n",
       "      <td>399.116000</td>\n",
       "      <td>1.0</td>\n",
       "      <td>1.0</td>\n",
       "      <td>217.0</td>\n",
       "      <td>912.0</td>\n",
       "      <td>1000.0</td>\n",
       "    </tr>\n",
       "    <tr>\n",
       "      <th>2</th>\n",
       "      <td>steepest</td>\n",
       "      <td>1000.0</td>\n",
       "      <td>73.383</td>\n",
       "      <td>53.217821</td>\n",
       "      <td>1.0</td>\n",
       "      <td>1.0</td>\n",
       "      <td>103.0</td>\n",
       "      <td>103.0</td>\n",
       "      <td>418.0</td>\n",
       "    </tr>\n",
       "    <tr>\n",
       "      <th>3</th>\n",
       "      <td>anneal</td>\n",
       "      <td>1000.0</td>\n",
       "      <td>366.859</td>\n",
       "      <td>380.824280</td>\n",
       "      <td>1.0</td>\n",
       "      <td>1.0</td>\n",
       "      <td>217.0</td>\n",
       "      <td>912.0</td>\n",
       "      <td>1000.0</td>\n",
       "    </tr>\n",
       "    <tr>\n",
       "      <th>4</th>\n",
       "      <td>adaptive</td>\n",
       "      <td>1000.0</td>\n",
       "      <td>346.612</td>\n",
       "      <td>422.691570</td>\n",
       "      <td>1.0</td>\n",
       "      <td>1.0</td>\n",
       "      <td>118.0</td>\n",
       "      <td>1000.0</td>\n",
       "      <td>1000.0</td>\n",
       "    </tr>\n",
       "  </tbody>\n",
       "</table>\n",
       "</div>"
      ],
      "text/plain": [
       "      index   count     mean         std  min  25%     50%     75%     max\n",
       "0    random  1000.0  660.340  473.471858  1.0  1.0  1000.0  1000.0  1000.0\n",
       "1   vanilla  1000.0  367.374  399.116000  1.0  1.0   217.0   912.0  1000.0\n",
       "2  steepest  1000.0   73.383   53.217821  1.0  1.0   103.0   103.0   418.0\n",
       "3    anneal  1000.0  366.859  380.824280  1.0  1.0   217.0   912.0  1000.0\n",
       "4  adaptive  1000.0  346.612  422.691570  1.0  1.0   118.0  1000.0  1000.0"
      ]
     },
     "execution_count": 143,
     "metadata": {},
     "output_type": "execute_result"
    }
   ],
   "source": [
    "all_df.reset_index()"
   ]
  },
  {
   "cell_type": "code",
   "execution_count": 166,
   "metadata": {},
   "outputs": [
    {
     "data": {
      "text/plain": [
       "362.9136"
      ]
     },
     "execution_count": 166,
     "metadata": {},
     "output_type": "execute_result"
    }
   ],
   "source": [
    "all_df['mean'].mean()"
   ]
  },
  {
   "cell_type": "code",
   "execution_count": 156,
   "metadata": {},
   "outputs": [],
   "source": [
    "all_df.to_csv('all_runs.csv')"
   ]
  },
  {
   "cell_type": "code",
   "execution_count": 153,
   "metadata": {},
   "outputs": [
    {
     "data": {
      "application/vnd.vegalite.v2+json": {
       "$schema": "https://vega.github.io/schema/vega-lite/v2.6.0.json",
       "config": {
        "view": {
         "height": 300,
         "width": 400
        }
       },
       "data": {
        "name": "data-d4d6515b6f999bb1107679e1f6ca38ac"
       },
       "datasets": {
        "data-d4d6515b6f999bb1107679e1f6ca38ac": [
         {
          "25%": 1,
          "50%": 1000,
          "75%": 1000,
          "count": 1000,
          "index": "random",
          "max": 1000,
          "mean": 660.34,
          "min": 1,
          "std": 473.47185766421217
         },
         {
          "25%": 1,
          "50%": 217,
          "75%": 912,
          "count": 1000,
          "index": "vanilla",
          "max": 1000,
          "mean": 367.374,
          "min": 1,
          "std": 399.1160003128234
         },
         {
          "25%": 1,
          "50%": 103,
          "75%": 103,
          "count": 1000,
          "index": "steepest",
          "max": 418,
          "mean": 73.383,
          "min": 1,
          "std": 53.21782076943256
         },
         {
          "25%": 1,
          "50%": 217,
          "75%": 912,
          "count": 1000,
          "index": "anneal",
          "max": 1000,
          "mean": 366.859,
          "min": 1,
          "std": 380.82428001803044
         },
         {
          "25%": 1,
          "50%": 118,
          "75%": 1000,
          "count": 1000,
          "index": "adaptive",
          "max": 1000,
          "mean": 346.612,
          "min": 1,
          "std": 422.691570320038
         }
        ]
       },
       "encoding": {
        "x": {
         "field": "mean",
         "title": "Episodes",
         "type": "quantitative"
        },
        "y": {
         "field": "index",
         "title": "Policy name",
         "type": "nominal"
        }
       },
       "mark": "bar",
       "title": "Mean episodes to solve CartPole"
      },
      "image/png": "[encoded data removed]",
      "text/plain": [
       "<VegaLite 2 object>\n",
       "\n",
       "If you see this message, it means the renderer has not been properly enabled\n",
       "for the frontend that you are using. For more information, see\n",
       "https://altair-viz.github.io/user_guide/troubleshooting.html\n"
      ]
     },
     "execution_count": 153,
     "metadata": {},
     "output_type": "execute_result"
    }
   ],
   "source": [
    "# Plot\n",
    "alt.Chart(all_df.reset_index()).mark_bar().encode(\n",
    "    alt.X(\"mean\", title=\"Episodes\"),\n",
    "    alt.Y(\"index\", title=\"Policy name\")\n",
    ").properties(\n",
    "    title=\"Mean episodes to solve CartPole\"\n",
    ")"
   ]
  },
  {
   "cell_type": "code",
   "execution_count": 154,
   "metadata": {},
   "outputs": [
    {
     "data": {
      "application/vnd.vegalite.v2+json": {
       "$schema": "https://vega.github.io/schema/vega-lite/v2.6.0.json",
       "config": {
        "view": {
         "height": 300,
         "width": 400
        }
       },
       "data": {
        "name": "data-d4d6515b6f999bb1107679e1f6ca38ac"
       },
       "datasets": {
        "data-d4d6515b6f999bb1107679e1f6ca38ac": [
         {
          "25%": 1,
          "50%": 1000,
          "75%": 1000,
          "count": 1000,
          "index": "random",
          "max": 1000,
          "mean": 660.34,
          "min": 1,
          "std": 473.47185766421217
         },
         {
          "25%": 1,
          "50%": 217,
          "75%": 912,
          "count": 1000,
          "index": "vanilla",
          "max": 1000,
          "mean": 367.374,
          "min": 1,
          "std": 399.1160003128234
         },
         {
          "25%": 1,
          "50%": 103,
          "75%": 103,
          "count": 1000,
          "index": "steepest",
          "max": 418,
          "mean": 73.383,
          "min": 1,
          "std": 53.21782076943256
         },
         {
          "25%": 1,
          "50%": 217,
          "75%": 912,
          "count": 1000,
          "index": "anneal",
          "max": 1000,
          "mean": 366.859,
          "min": 1,
          "std": 380.82428001803044
         },
         {
          "25%": 1,
          "50%": 118,
          "75%": 1000,
          "count": 1000,
          "index": "adaptive",
          "max": 1000,
          "mean": 346.612,
          "min": 1,
          "std": 422.691570320038
         }
        ]
       },
       "encoding": {
        "x": {
         "field": "75%",
         "title": "Episodes",
         "type": "quantitative"
        },
        "y": {
         "field": "index",
         "title": "Policy name",
         "type": "nominal"
        }
       },
       "mark": "bar",
       "title": "75th percentile episodes to solve CartPole"
      },
      "image/png": "[encoded data removed]",
      "text/plain": [
       "<VegaLite 2 object>\n",
       "\n",
       "If you see this message, it means the renderer has not been properly enabled\n",
       "for the frontend that you are using. For more information, see\n",
       "https://altair-viz.github.io/user_guide/troubleshooting.html\n"
      ]
     },
     "execution_count": 154,
     "metadata": {},
     "output_type": "execute_result"
    }
   ],
   "source": [
    "alt.Chart(all_df.reset_index()).mark_bar().encode(\n",
    "    alt.X(\"75%\", title=\"Episodes\"),\n",
    "    alt.Y(\"index\", title=\"Policy name\")\n",
    ").properties(\n",
    "    title=\"75th percentile episodes to solve CartPole\"\n",
    ")"
   ]
  },
  {
   "cell_type": "code",
   "execution_count": 155,
   "metadata": {},
   "outputs": [
    {
     "data": {
      "application/vnd.vegalite.v2+json": {
       "$schema": "https://vega.github.io/schema/vega-lite/v2.6.0.json",
       "config": {
        "view": {
         "height": 300,
         "width": 400
        }
       },
       "data": {
        "name": "data-d4d6515b6f999bb1107679e1f6ca38ac"
       },
       "datasets": {
        "data-d4d6515b6f999bb1107679e1f6ca38ac": [
         {
          "25%": 1,
          "50%": 1000,
          "75%": 1000,
          "count": 1000,
          "index": "random",
          "max": 1000,
          "mean": 660.34,
          "min": 1,
          "std": 473.47185766421217
         },
         {
          "25%": 1,
          "50%": 217,
          "75%": 912,
          "count": 1000,
          "index": "vanilla",
          "max": 1000,
          "mean": 367.374,
          "min": 1,
          "std": 399.1160003128234
         },
         {
          "25%": 1,
          "50%": 103,
          "75%": 103,
          "count": 1000,
          "index": "steepest",
          "max": 418,
          "mean": 73.383,
          "min": 1,
          "std": 53.21782076943256
         },
         {
          "25%": 1,
          "50%": 217,
          "75%": 912,
          "count": 1000,
          "index": "anneal",
          "max": 1000,
          "mean": 366.859,
          "min": 1,
          "std": 380.82428001803044
         },
         {
          "25%": 1,
          "50%": 118,
          "75%": 1000,
          "count": 1000,
          "index": "adaptive",
          "max": 1000,
          "mean": 346.612,
          "min": 1,
          "std": 422.691570320038
         }
        ]
       },
       "encoding": {
        "x": {
         "field": "50%",
         "title": "Episodes",
         "type": "quantitative"
        },
        "y": {
         "field": "index",
         "title": "Policy name",
         "type": "nominal"
        }
       },
       "mark": "bar",
       "title": "50th percentile episodes to solve CartPole"
      },
      "image/png": "[encoded data removed]",
      "text/plain": [
       "<VegaLite 2 object>\n",
       "\n",
       "If you see this message, it means the renderer has not been properly enabled\n",
       "for the frontend that you are using. For more information, see\n",
       "https://altair-viz.github.io/user_guide/troubleshooting.html\n"
      ]
     },
     "execution_count": 155,
     "metadata": {},
     "output_type": "execute_result"
    }
   ],
   "source": [
    "alt.Chart(all_df.reset_index()).mark_bar().encode(\n",
    "    alt.X(\"50%\", title=\"Episodes\"),\n",
    "    alt.Y(\"index\", title=\"Policy name\")\n",
    ").properties(\n",
    "    title=\"50th percentile episodes to solve CartPole\"\n",
    ")"
   ]
  },
  {
   "cell_type": "code",
   "execution_count": null,
   "metadata": {},
   "outputs": [],
   "source": []
  }
 ],
 "metadata": {
  "kernelspec": {
   "display_name": "tensorflow",
   "language": "python",
   "name": "tensorflow"
  },
  "language_info": {
   "codemirror_mode": {
    "name": "ipython",
    "version": 3
   },
   "file_extension": ".py",
   "mimetype": "text/x-python",
   "name": "python",
   "nbconvert_exporter": "python",
   "pygments_lexer": "ipython3",
   "version": "3.6.6"
  }
 },
 "nbformat": 4,
 "nbformat_minor": 2
}
